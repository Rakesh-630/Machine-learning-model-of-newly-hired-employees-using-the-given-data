{
 "cells": [
  {
   "cell_type": "markdown",
   "id": "a2709b44-8c61-40ea-9392-bdbfa373dd02",
   "metadata": {},
   "source": [
    "# ***TechWorks consulting company***"
   ]
  },
  {
   "cell_type": "code",
   "execution_count": 2,
   "id": "40ea95a2-9dcd-4207-b1d1-621e2321a985",
   "metadata": {},
   "outputs": [],
   "source": [
    "import numpy as np\n",
    "import pandas as pd\n",
    "import seaborn as sns"
   ]
  },
  {
   "cell_type": "code",
   "execution_count": 3,
   "id": "86ebf957-4c6f-4860-acdb-881e29e08eff",
   "metadata": {},
   "outputs": [],
   "source": [
    "df1=pd.read_csv('C:/Users/Rakesh/ML case Study.csv',header=0)"
   ]
  },
  {
   "cell_type": "code",
   "execution_count": 4,
   "id": "3e96b0cd-0d4e-4fa1-8470-6bdb6e8e84ee",
   "metadata": {},
   "outputs": [
    {
     "data": {
      "text/html": [
       "<div>\n",
       "<style scoped>\n",
       "    .dataframe tbody tr th:only-of-type {\n",
       "        vertical-align: middle;\n",
       "    }\n",
       "\n",
       "    .dataframe tbody tr th {\n",
       "        vertical-align: top;\n",
       "    }\n",
       "\n",
       "    .dataframe thead th {\n",
       "        text-align: right;\n",
       "    }\n",
       "</style>\n",
       "<table border=\"1\" class=\"dataframe\">\n",
       "  <thead>\n",
       "    <tr style=\"text-align: right;\">\n",
       "      <th></th>\n",
       "      <th>College</th>\n",
       "      <th>City</th>\n",
       "      <th>Role</th>\n",
       "      <th>Previous CTC</th>\n",
       "      <th>Previous job change</th>\n",
       "      <th>Graduation Marks</th>\n",
       "      <th>EXP (Month)</th>\n",
       "      <th>CTC</th>\n",
       "    </tr>\n",
       "  </thead>\n",
       "  <tbody>\n",
       "    <tr>\n",
       "      <th>0</th>\n",
       "      <td>SVNIT Surat</td>\n",
       "      <td>Asansol</td>\n",
       "      <td>Manager</td>\n",
       "      <td>55523.0</td>\n",
       "      <td>3</td>\n",
       "      <td>66</td>\n",
       "      <td>19</td>\n",
       "      <td>71406.58</td>\n",
       "    </tr>\n",
       "    <tr>\n",
       "      <th>1</th>\n",
       "      <td>NIT Bhopal</td>\n",
       "      <td>Ajmer</td>\n",
       "      <td>Executive</td>\n",
       "      <td>57081.0</td>\n",
       "      <td>1</td>\n",
       "      <td>84</td>\n",
       "      <td>18</td>\n",
       "      <td>68005.87</td>\n",
       "    </tr>\n",
       "    <tr>\n",
       "      <th>2</th>\n",
       "      <td>IEM, Kolkata</td>\n",
       "      <td>Rajpur Sonarpur</td>\n",
       "      <td>Executive</td>\n",
       "      <td>60347.0</td>\n",
       "      <td>2</td>\n",
       "      <td>52</td>\n",
       "      <td>28</td>\n",
       "      <td>76764.02</td>\n",
       "    </tr>\n",
       "    <tr>\n",
       "      <th>3</th>\n",
       "      <td>KIIT, Bhubaneswar</td>\n",
       "      <td>Ajmer</td>\n",
       "      <td>Executive</td>\n",
       "      <td>49010.0</td>\n",
       "      <td>2</td>\n",
       "      <td>81</td>\n",
       "      <td>33</td>\n",
       "      <td>82092.39</td>\n",
       "    </tr>\n",
       "    <tr>\n",
       "      <th>4</th>\n",
       "      <td>DTU</td>\n",
       "      <td>Durgapur</td>\n",
       "      <td>Executive</td>\n",
       "      <td>57879.0</td>\n",
       "      <td>4</td>\n",
       "      <td>74</td>\n",
       "      <td>32</td>\n",
       "      <td>73878.10</td>\n",
       "    </tr>\n",
       "    <tr>\n",
       "      <th>...</th>\n",
       "      <td>...</td>\n",
       "      <td>...</td>\n",
       "      <td>...</td>\n",
       "      <td>...</td>\n",
       "      <td>...</td>\n",
       "      <td>...</td>\n",
       "      <td>...</td>\n",
       "      <td>...</td>\n",
       "    </tr>\n",
       "    <tr>\n",
       "      <th>1584</th>\n",
       "      <td>BITS Pilani (Goa Campus)</td>\n",
       "      <td>Surat</td>\n",
       "      <td>Executive</td>\n",
       "      <td>61285.0</td>\n",
       "      <td>3</td>\n",
       "      <td>44</td>\n",
       "      <td>60</td>\n",
       "      <td>77283.59</td>\n",
       "    </tr>\n",
       "    <tr>\n",
       "      <th>1585</th>\n",
       "      <td>NIT Warangal</td>\n",
       "      <td>Rajpur Sonarpur</td>\n",
       "      <td>Executive</td>\n",
       "      <td>63140.0</td>\n",
       "      <td>1</td>\n",
       "      <td>44</td>\n",
       "      <td>24</td>\n",
       "      <td>68416.86</td>\n",
       "    </tr>\n",
       "    <tr>\n",
       "      <th>1586</th>\n",
       "      <td>NIT Tiruchipally (Trichy)</td>\n",
       "      <td>Ahmedabad</td>\n",
       "      <td>Executive</td>\n",
       "      <td>44907.0</td>\n",
       "      <td>1</td>\n",
       "      <td>60</td>\n",
       "      <td>19</td>\n",
       "      <td>70186.19</td>\n",
       "    </tr>\n",
       "    <tr>\n",
       "      <th>1587</th>\n",
       "      <td>IIIT Hyderabad</td>\n",
       "      <td>Durgapur</td>\n",
       "      <td>Executive</td>\n",
       "      <td>52054.0</td>\n",
       "      <td>2</td>\n",
       "      <td>67</td>\n",
       "      <td>29</td>\n",
       "      <td>73394.09</td>\n",
       "    </tr>\n",
       "    <tr>\n",
       "      <th>1588</th>\n",
       "      <td>R.V. College of Engineering</td>\n",
       "      <td>Delhi</td>\n",
       "      <td>Manager</td>\n",
       "      <td>44353.0</td>\n",
       "      <td>3</td>\n",
       "      <td>75</td>\n",
       "      <td>18</td>\n",
       "      <td>70056.31</td>\n",
       "    </tr>\n",
       "  </tbody>\n",
       "</table>\n",
       "<p>1589 rows × 8 columns</p>\n",
       "</div>"
      ],
      "text/plain": [
       "                          College             City       Role  Previous CTC  \\\n",
       "0                     SVNIT Surat          Asansol    Manager       55523.0   \n",
       "1                      NIT Bhopal            Ajmer  Executive       57081.0   \n",
       "2                    IEM, Kolkata  Rajpur Sonarpur  Executive       60347.0   \n",
       "3               KIIT, Bhubaneswar            Ajmer  Executive       49010.0   \n",
       "4                             DTU         Durgapur  Executive       57879.0   \n",
       "...                           ...              ...        ...           ...   \n",
       "1584     BITS Pilani (Goa Campus)            Surat  Executive       61285.0   \n",
       "1585                 NIT Warangal  Rajpur Sonarpur  Executive       63140.0   \n",
       "1586    NIT Tiruchipally (Trichy)        Ahmedabad  Executive       44907.0   \n",
       "1587               IIIT Hyderabad         Durgapur  Executive       52054.0   \n",
       "1588  R.V. College of Engineering            Delhi    Manager       44353.0   \n",
       "\n",
       "      Previous job change  Graduation Marks  EXP (Month)       CTC  \n",
       "0                       3                66           19  71406.58  \n",
       "1                       1                84           18  68005.87  \n",
       "2                       2                52           28  76764.02  \n",
       "3                       2                81           33  82092.39  \n",
       "4                       4                74           32  73878.10  \n",
       "...                   ...               ...          ...       ...  \n",
       "1584                    3                44           60  77283.59  \n",
       "1585                    1                44           24  68416.86  \n",
       "1586                    1                60           19  70186.19  \n",
       "1587                    2                67           29  73394.09  \n",
       "1588                    3                75           18  70056.31  \n",
       "\n",
       "[1589 rows x 8 columns]"
      ]
     },
     "execution_count": 4,
     "metadata": {},
     "output_type": "execute_result"
    }
   ],
   "source": [
    "df1"
   ]
  },
  {
   "cell_type": "code",
   "execution_count": 5,
   "id": "5dcbbb62-fcbf-465f-a41e-31165dccdc0a",
   "metadata": {},
   "outputs": [],
   "source": [
    "df2=pd.read_csv('C:/Users/Rakesh/Colleges.csv',header=0)"
   ]
  },
  {
   "cell_type": "code",
   "execution_count": 6,
   "id": "2281d7f2-d847-4127-b12a-7eda64549f7f",
   "metadata": {},
   "outputs": [
    {
     "data": {
      "text/html": [
       "<div>\n",
       "<style scoped>\n",
       "    .dataframe tbody tr th:only-of-type {\n",
       "        vertical-align: middle;\n",
       "    }\n",
       "\n",
       "    .dataframe tbody tr th {\n",
       "        vertical-align: top;\n",
       "    }\n",
       "\n",
       "    .dataframe thead th {\n",
       "        text-align: right;\n",
       "    }\n",
       "</style>\n",
       "<table border=\"1\" class=\"dataframe\">\n",
       "  <thead>\n",
       "    <tr style=\"text-align: right;\">\n",
       "      <th></th>\n",
       "      <th>Tier 1</th>\n",
       "      <th>Tier 2</th>\n",
       "      <th>Tier 3</th>\n",
       "    </tr>\n",
       "  </thead>\n",
       "  <tbody>\n",
       "    <tr>\n",
       "      <th>0</th>\n",
       "      <td>IIT Bombay</td>\n",
       "      <td>IIIT Bangalore</td>\n",
       "      <td>Ramaiah Institute of Technology, Bengaluru</td>\n",
       "    </tr>\n",
       "    <tr>\n",
       "      <th>1</th>\n",
       "      <td>IIT Delhi</td>\n",
       "      <td>IIIT Delhi</td>\n",
       "      <td>TIET/Thapar University</td>\n",
       "    </tr>\n",
       "    <tr>\n",
       "      <th>2</th>\n",
       "      <td>IIT Kharagpur</td>\n",
       "      <td>IGDTUW</td>\n",
       "      <td>Manipal Main Campus</td>\n",
       "    </tr>\n",
       "    <tr>\n",
       "      <th>3</th>\n",
       "      <td>IIT Madras</td>\n",
       "      <td>NIT Calicut</td>\n",
       "      <td>VIT Vellore</td>\n",
       "    </tr>\n",
       "    <tr>\n",
       "      <th>4</th>\n",
       "      <td>IIT Kanpur</td>\n",
       "      <td>IIITM Gwalior</td>\n",
       "      <td>SRM Main Campus</td>\n",
       "    </tr>\n",
       "    <tr>\n",
       "      <th>5</th>\n",
       "      <td>IIT Roorkee</td>\n",
       "      <td>IIIT Lucknow</td>\n",
       "      <td>KIIT, Bhubaneswar</td>\n",
       "    </tr>\n",
       "    <tr>\n",
       "      <th>6</th>\n",
       "      <td>IIT Guwahati</td>\n",
       "      <td>MNNIT Allahabad</td>\n",
       "      <td>Amity University</td>\n",
       "    </tr>\n",
       "    <tr>\n",
       "      <th>7</th>\n",
       "      <td>IIIT Hyderabad</td>\n",
       "      <td>Punjab Engineering College</td>\n",
       "      <td>BMS College, Bangalore</td>\n",
       "    </tr>\n",
       "    <tr>\n",
       "      <th>8</th>\n",
       "      <td>BITS Pilani (Pilani Campus)</td>\n",
       "      <td>DAIICT</td>\n",
       "      <td>PES University, Bangalore</td>\n",
       "    </tr>\n",
       "    <tr>\n",
       "      <th>9</th>\n",
       "      <td>IIT Indore</td>\n",
       "      <td>MNIT Jaipur</td>\n",
       "      <td>USIT, Delhi</td>\n",
       "    </tr>\n",
       "    <tr>\n",
       "      <th>10</th>\n",
       "      <td>IIT Ropar</td>\n",
       "      <td>NIT Durgapur</td>\n",
       "      <td>MAIT, Delhi</td>\n",
       "    </tr>\n",
       "    <tr>\n",
       "      <th>11</th>\n",
       "      <td>IIT BHU (Varanasi)</td>\n",
       "      <td>VNIT Nagpur</td>\n",
       "      <td>MSIT, Delhi</td>\n",
       "    </tr>\n",
       "    <tr>\n",
       "      <th>12</th>\n",
       "      <td>IIT ISM Dhanbad</td>\n",
       "      <td>LNMIIT</td>\n",
       "      <td>Dayanand College of Engineering, Bangalore</td>\n",
       "    </tr>\n",
       "    <tr>\n",
       "      <th>13</th>\n",
       "      <td>DTU</td>\n",
       "      <td>BIT Mesra</td>\n",
       "      <td>Heritage Institute of Technology, Kolkata</td>\n",
       "    </tr>\n",
       "    <tr>\n",
       "      <th>14</th>\n",
       "      <td>NSUT Delhi (NSIT)</td>\n",
       "      <td>SVNIT Surat</td>\n",
       "      <td>IEM, Kolkata</td>\n",
       "    </tr>\n",
       "    <tr>\n",
       "      <th>15</th>\n",
       "      <td>NIT Tiruchipally (Trichy)</td>\n",
       "      <td>NIT Jalandhar</td>\n",
       "      <td>Techno India, Kolkata</td>\n",
       "    </tr>\n",
       "    <tr>\n",
       "      <th>16</th>\n",
       "      <td>NIT Warangal</td>\n",
       "      <td>NIT Jamshedpur</td>\n",
       "      <td>Jaypee, Noida</td>\n",
       "    </tr>\n",
       "    <tr>\n",
       "      <th>17</th>\n",
       "      <td>NIT Surathkal (Karnataka)</td>\n",
       "      <td>NIT Kurukshetra</td>\n",
       "      <td>Amrita University, Coimbatore</td>\n",
       "    </tr>\n",
       "    <tr>\n",
       "      <th>18</th>\n",
       "      <td>Jadavpur University</td>\n",
       "      <td>NIT Patna</td>\n",
       "      <td>Cummins College of Engineering for Women, Pune</td>\n",
       "    </tr>\n",
       "    <tr>\n",
       "      <th>19</th>\n",
       "      <td>BITS Pilani (Hyderabad Campus)</td>\n",
       "      <td>NIT Raipur</td>\n",
       "      <td>NaN</td>\n",
       "    </tr>\n",
       "    <tr>\n",
       "      <th>20</th>\n",
       "      <td>BITS Pilani (Goa Campus)</td>\n",
       "      <td>NIT Bhopal</td>\n",
       "      <td>NaN</td>\n",
       "    </tr>\n",
       "    <tr>\n",
       "      <th>21</th>\n",
       "      <td>IIIT Allahabad</td>\n",
       "      <td>NIT Rourkela</td>\n",
       "      <td>NaN</td>\n",
       "    </tr>\n",
       "    <tr>\n",
       "      <th>22</th>\n",
       "      <td>NaN</td>\n",
       "      <td>NIT Silchar</td>\n",
       "      <td>NaN</td>\n",
       "    </tr>\n",
       "    <tr>\n",
       "      <th>23</th>\n",
       "      <td>NaN</td>\n",
       "      <td>NIT Sikkim</td>\n",
       "      <td>NaN</td>\n",
       "    </tr>\n",
       "    <tr>\n",
       "      <th>24</th>\n",
       "      <td>NaN</td>\n",
       "      <td>IIIT Jabalpur</td>\n",
       "      <td>NaN</td>\n",
       "    </tr>\n",
       "    <tr>\n",
       "      <th>25</th>\n",
       "      <td>NaN</td>\n",
       "      <td>Jalpaiguri Government Engineering College</td>\n",
       "      <td>NaN</td>\n",
       "    </tr>\n",
       "    <tr>\n",
       "      <th>26</th>\n",
       "      <td>NaN</td>\n",
       "      <td>IIEST/BESU Shibpur</td>\n",
       "      <td>NaN</td>\n",
       "    </tr>\n",
       "    <tr>\n",
       "      <th>27</th>\n",
       "      <td>NaN</td>\n",
       "      <td>R.V. College of Engineering</td>\n",
       "      <td>NaN</td>\n",
       "    </tr>\n",
       "  </tbody>\n",
       "</table>\n",
       "</div>"
      ],
      "text/plain": [
       "                            Tier 1                                     Tier 2  \\\n",
       "0                       IIT Bombay                             IIIT Bangalore   \n",
       "1                        IIT Delhi                                 IIIT Delhi   \n",
       "2                    IIT Kharagpur                                     IGDTUW   \n",
       "3                       IIT Madras                                NIT Calicut   \n",
       "4                       IIT Kanpur                              IIITM Gwalior   \n",
       "5                      IIT Roorkee                               IIIT Lucknow   \n",
       "6                     IIT Guwahati                            MNNIT Allahabad   \n",
       "7                   IIIT Hyderabad                 Punjab Engineering College   \n",
       "8      BITS Pilani (Pilani Campus)                                     DAIICT   \n",
       "9                       IIT Indore                                MNIT Jaipur   \n",
       "10                       IIT Ropar                               NIT Durgapur   \n",
       "11              IIT BHU (Varanasi)                                VNIT Nagpur   \n",
       "12                 IIT ISM Dhanbad                                     LNMIIT   \n",
       "13                             DTU                                  BIT Mesra   \n",
       "14               NSUT Delhi (NSIT)                                SVNIT Surat   \n",
       "15       NIT Tiruchipally (Trichy)                              NIT Jalandhar   \n",
       "16                    NIT Warangal                             NIT Jamshedpur   \n",
       "17       NIT Surathkal (Karnataka)                            NIT Kurukshetra   \n",
       "18             Jadavpur University                                  NIT Patna   \n",
       "19  BITS Pilani (Hyderabad Campus)                                 NIT Raipur   \n",
       "20        BITS Pilani (Goa Campus)                                 NIT Bhopal   \n",
       "21                  IIIT Allahabad                               NIT Rourkela   \n",
       "22                             NaN                                NIT Silchar   \n",
       "23                             NaN                                 NIT Sikkim   \n",
       "24                             NaN                              IIIT Jabalpur   \n",
       "25                             NaN  Jalpaiguri Government Engineering College   \n",
       "26                             NaN                         IIEST/BESU Shibpur   \n",
       "27                             NaN                R.V. College of Engineering   \n",
       "\n",
       "                                            Tier 3  \n",
       "0       Ramaiah Institute of Technology, Bengaluru  \n",
       "1                           TIET/Thapar University  \n",
       "2                              Manipal Main Campus  \n",
       "3                                      VIT Vellore  \n",
       "4                                  SRM Main Campus  \n",
       "5                                KIIT, Bhubaneswar  \n",
       "6                                 Amity University  \n",
       "7                           BMS College, Bangalore  \n",
       "8                        PES University, Bangalore  \n",
       "9                                      USIT, Delhi  \n",
       "10                                     MAIT, Delhi  \n",
       "11                                     MSIT, Delhi  \n",
       "12      Dayanand College of Engineering, Bangalore  \n",
       "13       Heritage Institute of Technology, Kolkata  \n",
       "14                                    IEM, Kolkata  \n",
       "15                           Techno India, Kolkata  \n",
       "16                                   Jaypee, Noida  \n",
       "17                   Amrita University, Coimbatore  \n",
       "18  Cummins College of Engineering for Women, Pune  \n",
       "19                                             NaN  \n",
       "20                                             NaN  \n",
       "21                                             NaN  \n",
       "22                                             NaN  \n",
       "23                                             NaN  \n",
       "24                                             NaN  \n",
       "25                                             NaN  \n",
       "26                                             NaN  \n",
       "27                                             NaN  "
      ]
     },
     "execution_count": 6,
     "metadata": {},
     "output_type": "execute_result"
    }
   ],
   "source": [
    "df2"
   ]
  },
  {
   "cell_type": "code",
   "execution_count": 7,
   "id": "70f628cf-45ac-4b6d-acec-7ad7ca28afca",
   "metadata": {},
   "outputs": [],
   "source": [
    "Tier1=df2[\"Tier 1\"].tolist()\n",
    "Tier2=df2[\"Tier 2\"].tolist()\n",
    "Tier3=df2[\"Tier 3\"].tolist()"
   ]
  },
  {
   "cell_type": "code",
   "execution_count": 8,
   "id": "2d594041-3950-4e15-b481-4603f70b8a19",
   "metadata": {},
   "outputs": [],
   "source": [
    "df2.dropna()\n",
    "for item in df1.College:\n",
    "    if item in Tier1:\n",
    "        df1[\"College\"].replace(item, 1 ,inplace=True)\n",
    "    elif item in Tier2:\n",
    "        df1[\"College\"].replace(item, 2 ,inplace=True)\n",
    "    elif item in Tier3:\n",
    "        df1[\"College\"].replace(item, 3 ,inplace=True)"
   ]
  },
  {
   "cell_type": "code",
   "execution_count": 9,
   "id": "580a7b61-649e-4a4f-a90e-7a98ca5d760b",
   "metadata": {},
   "outputs": [
    {
     "data": {
      "text/html": [
       "<div>\n",
       "<style scoped>\n",
       "    .dataframe tbody tr th:only-of-type {\n",
       "        vertical-align: middle;\n",
       "    }\n",
       "\n",
       "    .dataframe tbody tr th {\n",
       "        vertical-align: top;\n",
       "    }\n",
       "\n",
       "    .dataframe thead th {\n",
       "        text-align: right;\n",
       "    }\n",
       "</style>\n",
       "<table border=\"1\" class=\"dataframe\">\n",
       "  <thead>\n",
       "    <tr style=\"text-align: right;\">\n",
       "      <th></th>\n",
       "      <th>College</th>\n",
       "      <th>City</th>\n",
       "      <th>Role</th>\n",
       "      <th>Previous CTC</th>\n",
       "      <th>Previous job change</th>\n",
       "      <th>Graduation Marks</th>\n",
       "      <th>EXP (Month)</th>\n",
       "      <th>CTC</th>\n",
       "    </tr>\n",
       "  </thead>\n",
       "  <tbody>\n",
       "    <tr>\n",
       "      <th>0</th>\n",
       "      <td>2</td>\n",
       "      <td>Asansol</td>\n",
       "      <td>Manager</td>\n",
       "      <td>55523.0</td>\n",
       "      <td>3</td>\n",
       "      <td>66</td>\n",
       "      <td>19</td>\n",
       "      <td>71406.58</td>\n",
       "    </tr>\n",
       "    <tr>\n",
       "      <th>1</th>\n",
       "      <td>2</td>\n",
       "      <td>Ajmer</td>\n",
       "      <td>Executive</td>\n",
       "      <td>57081.0</td>\n",
       "      <td>1</td>\n",
       "      <td>84</td>\n",
       "      <td>18</td>\n",
       "      <td>68005.87</td>\n",
       "    </tr>\n",
       "    <tr>\n",
       "      <th>2</th>\n",
       "      <td>3</td>\n",
       "      <td>Rajpur Sonarpur</td>\n",
       "      <td>Executive</td>\n",
       "      <td>60347.0</td>\n",
       "      <td>2</td>\n",
       "      <td>52</td>\n",
       "      <td>28</td>\n",
       "      <td>76764.02</td>\n",
       "    </tr>\n",
       "    <tr>\n",
       "      <th>3</th>\n",
       "      <td>3</td>\n",
       "      <td>Ajmer</td>\n",
       "      <td>Executive</td>\n",
       "      <td>49010.0</td>\n",
       "      <td>2</td>\n",
       "      <td>81</td>\n",
       "      <td>33</td>\n",
       "      <td>82092.39</td>\n",
       "    </tr>\n",
       "    <tr>\n",
       "      <th>4</th>\n",
       "      <td>1</td>\n",
       "      <td>Durgapur</td>\n",
       "      <td>Executive</td>\n",
       "      <td>57879.0</td>\n",
       "      <td>4</td>\n",
       "      <td>74</td>\n",
       "      <td>32</td>\n",
       "      <td>73878.10</td>\n",
       "    </tr>\n",
       "    <tr>\n",
       "      <th>...</th>\n",
       "      <td>...</td>\n",
       "      <td>...</td>\n",
       "      <td>...</td>\n",
       "      <td>...</td>\n",
       "      <td>...</td>\n",
       "      <td>...</td>\n",
       "      <td>...</td>\n",
       "      <td>...</td>\n",
       "    </tr>\n",
       "    <tr>\n",
       "      <th>1584</th>\n",
       "      <td>1</td>\n",
       "      <td>Surat</td>\n",
       "      <td>Executive</td>\n",
       "      <td>61285.0</td>\n",
       "      <td>3</td>\n",
       "      <td>44</td>\n",
       "      <td>60</td>\n",
       "      <td>77283.59</td>\n",
       "    </tr>\n",
       "    <tr>\n",
       "      <th>1585</th>\n",
       "      <td>1</td>\n",
       "      <td>Rajpur Sonarpur</td>\n",
       "      <td>Executive</td>\n",
       "      <td>63140.0</td>\n",
       "      <td>1</td>\n",
       "      <td>44</td>\n",
       "      <td>24</td>\n",
       "      <td>68416.86</td>\n",
       "    </tr>\n",
       "    <tr>\n",
       "      <th>1586</th>\n",
       "      <td>1</td>\n",
       "      <td>Ahmedabad</td>\n",
       "      <td>Executive</td>\n",
       "      <td>44907.0</td>\n",
       "      <td>1</td>\n",
       "      <td>60</td>\n",
       "      <td>19</td>\n",
       "      <td>70186.19</td>\n",
       "    </tr>\n",
       "    <tr>\n",
       "      <th>1587</th>\n",
       "      <td>1</td>\n",
       "      <td>Durgapur</td>\n",
       "      <td>Executive</td>\n",
       "      <td>52054.0</td>\n",
       "      <td>2</td>\n",
       "      <td>67</td>\n",
       "      <td>29</td>\n",
       "      <td>73394.09</td>\n",
       "    </tr>\n",
       "    <tr>\n",
       "      <th>1588</th>\n",
       "      <td>2</td>\n",
       "      <td>Delhi</td>\n",
       "      <td>Manager</td>\n",
       "      <td>44353.0</td>\n",
       "      <td>3</td>\n",
       "      <td>75</td>\n",
       "      <td>18</td>\n",
       "      <td>70056.31</td>\n",
       "    </tr>\n",
       "  </tbody>\n",
       "</table>\n",
       "<p>1589 rows × 8 columns</p>\n",
       "</div>"
      ],
      "text/plain": [
       "      College             City       Role  Previous CTC  Previous job change  \\\n",
       "0           2          Asansol    Manager       55523.0                    3   \n",
       "1           2            Ajmer  Executive       57081.0                    1   \n",
       "2           3  Rajpur Sonarpur  Executive       60347.0                    2   \n",
       "3           3            Ajmer  Executive       49010.0                    2   \n",
       "4           1         Durgapur  Executive       57879.0                    4   \n",
       "...       ...              ...        ...           ...                  ...   \n",
       "1584        1            Surat  Executive       61285.0                    3   \n",
       "1585        1  Rajpur Sonarpur  Executive       63140.0                    1   \n",
       "1586        1        Ahmedabad  Executive       44907.0                    1   \n",
       "1587        1         Durgapur  Executive       52054.0                    2   \n",
       "1588        2            Delhi    Manager       44353.0                    3   \n",
       "\n",
       "      Graduation Marks  EXP (Month)       CTC  \n",
       "0                   66           19  71406.58  \n",
       "1                   84           18  68005.87  \n",
       "2                   52           28  76764.02  \n",
       "3                   81           33  82092.39  \n",
       "4                   74           32  73878.10  \n",
       "...                ...          ...       ...  \n",
       "1584                44           60  77283.59  \n",
       "1585                44           24  68416.86  \n",
       "1586                60           19  70186.19  \n",
       "1587                67           29  73394.09  \n",
       "1588                75           18  70056.31  \n",
       "\n",
       "[1589 rows x 8 columns]"
      ]
     },
     "execution_count": 9,
     "metadata": {},
     "output_type": "execute_result"
    }
   ],
   "source": [
    "df1"
   ]
  },
  {
   "cell_type": "code",
   "execution_count": 10,
   "id": "57089793-2535-4d04-8696-832a18acc367",
   "metadata": {},
   "outputs": [
    {
     "name": "stdout",
     "output_type": "stream",
     "text": [
      "<class 'pandas.core.frame.DataFrame'>\n",
      "RangeIndex: 1589 entries, 0 to 1588\n",
      "Data columns (total 8 columns):\n",
      " #   Column               Non-Null Count  Dtype  \n",
      "---  ------               --------------  -----  \n",
      " 0   College              1589 non-null   int64  \n",
      " 1   City                 1589 non-null   object \n",
      " 2   Role                 1589 non-null   object \n",
      " 3   Previous CTC         1589 non-null   float64\n",
      " 4   Previous job change  1589 non-null   int64  \n",
      " 5   Graduation Marks     1589 non-null   int64  \n",
      " 6   EXP (Month)          1589 non-null   int64  \n",
      " 7   CTC                  1589 non-null   float64\n",
      "dtypes: float64(2), int64(4), object(2)\n",
      "memory usage: 99.4+ KB\n"
     ]
    }
   ],
   "source": [
    "df1.info()"
   ]
  },
  {
   "cell_type": "code",
   "execution_count": 11,
   "id": "113758c4-00ea-4c4d-8448-f3d0afbec5c0",
   "metadata": {},
   "outputs": [
    {
     "data": {
      "text/html": [
       "<div>\n",
       "<style scoped>\n",
       "    .dataframe tbody tr th:only-of-type {\n",
       "        vertical-align: middle;\n",
       "    }\n",
       "\n",
       "    .dataframe tbody tr th {\n",
       "        vertical-align: top;\n",
       "    }\n",
       "\n",
       "    .dataframe thead th {\n",
       "        text-align: right;\n",
       "    }\n",
       "</style>\n",
       "<table border=\"1\" class=\"dataframe\">\n",
       "  <thead>\n",
       "    <tr style=\"text-align: right;\">\n",
       "      <th></th>\n",
       "      <th>College</th>\n",
       "      <th>City</th>\n",
       "      <th>Role</th>\n",
       "      <th>Previous CTC</th>\n",
       "      <th>Previous job change</th>\n",
       "      <th>Graduation Marks</th>\n",
       "      <th>EXP (Month)</th>\n",
       "      <th>CTC</th>\n",
       "    </tr>\n",
       "  </thead>\n",
       "  <tbody>\n",
       "    <tr>\n",
       "      <th>0</th>\n",
       "      <td>2</td>\n",
       "      <td>Asansol</td>\n",
       "      <td>Manager</td>\n",
       "      <td>55523.0</td>\n",
       "      <td>3</td>\n",
       "      <td>66</td>\n",
       "      <td>19</td>\n",
       "      <td>71406.58</td>\n",
       "    </tr>\n",
       "    <tr>\n",
       "      <th>1</th>\n",
       "      <td>2</td>\n",
       "      <td>Ajmer</td>\n",
       "      <td>Executive</td>\n",
       "      <td>57081.0</td>\n",
       "      <td>1</td>\n",
       "      <td>84</td>\n",
       "      <td>18</td>\n",
       "      <td>68005.87</td>\n",
       "    </tr>\n",
       "    <tr>\n",
       "      <th>2</th>\n",
       "      <td>3</td>\n",
       "      <td>Rajpur Sonarpur</td>\n",
       "      <td>Executive</td>\n",
       "      <td>60347.0</td>\n",
       "      <td>2</td>\n",
       "      <td>52</td>\n",
       "      <td>28</td>\n",
       "      <td>76764.02</td>\n",
       "    </tr>\n",
       "    <tr>\n",
       "      <th>3</th>\n",
       "      <td>3</td>\n",
       "      <td>Ajmer</td>\n",
       "      <td>Executive</td>\n",
       "      <td>49010.0</td>\n",
       "      <td>2</td>\n",
       "      <td>81</td>\n",
       "      <td>33</td>\n",
       "      <td>82092.39</td>\n",
       "    </tr>\n",
       "    <tr>\n",
       "      <th>4</th>\n",
       "      <td>1</td>\n",
       "      <td>Durgapur</td>\n",
       "      <td>Executive</td>\n",
       "      <td>57879.0</td>\n",
       "      <td>4</td>\n",
       "      <td>74</td>\n",
       "      <td>32</td>\n",
       "      <td>73878.10</td>\n",
       "    </tr>\n",
       "    <tr>\n",
       "      <th>...</th>\n",
       "      <td>...</td>\n",
       "      <td>...</td>\n",
       "      <td>...</td>\n",
       "      <td>...</td>\n",
       "      <td>...</td>\n",
       "      <td>...</td>\n",
       "      <td>...</td>\n",
       "      <td>...</td>\n",
       "    </tr>\n",
       "    <tr>\n",
       "      <th>1584</th>\n",
       "      <td>1</td>\n",
       "      <td>Surat</td>\n",
       "      <td>Executive</td>\n",
       "      <td>61285.0</td>\n",
       "      <td>3</td>\n",
       "      <td>44</td>\n",
       "      <td>60</td>\n",
       "      <td>77283.59</td>\n",
       "    </tr>\n",
       "    <tr>\n",
       "      <th>1585</th>\n",
       "      <td>1</td>\n",
       "      <td>Rajpur Sonarpur</td>\n",
       "      <td>Executive</td>\n",
       "      <td>63140.0</td>\n",
       "      <td>1</td>\n",
       "      <td>44</td>\n",
       "      <td>24</td>\n",
       "      <td>68416.86</td>\n",
       "    </tr>\n",
       "    <tr>\n",
       "      <th>1586</th>\n",
       "      <td>1</td>\n",
       "      <td>Ahmedabad</td>\n",
       "      <td>Executive</td>\n",
       "      <td>44907.0</td>\n",
       "      <td>1</td>\n",
       "      <td>60</td>\n",
       "      <td>19</td>\n",
       "      <td>70186.19</td>\n",
       "    </tr>\n",
       "    <tr>\n",
       "      <th>1587</th>\n",
       "      <td>1</td>\n",
       "      <td>Durgapur</td>\n",
       "      <td>Executive</td>\n",
       "      <td>52054.0</td>\n",
       "      <td>2</td>\n",
       "      <td>67</td>\n",
       "      <td>29</td>\n",
       "      <td>73394.09</td>\n",
       "    </tr>\n",
       "    <tr>\n",
       "      <th>1588</th>\n",
       "      <td>2</td>\n",
       "      <td>Delhi</td>\n",
       "      <td>Manager</td>\n",
       "      <td>44353.0</td>\n",
       "      <td>3</td>\n",
       "      <td>75</td>\n",
       "      <td>18</td>\n",
       "      <td>70056.31</td>\n",
       "    </tr>\n",
       "  </tbody>\n",
       "</table>\n",
       "<p>1589 rows × 8 columns</p>\n",
       "</div>"
      ],
      "text/plain": [
       "      College             City       Role  Previous CTC  Previous job change  \\\n",
       "0           2          Asansol    Manager       55523.0                    3   \n",
       "1           2            Ajmer  Executive       57081.0                    1   \n",
       "2           3  Rajpur Sonarpur  Executive       60347.0                    2   \n",
       "3           3            Ajmer  Executive       49010.0                    2   \n",
       "4           1         Durgapur  Executive       57879.0                    4   \n",
       "...       ...              ...        ...           ...                  ...   \n",
       "1584        1            Surat  Executive       61285.0                    3   \n",
       "1585        1  Rajpur Sonarpur  Executive       63140.0                    1   \n",
       "1586        1        Ahmedabad  Executive       44907.0                    1   \n",
       "1587        1         Durgapur  Executive       52054.0                    2   \n",
       "1588        2            Delhi    Manager       44353.0                    3   \n",
       "\n",
       "      Graduation Marks  EXP (Month)       CTC  \n",
       "0                   66           19  71406.58  \n",
       "1                   84           18  68005.87  \n",
       "2                   52           28  76764.02  \n",
       "3                   81           33  82092.39  \n",
       "4                   74           32  73878.10  \n",
       "...                ...          ...       ...  \n",
       "1584                44           60  77283.59  \n",
       "1585                44           24  68416.86  \n",
       "1586                60           19  70186.19  \n",
       "1587                67           29  73394.09  \n",
       "1588                75           18  70056.31  \n",
       "\n",
       "[1589 rows x 8 columns]"
      ]
     },
     "execution_count": 11,
     "metadata": {},
     "output_type": "execute_result"
    }
   ],
   "source": [
    "df1"
   ]
  },
  {
   "cell_type": "code",
   "execution_count": 12,
   "id": "22f5c455-5608-4d78-b1fd-a2d53662b5d5",
   "metadata": {},
   "outputs": [],
   "source": [
    "df3=pd.read_csv('C:/Users/Rakesh/cities.csv',header=0)"
   ]
  },
  {
   "cell_type": "code",
   "execution_count": 13,
   "id": "69724517-1fb5-4521-a19a-09e3debbd59b",
   "metadata": {},
   "outputs": [
    {
     "data": {
      "text/html": [
       "<div>\n",
       "<style scoped>\n",
       "    .dataframe tbody tr th:only-of-type {\n",
       "        vertical-align: middle;\n",
       "    }\n",
       "\n",
       "    .dataframe tbody tr th {\n",
       "        vertical-align: top;\n",
       "    }\n",
       "\n",
       "    .dataframe thead th {\n",
       "        text-align: right;\n",
       "    }\n",
       "</style>\n",
       "<table border=\"1\" class=\"dataframe\">\n",
       "  <thead>\n",
       "    <tr style=\"text-align: right;\">\n",
       "      <th></th>\n",
       "      <th>Metrio City</th>\n",
       "      <th>non-metro cities</th>\n",
       "    </tr>\n",
       "  </thead>\n",
       "  <tbody>\n",
       "    <tr>\n",
       "      <th>0</th>\n",
       "      <td>Mumbai</td>\n",
       "      <td>Dehradun</td>\n",
       "    </tr>\n",
       "    <tr>\n",
       "      <th>1</th>\n",
       "      <td>Delhi</td>\n",
       "      <td>Durgapur</td>\n",
       "    </tr>\n",
       "    <tr>\n",
       "      <th>2</th>\n",
       "      <td>Kolkata</td>\n",
       "      <td>Asansol</td>\n",
       "    </tr>\n",
       "    <tr>\n",
       "      <th>3</th>\n",
       "      <td>Chennai</td>\n",
       "      <td>Rourkela</td>\n",
       "    </tr>\n",
       "    <tr>\n",
       "      <th>4</th>\n",
       "      <td>Bangalore</td>\n",
       "      <td>Kozhikode</td>\n",
       "    </tr>\n",
       "    <tr>\n",
       "      <th>5</th>\n",
       "      <td>Hyderabad</td>\n",
       "      <td>Rajpur Sonarpur</td>\n",
       "    </tr>\n",
       "    <tr>\n",
       "      <th>6</th>\n",
       "      <td>Ahmedabad</td>\n",
       "      <td>Kolhapur</td>\n",
       "    </tr>\n",
       "    <tr>\n",
       "      <th>7</th>\n",
       "      <td>Pune</td>\n",
       "      <td>Ajmer</td>\n",
       "    </tr>\n",
       "    <tr>\n",
       "      <th>8</th>\n",
       "      <td>Surat</td>\n",
       "      <td>NaN</td>\n",
       "    </tr>\n",
       "  </tbody>\n",
       "</table>\n",
       "</div>"
      ],
      "text/plain": [
       "  Metrio City non-metro cities\n",
       "0      Mumbai         Dehradun\n",
       "1       Delhi         Durgapur\n",
       "2     Kolkata          Asansol\n",
       "3     Chennai         Rourkela\n",
       "4   Bangalore        Kozhikode\n",
       "5   Hyderabad  Rajpur Sonarpur\n",
       "6   Ahmedabad         Kolhapur\n",
       "7        Pune            Ajmer\n",
       "8       Surat              NaN"
      ]
     },
     "execution_count": 13,
     "metadata": {},
     "output_type": "execute_result"
    }
   ],
   "source": [
    "df3"
   ]
  },
  {
   "cell_type": "code",
   "execution_count": 14,
   "id": "085353f8-a95d-4e32-8019-aa8de26ff757",
   "metadata": {},
   "outputs": [
    {
     "data": {
      "text/plain": [
       "Index(['Metrio City', 'non-metro cities'], dtype='object')"
      ]
     },
     "execution_count": 14,
     "metadata": {},
     "output_type": "execute_result"
    }
   ],
   "source": [
    "df3.columns"
   ]
  },
  {
   "cell_type": "code",
   "execution_count": 15,
   "id": "e80a4eac-a12c-4acd-ae05-09b54f3ce67c",
   "metadata": {},
   "outputs": [],
   "source": [
    "M1=df3[\"Metrio City\"].tolist()\n",
    "M2=df3[\"non-metro cities\"].tolist()"
   ]
  },
  {
   "cell_type": "code",
   "execution_count": 16,
   "id": "6e3e751d-d7f4-458a-8769-50648460d28d",
   "metadata": {},
   "outputs": [],
   "source": [
    "df3.dropna()\n",
    "for item in df1.City:\n",
    "    if item in M1:\n",
    "        df1[\"City\"].replace(item, 1 ,inplace=True)\n",
    "    elif item in M2:\n",
    "        df1[\"City\"].replace(item, 0 ,inplace=True)"
   ]
  },
  {
   "cell_type": "code",
   "execution_count": 17,
   "id": "1de30a5e-16d4-4132-a4a5-2b841d1cd0f3",
   "metadata": {},
   "outputs": [
    {
     "data": {
      "text/html": [
       "<div>\n",
       "<style scoped>\n",
       "    .dataframe tbody tr th:only-of-type {\n",
       "        vertical-align: middle;\n",
       "    }\n",
       "\n",
       "    .dataframe tbody tr th {\n",
       "        vertical-align: top;\n",
       "    }\n",
       "\n",
       "    .dataframe thead th {\n",
       "        text-align: right;\n",
       "    }\n",
       "</style>\n",
       "<table border=\"1\" class=\"dataframe\">\n",
       "  <thead>\n",
       "    <tr style=\"text-align: right;\">\n",
       "      <th></th>\n",
       "      <th>College</th>\n",
       "      <th>City</th>\n",
       "      <th>Role</th>\n",
       "      <th>Previous CTC</th>\n",
       "      <th>Previous job change</th>\n",
       "      <th>Graduation Marks</th>\n",
       "      <th>EXP (Month)</th>\n",
       "      <th>CTC</th>\n",
       "    </tr>\n",
       "  </thead>\n",
       "  <tbody>\n",
       "    <tr>\n",
       "      <th>0</th>\n",
       "      <td>2</td>\n",
       "      <td>0</td>\n",
       "      <td>Manager</td>\n",
       "      <td>55523.0</td>\n",
       "      <td>3</td>\n",
       "      <td>66</td>\n",
       "      <td>19</td>\n",
       "      <td>71406.58</td>\n",
       "    </tr>\n",
       "    <tr>\n",
       "      <th>1</th>\n",
       "      <td>2</td>\n",
       "      <td>0</td>\n",
       "      <td>Executive</td>\n",
       "      <td>57081.0</td>\n",
       "      <td>1</td>\n",
       "      <td>84</td>\n",
       "      <td>18</td>\n",
       "      <td>68005.87</td>\n",
       "    </tr>\n",
       "    <tr>\n",
       "      <th>2</th>\n",
       "      <td>3</td>\n",
       "      <td>0</td>\n",
       "      <td>Executive</td>\n",
       "      <td>60347.0</td>\n",
       "      <td>2</td>\n",
       "      <td>52</td>\n",
       "      <td>28</td>\n",
       "      <td>76764.02</td>\n",
       "    </tr>\n",
       "    <tr>\n",
       "      <th>3</th>\n",
       "      <td>3</td>\n",
       "      <td>0</td>\n",
       "      <td>Executive</td>\n",
       "      <td>49010.0</td>\n",
       "      <td>2</td>\n",
       "      <td>81</td>\n",
       "      <td>33</td>\n",
       "      <td>82092.39</td>\n",
       "    </tr>\n",
       "    <tr>\n",
       "      <th>4</th>\n",
       "      <td>1</td>\n",
       "      <td>0</td>\n",
       "      <td>Executive</td>\n",
       "      <td>57879.0</td>\n",
       "      <td>4</td>\n",
       "      <td>74</td>\n",
       "      <td>32</td>\n",
       "      <td>73878.10</td>\n",
       "    </tr>\n",
       "    <tr>\n",
       "      <th>...</th>\n",
       "      <td>...</td>\n",
       "      <td>...</td>\n",
       "      <td>...</td>\n",
       "      <td>...</td>\n",
       "      <td>...</td>\n",
       "      <td>...</td>\n",
       "      <td>...</td>\n",
       "      <td>...</td>\n",
       "    </tr>\n",
       "    <tr>\n",
       "      <th>1584</th>\n",
       "      <td>1</td>\n",
       "      <td>1</td>\n",
       "      <td>Executive</td>\n",
       "      <td>61285.0</td>\n",
       "      <td>3</td>\n",
       "      <td>44</td>\n",
       "      <td>60</td>\n",
       "      <td>77283.59</td>\n",
       "    </tr>\n",
       "    <tr>\n",
       "      <th>1585</th>\n",
       "      <td>1</td>\n",
       "      <td>0</td>\n",
       "      <td>Executive</td>\n",
       "      <td>63140.0</td>\n",
       "      <td>1</td>\n",
       "      <td>44</td>\n",
       "      <td>24</td>\n",
       "      <td>68416.86</td>\n",
       "    </tr>\n",
       "    <tr>\n",
       "      <th>1586</th>\n",
       "      <td>1</td>\n",
       "      <td>1</td>\n",
       "      <td>Executive</td>\n",
       "      <td>44907.0</td>\n",
       "      <td>1</td>\n",
       "      <td>60</td>\n",
       "      <td>19</td>\n",
       "      <td>70186.19</td>\n",
       "    </tr>\n",
       "    <tr>\n",
       "      <th>1587</th>\n",
       "      <td>1</td>\n",
       "      <td>0</td>\n",
       "      <td>Executive</td>\n",
       "      <td>52054.0</td>\n",
       "      <td>2</td>\n",
       "      <td>67</td>\n",
       "      <td>29</td>\n",
       "      <td>73394.09</td>\n",
       "    </tr>\n",
       "    <tr>\n",
       "      <th>1588</th>\n",
       "      <td>2</td>\n",
       "      <td>1</td>\n",
       "      <td>Manager</td>\n",
       "      <td>44353.0</td>\n",
       "      <td>3</td>\n",
       "      <td>75</td>\n",
       "      <td>18</td>\n",
       "      <td>70056.31</td>\n",
       "    </tr>\n",
       "  </tbody>\n",
       "</table>\n",
       "<p>1589 rows × 8 columns</p>\n",
       "</div>"
      ],
      "text/plain": [
       "      College  City       Role  Previous CTC  Previous job change  \\\n",
       "0           2     0    Manager       55523.0                    3   \n",
       "1           2     0  Executive       57081.0                    1   \n",
       "2           3     0  Executive       60347.0                    2   \n",
       "3           3     0  Executive       49010.0                    2   \n",
       "4           1     0  Executive       57879.0                    4   \n",
       "...       ...   ...        ...           ...                  ...   \n",
       "1584        1     1  Executive       61285.0                    3   \n",
       "1585        1     0  Executive       63140.0                    1   \n",
       "1586        1     1  Executive       44907.0                    1   \n",
       "1587        1     0  Executive       52054.0                    2   \n",
       "1588        2     1    Manager       44353.0                    3   \n",
       "\n",
       "      Graduation Marks  EXP (Month)       CTC  \n",
       "0                   66           19  71406.58  \n",
       "1                   84           18  68005.87  \n",
       "2                   52           28  76764.02  \n",
       "3                   81           33  82092.39  \n",
       "4                   74           32  73878.10  \n",
       "...                ...          ...       ...  \n",
       "1584                44           60  77283.59  \n",
       "1585                44           24  68416.86  \n",
       "1586                60           19  70186.19  \n",
       "1587                67           29  73394.09  \n",
       "1588                75           18  70056.31  \n",
       "\n",
       "[1589 rows x 8 columns]"
      ]
     },
     "execution_count": 17,
     "metadata": {},
     "output_type": "execute_result"
    }
   ],
   "source": [
    "df1"
   ]
  },
  {
   "cell_type": "code",
   "execution_count": 18,
   "id": "2b3559ae-0f85-4180-8c6e-024ef39616ad",
   "metadata": {},
   "outputs": [],
   "source": [
    "df=pd.get_dummies(df1)"
   ]
  },
  {
   "cell_type": "code",
   "execution_count": 19,
   "id": "431f6673-104f-4025-895e-cafbe0eb83fb",
   "metadata": {},
   "outputs": [
    {
     "data": {
      "text/html": [
       "<div>\n",
       "<style scoped>\n",
       "    .dataframe tbody tr th:only-of-type {\n",
       "        vertical-align: middle;\n",
       "    }\n",
       "\n",
       "    .dataframe tbody tr th {\n",
       "        vertical-align: top;\n",
       "    }\n",
       "\n",
       "    .dataframe thead th {\n",
       "        text-align: right;\n",
       "    }\n",
       "</style>\n",
       "<table border=\"1\" class=\"dataframe\">\n",
       "  <thead>\n",
       "    <tr style=\"text-align: right;\">\n",
       "      <th></th>\n",
       "      <th>College</th>\n",
       "      <th>City</th>\n",
       "      <th>Previous CTC</th>\n",
       "      <th>Previous job change</th>\n",
       "      <th>Graduation Marks</th>\n",
       "      <th>EXP (Month)</th>\n",
       "      <th>CTC</th>\n",
       "      <th>Role_Executive</th>\n",
       "      <th>Role_Manager</th>\n",
       "    </tr>\n",
       "  </thead>\n",
       "  <tbody>\n",
       "    <tr>\n",
       "      <th>0</th>\n",
       "      <td>2</td>\n",
       "      <td>0</td>\n",
       "      <td>55523.0</td>\n",
       "      <td>3</td>\n",
       "      <td>66</td>\n",
       "      <td>19</td>\n",
       "      <td>71406.58</td>\n",
       "      <td>False</td>\n",
       "      <td>True</td>\n",
       "    </tr>\n",
       "    <tr>\n",
       "      <th>1</th>\n",
       "      <td>2</td>\n",
       "      <td>0</td>\n",
       "      <td>57081.0</td>\n",
       "      <td>1</td>\n",
       "      <td>84</td>\n",
       "      <td>18</td>\n",
       "      <td>68005.87</td>\n",
       "      <td>True</td>\n",
       "      <td>False</td>\n",
       "    </tr>\n",
       "    <tr>\n",
       "      <th>2</th>\n",
       "      <td>3</td>\n",
       "      <td>0</td>\n",
       "      <td>60347.0</td>\n",
       "      <td>2</td>\n",
       "      <td>52</td>\n",
       "      <td>28</td>\n",
       "      <td>76764.02</td>\n",
       "      <td>True</td>\n",
       "      <td>False</td>\n",
       "    </tr>\n",
       "    <tr>\n",
       "      <th>3</th>\n",
       "      <td>3</td>\n",
       "      <td>0</td>\n",
       "      <td>49010.0</td>\n",
       "      <td>2</td>\n",
       "      <td>81</td>\n",
       "      <td>33</td>\n",
       "      <td>82092.39</td>\n",
       "      <td>True</td>\n",
       "      <td>False</td>\n",
       "    </tr>\n",
       "    <tr>\n",
       "      <th>4</th>\n",
       "      <td>1</td>\n",
       "      <td>0</td>\n",
       "      <td>57879.0</td>\n",
       "      <td>4</td>\n",
       "      <td>74</td>\n",
       "      <td>32</td>\n",
       "      <td>73878.10</td>\n",
       "      <td>True</td>\n",
       "      <td>False</td>\n",
       "    </tr>\n",
       "    <tr>\n",
       "      <th>...</th>\n",
       "      <td>...</td>\n",
       "      <td>...</td>\n",
       "      <td>...</td>\n",
       "      <td>...</td>\n",
       "      <td>...</td>\n",
       "      <td>...</td>\n",
       "      <td>...</td>\n",
       "      <td>...</td>\n",
       "      <td>...</td>\n",
       "    </tr>\n",
       "    <tr>\n",
       "      <th>1584</th>\n",
       "      <td>1</td>\n",
       "      <td>1</td>\n",
       "      <td>61285.0</td>\n",
       "      <td>3</td>\n",
       "      <td>44</td>\n",
       "      <td>60</td>\n",
       "      <td>77283.59</td>\n",
       "      <td>True</td>\n",
       "      <td>False</td>\n",
       "    </tr>\n",
       "    <tr>\n",
       "      <th>1585</th>\n",
       "      <td>1</td>\n",
       "      <td>0</td>\n",
       "      <td>63140.0</td>\n",
       "      <td>1</td>\n",
       "      <td>44</td>\n",
       "      <td>24</td>\n",
       "      <td>68416.86</td>\n",
       "      <td>True</td>\n",
       "      <td>False</td>\n",
       "    </tr>\n",
       "    <tr>\n",
       "      <th>1586</th>\n",
       "      <td>1</td>\n",
       "      <td>1</td>\n",
       "      <td>44907.0</td>\n",
       "      <td>1</td>\n",
       "      <td>60</td>\n",
       "      <td>19</td>\n",
       "      <td>70186.19</td>\n",
       "      <td>True</td>\n",
       "      <td>False</td>\n",
       "    </tr>\n",
       "    <tr>\n",
       "      <th>1587</th>\n",
       "      <td>1</td>\n",
       "      <td>0</td>\n",
       "      <td>52054.0</td>\n",
       "      <td>2</td>\n",
       "      <td>67</td>\n",
       "      <td>29</td>\n",
       "      <td>73394.09</td>\n",
       "      <td>True</td>\n",
       "      <td>False</td>\n",
       "    </tr>\n",
       "    <tr>\n",
       "      <th>1588</th>\n",
       "      <td>2</td>\n",
       "      <td>1</td>\n",
       "      <td>44353.0</td>\n",
       "      <td>3</td>\n",
       "      <td>75</td>\n",
       "      <td>18</td>\n",
       "      <td>70056.31</td>\n",
       "      <td>False</td>\n",
       "      <td>True</td>\n",
       "    </tr>\n",
       "  </tbody>\n",
       "</table>\n",
       "<p>1589 rows × 9 columns</p>\n",
       "</div>"
      ],
      "text/plain": [
       "      College  City  Previous CTC  Previous job change  Graduation Marks  \\\n",
       "0           2     0       55523.0                    3                66   \n",
       "1           2     0       57081.0                    1                84   \n",
       "2           3     0       60347.0                    2                52   \n",
       "3           3     0       49010.0                    2                81   \n",
       "4           1     0       57879.0                    4                74   \n",
       "...       ...   ...           ...                  ...               ...   \n",
       "1584        1     1       61285.0                    3                44   \n",
       "1585        1     0       63140.0                    1                44   \n",
       "1586        1     1       44907.0                    1                60   \n",
       "1587        1     0       52054.0                    2                67   \n",
       "1588        2     1       44353.0                    3                75   \n",
       "\n",
       "      EXP (Month)       CTC  Role_Executive  Role_Manager  \n",
       "0              19  71406.58           False          True  \n",
       "1              18  68005.87            True         False  \n",
       "2              28  76764.02            True         False  \n",
       "3              33  82092.39            True         False  \n",
       "4              32  73878.10            True         False  \n",
       "...           ...       ...             ...           ...  \n",
       "1584           60  77283.59            True         False  \n",
       "1585           24  68416.86            True         False  \n",
       "1586           19  70186.19            True         False  \n",
       "1587           29  73394.09            True         False  \n",
       "1588           18  70056.31           False          True  \n",
       "\n",
       "[1589 rows x 9 columns]"
      ]
     },
     "execution_count": 19,
     "metadata": {},
     "output_type": "execute_result"
    }
   ],
   "source": [
    "df"
   ]
  },
  {
   "cell_type": "code",
   "execution_count": 20,
   "id": "8365e4e3-f92c-46fa-89ca-4b3cb4c1961b",
   "metadata": {},
   "outputs": [],
   "source": [
    "df[\"Role_Executive\"]=df[\"Role_Executive\"].astype(int)\n",
    "df[\"Role_Manager\"]=df[\"Role_Manager\"].astype(int)"
   ]
  },
  {
   "cell_type": "code",
   "execution_count": 21,
   "id": "f7a1bbd0-6252-4228-800a-1bcb0af104b9",
   "metadata": {},
   "outputs": [
    {
     "data": {
      "text/html": [
       "<div>\n",
       "<style scoped>\n",
       "    .dataframe tbody tr th:only-of-type {\n",
       "        vertical-align: middle;\n",
       "    }\n",
       "\n",
       "    .dataframe tbody tr th {\n",
       "        vertical-align: top;\n",
       "    }\n",
       "\n",
       "    .dataframe thead th {\n",
       "        text-align: right;\n",
       "    }\n",
       "</style>\n",
       "<table border=\"1\" class=\"dataframe\">\n",
       "  <thead>\n",
       "    <tr style=\"text-align: right;\">\n",
       "      <th></th>\n",
       "      <th>College</th>\n",
       "      <th>City</th>\n",
       "      <th>Previous CTC</th>\n",
       "      <th>Previous job change</th>\n",
       "      <th>Graduation Marks</th>\n",
       "      <th>EXP (Month)</th>\n",
       "      <th>CTC</th>\n",
       "      <th>Role_Executive</th>\n",
       "      <th>Role_Manager</th>\n",
       "    </tr>\n",
       "  </thead>\n",
       "  <tbody>\n",
       "    <tr>\n",
       "      <th>0</th>\n",
       "      <td>2</td>\n",
       "      <td>0</td>\n",
       "      <td>55523.0</td>\n",
       "      <td>3</td>\n",
       "      <td>66</td>\n",
       "      <td>19</td>\n",
       "      <td>71406.58</td>\n",
       "      <td>0</td>\n",
       "      <td>1</td>\n",
       "    </tr>\n",
       "    <tr>\n",
       "      <th>1</th>\n",
       "      <td>2</td>\n",
       "      <td>0</td>\n",
       "      <td>57081.0</td>\n",
       "      <td>1</td>\n",
       "      <td>84</td>\n",
       "      <td>18</td>\n",
       "      <td>68005.87</td>\n",
       "      <td>1</td>\n",
       "      <td>0</td>\n",
       "    </tr>\n",
       "    <tr>\n",
       "      <th>2</th>\n",
       "      <td>3</td>\n",
       "      <td>0</td>\n",
       "      <td>60347.0</td>\n",
       "      <td>2</td>\n",
       "      <td>52</td>\n",
       "      <td>28</td>\n",
       "      <td>76764.02</td>\n",
       "      <td>1</td>\n",
       "      <td>0</td>\n",
       "    </tr>\n",
       "    <tr>\n",
       "      <th>3</th>\n",
       "      <td>3</td>\n",
       "      <td>0</td>\n",
       "      <td>49010.0</td>\n",
       "      <td>2</td>\n",
       "      <td>81</td>\n",
       "      <td>33</td>\n",
       "      <td>82092.39</td>\n",
       "      <td>1</td>\n",
       "      <td>0</td>\n",
       "    </tr>\n",
       "    <tr>\n",
       "      <th>4</th>\n",
       "      <td>1</td>\n",
       "      <td>0</td>\n",
       "      <td>57879.0</td>\n",
       "      <td>4</td>\n",
       "      <td>74</td>\n",
       "      <td>32</td>\n",
       "      <td>73878.10</td>\n",
       "      <td>1</td>\n",
       "      <td>0</td>\n",
       "    </tr>\n",
       "    <tr>\n",
       "      <th>...</th>\n",
       "      <td>...</td>\n",
       "      <td>...</td>\n",
       "      <td>...</td>\n",
       "      <td>...</td>\n",
       "      <td>...</td>\n",
       "      <td>...</td>\n",
       "      <td>...</td>\n",
       "      <td>...</td>\n",
       "      <td>...</td>\n",
       "    </tr>\n",
       "    <tr>\n",
       "      <th>1584</th>\n",
       "      <td>1</td>\n",
       "      <td>1</td>\n",
       "      <td>61285.0</td>\n",
       "      <td>3</td>\n",
       "      <td>44</td>\n",
       "      <td>60</td>\n",
       "      <td>77283.59</td>\n",
       "      <td>1</td>\n",
       "      <td>0</td>\n",
       "    </tr>\n",
       "    <tr>\n",
       "      <th>1585</th>\n",
       "      <td>1</td>\n",
       "      <td>0</td>\n",
       "      <td>63140.0</td>\n",
       "      <td>1</td>\n",
       "      <td>44</td>\n",
       "      <td>24</td>\n",
       "      <td>68416.86</td>\n",
       "      <td>1</td>\n",
       "      <td>0</td>\n",
       "    </tr>\n",
       "    <tr>\n",
       "      <th>1586</th>\n",
       "      <td>1</td>\n",
       "      <td>1</td>\n",
       "      <td>44907.0</td>\n",
       "      <td>1</td>\n",
       "      <td>60</td>\n",
       "      <td>19</td>\n",
       "      <td>70186.19</td>\n",
       "      <td>1</td>\n",
       "      <td>0</td>\n",
       "    </tr>\n",
       "    <tr>\n",
       "      <th>1587</th>\n",
       "      <td>1</td>\n",
       "      <td>0</td>\n",
       "      <td>52054.0</td>\n",
       "      <td>2</td>\n",
       "      <td>67</td>\n",
       "      <td>29</td>\n",
       "      <td>73394.09</td>\n",
       "      <td>1</td>\n",
       "      <td>0</td>\n",
       "    </tr>\n",
       "    <tr>\n",
       "      <th>1588</th>\n",
       "      <td>2</td>\n",
       "      <td>1</td>\n",
       "      <td>44353.0</td>\n",
       "      <td>3</td>\n",
       "      <td>75</td>\n",
       "      <td>18</td>\n",
       "      <td>70056.31</td>\n",
       "      <td>0</td>\n",
       "      <td>1</td>\n",
       "    </tr>\n",
       "  </tbody>\n",
       "</table>\n",
       "<p>1589 rows × 9 columns</p>\n",
       "</div>"
      ],
      "text/plain": [
       "      College  City  Previous CTC  Previous job change  Graduation Marks  \\\n",
       "0           2     0       55523.0                    3                66   \n",
       "1           2     0       57081.0                    1                84   \n",
       "2           3     0       60347.0                    2                52   \n",
       "3           3     0       49010.0                    2                81   \n",
       "4           1     0       57879.0                    4                74   \n",
       "...       ...   ...           ...                  ...               ...   \n",
       "1584        1     1       61285.0                    3                44   \n",
       "1585        1     0       63140.0                    1                44   \n",
       "1586        1     1       44907.0                    1                60   \n",
       "1587        1     0       52054.0                    2                67   \n",
       "1588        2     1       44353.0                    3                75   \n",
       "\n",
       "      EXP (Month)       CTC  Role_Executive  Role_Manager  \n",
       "0              19  71406.58               0             1  \n",
       "1              18  68005.87               1             0  \n",
       "2              28  76764.02               1             0  \n",
       "3              33  82092.39               1             0  \n",
       "4              32  73878.10               1             0  \n",
       "...           ...       ...             ...           ...  \n",
       "1584           60  77283.59               1             0  \n",
       "1585           24  68416.86               1             0  \n",
       "1586           19  70186.19               1             0  \n",
       "1587           29  73394.09               1             0  \n",
       "1588           18  70056.31               0             1  \n",
       "\n",
       "[1589 rows x 9 columns]"
      ]
     },
     "execution_count": 21,
     "metadata": {},
     "output_type": "execute_result"
    }
   ],
   "source": [
    "df"
   ]
  },
  {
   "cell_type": "code",
   "execution_count": 22,
   "id": "31f59d2b-59b3-4f1d-b587-92fd3c13f4f7",
   "metadata": {},
   "outputs": [],
   "source": [
    "del df['Role_Executive']"
   ]
  },
  {
   "cell_type": "code",
   "execution_count": 23,
   "id": "20f13f09-ed45-49b7-8190-929db4c461b8",
   "metadata": {},
   "outputs": [
    {
     "data": {
      "text/html": [
       "<div>\n",
       "<style scoped>\n",
       "    .dataframe tbody tr th:only-of-type {\n",
       "        vertical-align: middle;\n",
       "    }\n",
       "\n",
       "    .dataframe tbody tr th {\n",
       "        vertical-align: top;\n",
       "    }\n",
       "\n",
       "    .dataframe thead th {\n",
       "        text-align: right;\n",
       "    }\n",
       "</style>\n",
       "<table border=\"1\" class=\"dataframe\">\n",
       "  <thead>\n",
       "    <tr style=\"text-align: right;\">\n",
       "      <th></th>\n",
       "      <th>College</th>\n",
       "      <th>City</th>\n",
       "      <th>Previous CTC</th>\n",
       "      <th>Previous job change</th>\n",
       "      <th>Graduation Marks</th>\n",
       "      <th>EXP (Month)</th>\n",
       "      <th>CTC</th>\n",
       "      <th>Role_Manager</th>\n",
       "    </tr>\n",
       "  </thead>\n",
       "  <tbody>\n",
       "    <tr>\n",
       "      <th>0</th>\n",
       "      <td>2</td>\n",
       "      <td>0</td>\n",
       "      <td>55523.0</td>\n",
       "      <td>3</td>\n",
       "      <td>66</td>\n",
       "      <td>19</td>\n",
       "      <td>71406.58</td>\n",
       "      <td>1</td>\n",
       "    </tr>\n",
       "    <tr>\n",
       "      <th>1</th>\n",
       "      <td>2</td>\n",
       "      <td>0</td>\n",
       "      <td>57081.0</td>\n",
       "      <td>1</td>\n",
       "      <td>84</td>\n",
       "      <td>18</td>\n",
       "      <td>68005.87</td>\n",
       "      <td>0</td>\n",
       "    </tr>\n",
       "    <tr>\n",
       "      <th>2</th>\n",
       "      <td>3</td>\n",
       "      <td>0</td>\n",
       "      <td>60347.0</td>\n",
       "      <td>2</td>\n",
       "      <td>52</td>\n",
       "      <td>28</td>\n",
       "      <td>76764.02</td>\n",
       "      <td>0</td>\n",
       "    </tr>\n",
       "    <tr>\n",
       "      <th>3</th>\n",
       "      <td>3</td>\n",
       "      <td>0</td>\n",
       "      <td>49010.0</td>\n",
       "      <td>2</td>\n",
       "      <td>81</td>\n",
       "      <td>33</td>\n",
       "      <td>82092.39</td>\n",
       "      <td>0</td>\n",
       "    </tr>\n",
       "    <tr>\n",
       "      <th>4</th>\n",
       "      <td>1</td>\n",
       "      <td>0</td>\n",
       "      <td>57879.0</td>\n",
       "      <td>4</td>\n",
       "      <td>74</td>\n",
       "      <td>32</td>\n",
       "      <td>73878.10</td>\n",
       "      <td>0</td>\n",
       "    </tr>\n",
       "    <tr>\n",
       "      <th>...</th>\n",
       "      <td>...</td>\n",
       "      <td>...</td>\n",
       "      <td>...</td>\n",
       "      <td>...</td>\n",
       "      <td>...</td>\n",
       "      <td>...</td>\n",
       "      <td>...</td>\n",
       "      <td>...</td>\n",
       "    </tr>\n",
       "    <tr>\n",
       "      <th>1584</th>\n",
       "      <td>1</td>\n",
       "      <td>1</td>\n",
       "      <td>61285.0</td>\n",
       "      <td>3</td>\n",
       "      <td>44</td>\n",
       "      <td>60</td>\n",
       "      <td>77283.59</td>\n",
       "      <td>0</td>\n",
       "    </tr>\n",
       "    <tr>\n",
       "      <th>1585</th>\n",
       "      <td>1</td>\n",
       "      <td>0</td>\n",
       "      <td>63140.0</td>\n",
       "      <td>1</td>\n",
       "      <td>44</td>\n",
       "      <td>24</td>\n",
       "      <td>68416.86</td>\n",
       "      <td>0</td>\n",
       "    </tr>\n",
       "    <tr>\n",
       "      <th>1586</th>\n",
       "      <td>1</td>\n",
       "      <td>1</td>\n",
       "      <td>44907.0</td>\n",
       "      <td>1</td>\n",
       "      <td>60</td>\n",
       "      <td>19</td>\n",
       "      <td>70186.19</td>\n",
       "      <td>0</td>\n",
       "    </tr>\n",
       "    <tr>\n",
       "      <th>1587</th>\n",
       "      <td>1</td>\n",
       "      <td>0</td>\n",
       "      <td>52054.0</td>\n",
       "      <td>2</td>\n",
       "      <td>67</td>\n",
       "      <td>29</td>\n",
       "      <td>73394.09</td>\n",
       "      <td>0</td>\n",
       "    </tr>\n",
       "    <tr>\n",
       "      <th>1588</th>\n",
       "      <td>2</td>\n",
       "      <td>1</td>\n",
       "      <td>44353.0</td>\n",
       "      <td>3</td>\n",
       "      <td>75</td>\n",
       "      <td>18</td>\n",
       "      <td>70056.31</td>\n",
       "      <td>1</td>\n",
       "    </tr>\n",
       "  </tbody>\n",
       "</table>\n",
       "<p>1589 rows × 8 columns</p>\n",
       "</div>"
      ],
      "text/plain": [
       "      College  City  Previous CTC  Previous job change  Graduation Marks  \\\n",
       "0           2     0       55523.0                    3                66   \n",
       "1           2     0       57081.0                    1                84   \n",
       "2           3     0       60347.0                    2                52   \n",
       "3           3     0       49010.0                    2                81   \n",
       "4           1     0       57879.0                    4                74   \n",
       "...       ...   ...           ...                  ...               ...   \n",
       "1584        1     1       61285.0                    3                44   \n",
       "1585        1     0       63140.0                    1                44   \n",
       "1586        1     1       44907.0                    1                60   \n",
       "1587        1     0       52054.0                    2                67   \n",
       "1588        2     1       44353.0                    3                75   \n",
       "\n",
       "      EXP (Month)       CTC  Role_Manager  \n",
       "0              19  71406.58             1  \n",
       "1              18  68005.87             0  \n",
       "2              28  76764.02             0  \n",
       "3              33  82092.39             0  \n",
       "4              32  73878.10             0  \n",
       "...           ...       ...           ...  \n",
       "1584           60  77283.59             0  \n",
       "1585           24  68416.86             0  \n",
       "1586           19  70186.19             0  \n",
       "1587           29  73394.09             0  \n",
       "1588           18  70056.31             1  \n",
       "\n",
       "[1589 rows x 8 columns]"
      ]
     },
     "execution_count": 23,
     "metadata": {},
     "output_type": "execute_result"
    }
   ],
   "source": [
    "df"
   ]
  },
  {
   "cell_type": "code",
   "execution_count": 24,
   "id": "c14f3d37-a216-483e-a1c6-3a09c5ef6a89",
   "metadata": {},
   "outputs": [
    {
     "data": {
      "text/plain": [
       "<Axes: xlabel='City', ylabel='count'>"
      ]
     },
     "execution_count": 24,
     "metadata": {},
     "output_type": "execute_result"
    },
    {
     "data": {
      "image/png": "[encoded data removed]",
      "text/plain": [
       "<Figure size 640x480 with 1 Axes>"
      ]
     },
     "metadata": {},
     "output_type": "display_data"
    }
   ],
   "source": [
    "sns.countplot(x='City',data=df)"
   ]
  },
  {
   "cell_type": "code",
   "execution_count": 25,
   "id": "f39a5bfd-410b-4577-9d7a-2e0e4e31829a",
   "metadata": {},
   "outputs": [
    {
     "name": "stdout",
     "output_type": "stream",
     "text": [
      "<class 'pandas.core.frame.DataFrame'>\n",
      "RangeIndex: 1589 entries, 0 to 1588\n",
      "Data columns (total 8 columns):\n",
      " #   Column               Non-Null Count  Dtype  \n",
      "---  ------               --------------  -----  \n",
      " 0   College              1589 non-null   int64  \n",
      " 1   City                 1589 non-null   int64  \n",
      " 2   Previous CTC         1589 non-null   float64\n",
      " 3   Previous job change  1589 non-null   int64  \n",
      " 4   Graduation Marks     1589 non-null   int64  \n",
      " 5   EXP (Month)          1589 non-null   int64  \n",
      " 6   CTC                  1589 non-null   float64\n",
      " 7   Role_Manager         1589 non-null   int32  \n",
      "dtypes: float64(2), int32(1), int64(5)\n",
      "memory usage: 93.2 KB\n"
     ]
    }
   ],
   "source": [
    "df.info()"
   ]
  },
  {
   "cell_type": "code",
   "execution_count": 26,
   "id": "856bcd3d-9469-4fc2-8a81-c0cd98852616",
   "metadata": {},
   "outputs": [
    {
     "data": {
      "text/plain": [
       "College                0\n",
       "City                   0\n",
       "Previous CTC           0\n",
       "Previous job change    0\n",
       "Graduation Marks       0\n",
       "EXP (Month)            0\n",
       "CTC                    0\n",
       "Role_Manager           0\n",
       "dtype: int64"
      ]
     },
     "execution_count": 26,
     "metadata": {},
     "output_type": "execute_result"
    }
   ],
   "source": [
    "df.isnull().sum()"
   ]
  },
  {
   "cell_type": "code",
   "execution_count": 27,
   "id": "912352ef-f2e5-4a9e-adae-de08099cca7a",
   "metadata": {},
   "outputs": [
    {
     "data": {
      "text/html": [
       "<div>\n",
       "<style scoped>\n",
       "    .dataframe tbody tr th:only-of-type {\n",
       "        vertical-align: middle;\n",
       "    }\n",
       "\n",
       "    .dataframe tbody tr th {\n",
       "        vertical-align: top;\n",
       "    }\n",
       "\n",
       "    .dataframe thead th {\n",
       "        text-align: right;\n",
       "    }\n",
       "</style>\n",
       "<table border=\"1\" class=\"dataframe\">\n",
       "  <thead>\n",
       "    <tr style=\"text-align: right;\">\n",
       "      <th></th>\n",
       "      <th>College</th>\n",
       "      <th>City</th>\n",
       "      <th>Previous CTC</th>\n",
       "      <th>Previous job change</th>\n",
       "      <th>Graduation Marks</th>\n",
       "      <th>EXP (Month)</th>\n",
       "      <th>CTC</th>\n",
       "      <th>Role_Manager</th>\n",
       "    </tr>\n",
       "  </thead>\n",
       "  <tbody>\n",
       "    <tr>\n",
       "      <th>count</th>\n",
       "      <td>1589.000000</td>\n",
       "      <td>1589.000000</td>\n",
       "      <td>1589.000000</td>\n",
       "      <td>1589.000000</td>\n",
       "      <td>1589.000000</td>\n",
       "      <td>1589.000000</td>\n",
       "      <td>1589.000000</td>\n",
       "      <td>1589.000000</td>\n",
       "    </tr>\n",
       "    <tr>\n",
       "      <th>mean</th>\n",
       "      <td>1.975456</td>\n",
       "      <td>0.514160</td>\n",
       "      <td>55518.453744</td>\n",
       "      <td>2.528634</td>\n",
       "      <td>59.855255</td>\n",
       "      <td>39.044682</td>\n",
       "      <td>75353.278798</td>\n",
       "      <td>0.206419</td>\n",
       "    </tr>\n",
       "    <tr>\n",
       "      <th>std</th>\n",
       "      <td>0.838330</td>\n",
       "      <td>0.499957</td>\n",
       "      <td>6655.218445</td>\n",
       "      <td>1.123918</td>\n",
       "      <td>14.935139</td>\n",
       "      <td>14.108875</td>\n",
       "      <td>12587.288237</td>\n",
       "      <td>0.404862</td>\n",
       "    </tr>\n",
       "    <tr>\n",
       "      <th>min</th>\n",
       "      <td>1.000000</td>\n",
       "      <td>0.000000</td>\n",
       "      <td>36990.000000</td>\n",
       "      <td>1.000000</td>\n",
       "      <td>35.000000</td>\n",
       "      <td>18.000000</td>\n",
       "      <td>53020.320000</td>\n",
       "      <td>0.000000</td>\n",
       "    </tr>\n",
       "    <tr>\n",
       "      <th>25%</th>\n",
       "      <td>1.000000</td>\n",
       "      <td>0.000000</td>\n",
       "      <td>50518.000000</td>\n",
       "      <td>2.000000</td>\n",
       "      <td>46.000000</td>\n",
       "      <td>26.000000</td>\n",
       "      <td>66902.350000</td>\n",
       "      <td>0.000000</td>\n",
       "    </tr>\n",
       "    <tr>\n",
       "      <th>50%</th>\n",
       "      <td>2.000000</td>\n",
       "      <td>1.000000</td>\n",
       "      <td>55291.000000</td>\n",
       "      <td>3.000000</td>\n",
       "      <td>60.000000</td>\n",
       "      <td>39.000000</td>\n",
       "      <td>73028.670000</td>\n",
       "      <td>0.000000</td>\n",
       "    </tr>\n",
       "    <tr>\n",
       "      <th>75%</th>\n",
       "      <td>3.000000</td>\n",
       "      <td>1.000000</td>\n",
       "      <td>60109.000000</td>\n",
       "      <td>4.000000</td>\n",
       "      <td>73.000000</td>\n",
       "      <td>51.000000</td>\n",
       "      <td>80588.670000</td>\n",
       "      <td>0.000000</td>\n",
       "    </tr>\n",
       "    <tr>\n",
       "      <th>max</th>\n",
       "      <td>3.000000</td>\n",
       "      <td>1.000000</td>\n",
       "      <td>77911.000000</td>\n",
       "      <td>4.000000</td>\n",
       "      <td>85.000000</td>\n",
       "      <td>64.000000</td>\n",
       "      <td>123416.990000</td>\n",
       "      <td>1.000000</td>\n",
       "    </tr>\n",
       "  </tbody>\n",
       "</table>\n",
       "</div>"
      ],
      "text/plain": [
       "           College         City  Previous CTC  Previous job change  \\\n",
       "count  1589.000000  1589.000000   1589.000000          1589.000000   \n",
       "mean      1.975456     0.514160  55518.453744             2.528634   \n",
       "std       0.838330     0.499957   6655.218445             1.123918   \n",
       "min       1.000000     0.000000  36990.000000             1.000000   \n",
       "25%       1.000000     0.000000  50518.000000             2.000000   \n",
       "50%       2.000000     1.000000  55291.000000             3.000000   \n",
       "75%       3.000000     1.000000  60109.000000             4.000000   \n",
       "max       3.000000     1.000000  77911.000000             4.000000   \n",
       "\n",
       "       Graduation Marks  EXP (Month)            CTC  Role_Manager  \n",
       "count       1589.000000  1589.000000    1589.000000   1589.000000  \n",
       "mean          59.855255    39.044682   75353.278798      0.206419  \n",
       "std           14.935139    14.108875   12587.288237      0.404862  \n",
       "min           35.000000    18.000000   53020.320000      0.000000  \n",
       "25%           46.000000    26.000000   66902.350000      0.000000  \n",
       "50%           60.000000    39.000000   73028.670000      0.000000  \n",
       "75%           73.000000    51.000000   80588.670000      0.000000  \n",
       "max           85.000000    64.000000  123416.990000      1.000000  "
      ]
     },
     "execution_count": 27,
     "metadata": {},
     "output_type": "execute_result"
    }
   ],
   "source": [
    "df.describe()"
   ]
  },
  {
   "cell_type": "code",
   "execution_count": 28,
   "id": "8c9d5eb6-d69a-41ee-babb-2c830359d3a5",
   "metadata": {},
   "outputs": [
    {
     "data": {
      "text/html": [
       "<div>\n",
       "<style scoped>\n",
       "    .dataframe tbody tr th:only-of-type {\n",
       "        vertical-align: middle;\n",
       "    }\n",
       "\n",
       "    .dataframe tbody tr th {\n",
       "        vertical-align: top;\n",
       "    }\n",
       "\n",
       "    .dataframe thead th {\n",
       "        text-align: right;\n",
       "    }\n",
       "</style>\n",
       "<table border=\"1\" class=\"dataframe\">\n",
       "  <thead>\n",
       "    <tr style=\"text-align: right;\">\n",
       "      <th></th>\n",
       "      <th>College</th>\n",
       "      <th>City</th>\n",
       "      <th>Previous CTC</th>\n",
       "      <th>Previous job change</th>\n",
       "      <th>Graduation Marks</th>\n",
       "      <th>EXP (Month)</th>\n",
       "      <th>CTC</th>\n",
       "      <th>Role_Manager</th>\n",
       "    </tr>\n",
       "  </thead>\n",
       "  <tbody>\n",
       "    <tr>\n",
       "      <th>0</th>\n",
       "      <td>2</td>\n",
       "      <td>0</td>\n",
       "      <td>55523.0</td>\n",
       "      <td>3</td>\n",
       "      <td>66</td>\n",
       "      <td>19</td>\n",
       "      <td>71406.58</td>\n",
       "      <td>1</td>\n",
       "    </tr>\n",
       "    <tr>\n",
       "      <th>1</th>\n",
       "      <td>2</td>\n",
       "      <td>0</td>\n",
       "      <td>57081.0</td>\n",
       "      <td>1</td>\n",
       "      <td>84</td>\n",
       "      <td>18</td>\n",
       "      <td>68005.87</td>\n",
       "      <td>0</td>\n",
       "    </tr>\n",
       "    <tr>\n",
       "      <th>2</th>\n",
       "      <td>3</td>\n",
       "      <td>0</td>\n",
       "      <td>60347.0</td>\n",
       "      <td>2</td>\n",
       "      <td>52</td>\n",
       "      <td>28</td>\n",
       "      <td>76764.02</td>\n",
       "      <td>0</td>\n",
       "    </tr>\n",
       "    <tr>\n",
       "      <th>3</th>\n",
       "      <td>3</td>\n",
       "      <td>0</td>\n",
       "      <td>49010.0</td>\n",
       "      <td>2</td>\n",
       "      <td>81</td>\n",
       "      <td>33</td>\n",
       "      <td>82092.39</td>\n",
       "      <td>0</td>\n",
       "    </tr>\n",
       "    <tr>\n",
       "      <th>4</th>\n",
       "      <td>1</td>\n",
       "      <td>0</td>\n",
       "      <td>57879.0</td>\n",
       "      <td>4</td>\n",
       "      <td>74</td>\n",
       "      <td>32</td>\n",
       "      <td>73878.10</td>\n",
       "      <td>0</td>\n",
       "    </tr>\n",
       "  </tbody>\n",
       "</table>\n",
       "</div>"
      ],
      "text/plain": [
       "   College  City  Previous CTC  Previous job change  Graduation Marks  \\\n",
       "0        2     0       55523.0                    3                66   \n",
       "1        2     0       57081.0                    1                84   \n",
       "2        3     0       60347.0                    2                52   \n",
       "3        3     0       49010.0                    2                81   \n",
       "4        1     0       57879.0                    4                74   \n",
       "\n",
       "   EXP (Month)       CTC  Role_Manager  \n",
       "0           19  71406.58             1  \n",
       "1           18  68005.87             0  \n",
       "2           28  76764.02             0  \n",
       "3           33  82092.39             0  \n",
       "4           32  73878.10             0  "
      ]
     },
     "execution_count": 28,
     "metadata": {},
     "output_type": "execute_result"
    }
   ],
   "source": [
    "df.head()"
   ]
  },
  {
   "cell_type": "code",
   "execution_count": 29,
   "id": "939f579b-f0ef-4dd9-9167-63b889be08e5",
   "metadata": {},
   "outputs": [
    {
     "name": "stderr",
     "output_type": "stream",
     "text": [
      "C:\\ProgramData\\anaconda3\\Lib\\site-packages\\seaborn\\_oldcore.py:1119: FutureWarning: use_inf_as_na option is deprecated and will be removed in a future version. Convert inf values to NaN before operating instead.\n",
      "  with pd.option_context('mode.use_inf_as_na', True):\n",
      "C:\\ProgramData\\anaconda3\\Lib\\site-packages\\seaborn\\_oldcore.py:1119: FutureWarning: use_inf_as_na option is deprecated and will be removed in a future version. Convert inf values to NaN before operating instead.\n",
      "  with pd.option_context('mode.use_inf_as_na', True):\n"
     ]
    },
    {
     "data": {
      "text/plain": [
       "<seaborn.axisgrid.JointGrid at 0x1ef36842290>"
      ]
     },
     "execution_count": 29,
     "metadata": {},
     "output_type": "execute_result"
    },
    {
     "data": {
      "image/png": "[encoded data removed]",
      "text/plain": [
       "<Figure size 600x600 with 3 Axes>"
      ]
     },
     "metadata": {},
     "output_type": "display_data"
    }
   ],
   "source": [
    "sns.jointplot(x=df['Previous CTC'],y=df['CTC'],data=df)"
   ]
  },
  {
   "cell_type": "markdown",
   "id": "c6e496bf-471f-4e3e-add6-bcca63eba2ef",
   "metadata": {},
   "source": [
    "## Multiple Linear Regression Model"
   ]
  },
  {
   "cell_type": "code",
   "execution_count": 30,
   "id": "cb429662-c808-4930-9414-af8fc6bf1fac",
   "metadata": {},
   "outputs": [],
   "source": [
    "from sklearn.linear_model import LinearRegression"
   ]
  },
  {
   "cell_type": "code",
   "execution_count": 31,
   "id": "b8939e3d-16fa-4ba5-afc0-7a3497b73fb7",
   "metadata": {},
   "outputs": [],
   "source": [
    "X_multi = df.drop('CTC', axis = 1)"
   ]
  },
  {
   "cell_type": "code",
   "execution_count": 32,
   "id": "2e5d30b1-0640-4618-a8fe-8f3a508e3f8d",
   "metadata": {},
   "outputs": [
    {
     "data": {
      "text/html": [
       "<div>\n",
       "<style scoped>\n",
       "    .dataframe tbody tr th:only-of-type {\n",
       "        vertical-align: middle;\n",
       "    }\n",
       "\n",
       "    .dataframe tbody tr th {\n",
       "        vertical-align: top;\n",
       "    }\n",
       "\n",
       "    .dataframe thead th {\n",
       "        text-align: right;\n",
       "    }\n",
       "</style>\n",
       "<table border=\"1\" class=\"dataframe\">\n",
       "  <thead>\n",
       "    <tr style=\"text-align: right;\">\n",
       "      <th></th>\n",
       "      <th>College</th>\n",
       "      <th>City</th>\n",
       "      <th>Previous CTC</th>\n",
       "      <th>Previous job change</th>\n",
       "      <th>Graduation Marks</th>\n",
       "      <th>EXP (Month)</th>\n",
       "      <th>Role_Manager</th>\n",
       "    </tr>\n",
       "  </thead>\n",
       "  <tbody>\n",
       "    <tr>\n",
       "      <th>0</th>\n",
       "      <td>2</td>\n",
       "      <td>0</td>\n",
       "      <td>55523.0</td>\n",
       "      <td>3</td>\n",
       "      <td>66</td>\n",
       "      <td>19</td>\n",
       "      <td>1</td>\n",
       "    </tr>\n",
       "    <tr>\n",
       "      <th>1</th>\n",
       "      <td>2</td>\n",
       "      <td>0</td>\n",
       "      <td>57081.0</td>\n",
       "      <td>1</td>\n",
       "      <td>84</td>\n",
       "      <td>18</td>\n",
       "      <td>0</td>\n",
       "    </tr>\n",
       "    <tr>\n",
       "      <th>2</th>\n",
       "      <td>3</td>\n",
       "      <td>0</td>\n",
       "      <td>60347.0</td>\n",
       "      <td>2</td>\n",
       "      <td>52</td>\n",
       "      <td>28</td>\n",
       "      <td>0</td>\n",
       "    </tr>\n",
       "    <tr>\n",
       "      <th>3</th>\n",
       "      <td>3</td>\n",
       "      <td>0</td>\n",
       "      <td>49010.0</td>\n",
       "      <td>2</td>\n",
       "      <td>81</td>\n",
       "      <td>33</td>\n",
       "      <td>0</td>\n",
       "    </tr>\n",
       "    <tr>\n",
       "      <th>4</th>\n",
       "      <td>1</td>\n",
       "      <td>0</td>\n",
       "      <td>57879.0</td>\n",
       "      <td>4</td>\n",
       "      <td>74</td>\n",
       "      <td>32</td>\n",
       "      <td>0</td>\n",
       "    </tr>\n",
       "    <tr>\n",
       "      <th>...</th>\n",
       "      <td>...</td>\n",
       "      <td>...</td>\n",
       "      <td>...</td>\n",
       "      <td>...</td>\n",
       "      <td>...</td>\n",
       "      <td>...</td>\n",
       "      <td>...</td>\n",
       "    </tr>\n",
       "    <tr>\n",
       "      <th>1584</th>\n",
       "      <td>1</td>\n",
       "      <td>1</td>\n",
       "      <td>61285.0</td>\n",
       "      <td>3</td>\n",
       "      <td>44</td>\n",
       "      <td>60</td>\n",
       "      <td>0</td>\n",
       "    </tr>\n",
       "    <tr>\n",
       "      <th>1585</th>\n",
       "      <td>1</td>\n",
       "      <td>0</td>\n",
       "      <td>63140.0</td>\n",
       "      <td>1</td>\n",
       "      <td>44</td>\n",
       "      <td>24</td>\n",
       "      <td>0</td>\n",
       "    </tr>\n",
       "    <tr>\n",
       "      <th>1586</th>\n",
       "      <td>1</td>\n",
       "      <td>1</td>\n",
       "      <td>44907.0</td>\n",
       "      <td>1</td>\n",
       "      <td>60</td>\n",
       "      <td>19</td>\n",
       "      <td>0</td>\n",
       "    </tr>\n",
       "    <tr>\n",
       "      <th>1587</th>\n",
       "      <td>1</td>\n",
       "      <td>0</td>\n",
       "      <td>52054.0</td>\n",
       "      <td>2</td>\n",
       "      <td>67</td>\n",
       "      <td>29</td>\n",
       "      <td>0</td>\n",
       "    </tr>\n",
       "    <tr>\n",
       "      <th>1588</th>\n",
       "      <td>2</td>\n",
       "      <td>1</td>\n",
       "      <td>44353.0</td>\n",
       "      <td>3</td>\n",
       "      <td>75</td>\n",
       "      <td>18</td>\n",
       "      <td>1</td>\n",
       "    </tr>\n",
       "  </tbody>\n",
       "</table>\n",
       "<p>1589 rows × 7 columns</p>\n",
       "</div>"
      ],
      "text/plain": [
       "      College  City  Previous CTC  Previous job change  Graduation Marks  \\\n",
       "0           2     0       55523.0                    3                66   \n",
       "1           2     0       57081.0                    1                84   \n",
       "2           3     0       60347.0                    2                52   \n",
       "3           3     0       49010.0                    2                81   \n",
       "4           1     0       57879.0                    4                74   \n",
       "...       ...   ...           ...                  ...               ...   \n",
       "1584        1     1       61285.0                    3                44   \n",
       "1585        1     0       63140.0                    1                44   \n",
       "1586        1     1       44907.0                    1                60   \n",
       "1587        1     0       52054.0                    2                67   \n",
       "1588        2     1       44353.0                    3                75   \n",
       "\n",
       "      EXP (Month)  Role_Manager  \n",
       "0              19             1  \n",
       "1              18             0  \n",
       "2              28             0  \n",
       "3              33             0  \n",
       "4              32             0  \n",
       "...           ...           ...  \n",
       "1584           60             0  \n",
       "1585           24             0  \n",
       "1586           19             0  \n",
       "1587           29             0  \n",
       "1588           18             1  \n",
       "\n",
       "[1589 rows x 7 columns]"
      ]
     },
     "execution_count": 32,
     "metadata": {},
     "output_type": "execute_result"
    }
   ],
   "source": [
    "X_multi"
   ]
  },
  {
   "cell_type": "code",
   "execution_count": 33,
   "id": "d53fa0f2-81f7-4312-8aae-e6e1fca3d132",
   "metadata": {},
   "outputs": [],
   "source": [
    "Y_multi=df[\"CTC\"]"
   ]
  },
  {
   "cell_type": "code",
   "execution_count": 34,
   "id": "14c2881d-5fe7-42ac-bdb8-7b8ba5bcc92d",
   "metadata": {},
   "outputs": [
    {
     "data": {
      "text/plain": [
       "0       71406.58\n",
       "1       68005.87\n",
       "2       76764.02\n",
       "3       82092.39\n",
       "4       73878.10\n",
       "          ...   \n",
       "1584    77283.59\n",
       "1585    68416.86\n",
       "1586    70186.19\n",
       "1587    73394.09\n",
       "1588    70056.31\n",
       "Name: CTC, Length: 1589, dtype: float64"
      ]
     },
     "execution_count": 34,
     "metadata": {},
     "output_type": "execute_result"
    }
   ],
   "source": [
    "Y_multi"
   ]
  },
  {
   "cell_type": "code",
   "execution_count": 35,
   "id": "888f1b84-8c89-472c-8a6b-35a5c5a75f18",
   "metadata": {},
   "outputs": [],
   "source": [
    "import statsmodels.api as sn"
   ]
  },
  {
   "cell_type": "code",
   "execution_count": 36,
   "id": "da7fef6a-2096-463a-9947-8a05fee25a70",
   "metadata": {},
   "outputs": [],
   "source": [
    "X_multi_cons = sn.add_constant(X_multi)"
   ]
  },
  {
   "cell_type": "code",
   "execution_count": 37,
   "id": "a092ebfb-0aac-49fd-8a38-d6a757a93501",
   "metadata": {},
   "outputs": [
    {
     "data": {
      "text/html": [
       "<div>\n",
       "<style scoped>\n",
       "    .dataframe tbody tr th:only-of-type {\n",
       "        vertical-align: middle;\n",
       "    }\n",
       "\n",
       "    .dataframe tbody tr th {\n",
       "        vertical-align: top;\n",
       "    }\n",
       "\n",
       "    .dataframe thead th {\n",
       "        text-align: right;\n",
       "    }\n",
       "</style>\n",
       "<table border=\"1\" class=\"dataframe\">\n",
       "  <thead>\n",
       "    <tr style=\"text-align: right;\">\n",
       "      <th></th>\n",
       "      <th>const</th>\n",
       "      <th>College</th>\n",
       "      <th>City</th>\n",
       "      <th>Previous CTC</th>\n",
       "      <th>Previous job change</th>\n",
       "      <th>Graduation Marks</th>\n",
       "      <th>EXP (Month)</th>\n",
       "      <th>Role_Manager</th>\n",
       "    </tr>\n",
       "  </thead>\n",
       "  <tbody>\n",
       "    <tr>\n",
       "      <th>0</th>\n",
       "      <td>1.0</td>\n",
       "      <td>2</td>\n",
       "      <td>0</td>\n",
       "      <td>55523.0</td>\n",
       "      <td>3</td>\n",
       "      <td>66</td>\n",
       "      <td>19</td>\n",
       "      <td>1</td>\n",
       "    </tr>\n",
       "    <tr>\n",
       "      <th>1</th>\n",
       "      <td>1.0</td>\n",
       "      <td>2</td>\n",
       "      <td>0</td>\n",
       "      <td>57081.0</td>\n",
       "      <td>1</td>\n",
       "      <td>84</td>\n",
       "      <td>18</td>\n",
       "      <td>0</td>\n",
       "    </tr>\n",
       "    <tr>\n",
       "      <th>2</th>\n",
       "      <td>1.0</td>\n",
       "      <td>3</td>\n",
       "      <td>0</td>\n",
       "      <td>60347.0</td>\n",
       "      <td>2</td>\n",
       "      <td>52</td>\n",
       "      <td>28</td>\n",
       "      <td>0</td>\n",
       "    </tr>\n",
       "    <tr>\n",
       "      <th>3</th>\n",
       "      <td>1.0</td>\n",
       "      <td>3</td>\n",
       "      <td>0</td>\n",
       "      <td>49010.0</td>\n",
       "      <td>2</td>\n",
       "      <td>81</td>\n",
       "      <td>33</td>\n",
       "      <td>0</td>\n",
       "    </tr>\n",
       "    <tr>\n",
       "      <th>4</th>\n",
       "      <td>1.0</td>\n",
       "      <td>1</td>\n",
       "      <td>0</td>\n",
       "      <td>57879.0</td>\n",
       "      <td>4</td>\n",
       "      <td>74</td>\n",
       "      <td>32</td>\n",
       "      <td>0</td>\n",
       "    </tr>\n",
       "  </tbody>\n",
       "</table>\n",
       "</div>"
      ],
      "text/plain": [
       "   const  College  City  Previous CTC  Previous job change  Graduation Marks  \\\n",
       "0    1.0        2     0       55523.0                    3                66   \n",
       "1    1.0        2     0       57081.0                    1                84   \n",
       "2    1.0        3     0       60347.0                    2                52   \n",
       "3    1.0        3     0       49010.0                    2                81   \n",
       "4    1.0        1     0       57879.0                    4                74   \n",
       "\n",
       "   EXP (Month)  Role_Manager  \n",
       "0           19             1  \n",
       "1           18             0  \n",
       "2           28             0  \n",
       "3           33             0  \n",
       "4           32             0  "
      ]
     },
     "execution_count": 37,
     "metadata": {},
     "output_type": "execute_result"
    }
   ],
   "source": [
    "X_multi_cons.head()"
   ]
  },
  {
   "cell_type": "code",
   "execution_count": 38,
   "id": "79c469f3-39cb-4fe9-9e89-797bbbbb16d8",
   "metadata": {},
   "outputs": [],
   "source": [
    "ln_multi = sn.OLS(Y_multi,X_multi_cons).fit()"
   ]
  },
  {
   "cell_type": "code",
   "execution_count": 39,
   "id": "92c868b4-5c91-455f-a80a-d152148ccdc1",
   "metadata": {},
   "outputs": [
    {
     "data": {
      "text/html": [
       "<table class=\"simpletable\">\n",
       "<caption>OLS Regression Results</caption>\n",
       "<tr>\n",
       "  <th>Dep. Variable:</th>           <td>CTC</td>       <th>  R-squared:         </th> <td>   0.534</td> \n",
       "</tr>\n",
       "<tr>\n",
       "  <th>Model:</th>                   <td>OLS</td>       <th>  Adj. R-squared:    </th> <td>   0.532</td> \n",
       "</tr>\n",
       "<tr>\n",
       "  <th>Method:</th>             <td>Least Squares</td>  <th>  F-statistic:       </th> <td>   259.1</td> \n",
       "</tr>\n",
       "<tr>\n",
       "  <th>Date:</th>             <td>Wed, 05 Jun 2024</td> <th>  Prob (F-statistic):</th> <td>4.70e-257</td>\n",
       "</tr>\n",
       "<tr>\n",
       "  <th>Time:</th>                 <td>12:35:33</td>     <th>  Log-Likelihood:    </th> <td> -16648.</td> \n",
       "</tr>\n",
       "<tr>\n",
       "  <th>No. Observations:</th>      <td>  1589</td>      <th>  AIC:               </th> <td>3.331e+04</td>\n",
       "</tr>\n",
       "<tr>\n",
       "  <th>Df Residuals:</th>          <td>  1581</td>      <th>  BIC:               </th> <td>3.335e+04</td>\n",
       "</tr>\n",
       "<tr>\n",
       "  <th>Df Model:</th>              <td>     7</td>      <th>                     </th>     <td> </td>    \n",
       "</tr>\n",
       "<tr>\n",
       "  <th>Covariance Type:</th>      <td>nonrobust</td>    <th>                     </th>     <td> </td>    \n",
       "</tr>\n",
       "</table>\n",
       "<table class=\"simpletable\">\n",
       "<tr>\n",
       "           <td></td>              <th>coef</th>     <th>std err</th>      <th>t</th>      <th>P>|t|</th>  <th>[0.025</th>    <th>0.975]</th>  \n",
       "</tr>\n",
       "<tr>\n",
       "  <th>const</th>               <td> 3.842e+04</td> <td> 2192.660</td> <td>   17.523</td> <td> 0.000</td> <td> 3.41e+04</td> <td> 4.27e+04</td>\n",
       "</tr>\n",
       "<tr>\n",
       "  <th>College</th>             <td> -481.5147</td> <td>  258.382</td> <td>   -1.864</td> <td> 0.063</td> <td> -988.321</td> <td>   25.292</td>\n",
       "</tr>\n",
       "<tr>\n",
       "  <th>City</th>                <td>  380.8308</td> <td>  433.455</td> <td>    0.879</td> <td> 0.380</td> <td> -469.377</td> <td> 1231.039</td>\n",
       "</tr>\n",
       "<tr>\n",
       "  <th>Previous CTC</th>        <td>    0.4101</td> <td>    0.033</td> <td>   12.526</td> <td> 0.000</td> <td>    0.346</td> <td>    0.474</td>\n",
       "</tr>\n",
       "<tr>\n",
       "  <th>Previous job change</th> <td>  126.5653</td> <td>  192.887</td> <td>    0.656</td> <td> 0.512</td> <td> -251.776</td> <td>  504.906</td>\n",
       "</tr>\n",
       "<tr>\n",
       "  <th>Graduation Marks</th>    <td>    6.2362</td> <td>   14.502</td> <td>    0.430</td> <td> 0.667</td> <td>  -22.208</td> <td>   34.681</td>\n",
       "</tr>\n",
       "<tr>\n",
       "  <th>EXP (Month)</th>         <td>  261.3444</td> <td>   15.460</td> <td>   16.904</td> <td> 0.000</td> <td>  231.020</td> <td>  291.669</td>\n",
       "</tr>\n",
       "<tr>\n",
       "  <th>Role_Manager</th>        <td> 1.949e+04</td> <td>  534.694</td> <td>   36.446</td> <td> 0.000</td> <td> 1.84e+04</td> <td> 2.05e+04</td>\n",
       "</tr>\n",
       "</table>\n",
       "<table class=\"simpletable\">\n",
       "<tr>\n",
       "  <th>Omnibus:</th>       <td>49.726</td> <th>  Durbin-Watson:     </th> <td>   2.052</td>\n",
       "</tr>\n",
       "<tr>\n",
       "  <th>Prob(Omnibus):</th> <td> 0.000</td> <th>  Jarque-Bera (JB):  </th> <td>  55.299</td>\n",
       "</tr>\n",
       "<tr>\n",
       "  <th>Skew:</th>          <td> 0.408</td> <th>  Prob(JB):          </th> <td>9.82e-13</td>\n",
       "</tr>\n",
       "<tr>\n",
       "  <th>Kurtosis:</th>      <td> 3.411</td> <th>  Cond. No.          </th> <td>5.68e+05</td>\n",
       "</tr>\n",
       "</table><br/><br/>Notes:<br/>[1] Standard Errors assume that the covariance matrix of the errors is correctly specified.<br/>[2] The condition number is large, 5.68e+05. This might indicate that there are<br/>strong multicollinearity or other numerical problems."
      ],
      "text/latex": [
       "\\begin{center}\n",
       "\\begin{tabular}{lclc}\n",
       "\\toprule\n",
       "\\textbf{Dep. Variable:}      &       CTC        & \\textbf{  R-squared:         } &     0.534   \\\\\n",
       "\\textbf{Model:}              &       OLS        & \\textbf{  Adj. R-squared:    } &     0.532   \\\\\n",
       "\\textbf{Method:}             &  Least Squares   & \\textbf{  F-statistic:       } &     259.1   \\\\\n",
       "\\textbf{Date:}               & Wed, 05 Jun 2024 & \\textbf{  Prob (F-statistic):} & 4.70e-257   \\\\\n",
       "\\textbf{Time:}               &     12:35:33     & \\textbf{  Log-Likelihood:    } &   -16648.   \\\\\n",
       "\\textbf{No. Observations:}   &        1589      & \\textbf{  AIC:               } & 3.331e+04   \\\\\n",
       "\\textbf{Df Residuals:}       &        1581      & \\textbf{  BIC:               } & 3.335e+04   \\\\\n",
       "\\textbf{Df Model:}           &           7      & \\textbf{                     } &             \\\\\n",
       "\\textbf{Covariance Type:}    &    nonrobust     & \\textbf{                     } &             \\\\\n",
       "\\bottomrule\n",
       "\\end{tabular}\n",
       "\\begin{tabular}{lcccccc}\n",
       "                             & \\textbf{coef} & \\textbf{std err} & \\textbf{t} & \\textbf{P$> |$t$|$} & \\textbf{[0.025} & \\textbf{0.975]}  \\\\\n",
       "\\midrule\n",
       "\\textbf{const}               &    3.842e+04  &     2192.660     &    17.523  &         0.000        &     3.41e+04    &     4.27e+04     \\\\\n",
       "\\textbf{College}             &    -481.5147  &      258.382     &    -1.864  &         0.063        &     -988.321    &       25.292     \\\\\n",
       "\\textbf{City}                &     380.8308  &      433.455     &     0.879  &         0.380        &     -469.377    &     1231.039     \\\\\n",
       "\\textbf{Previous CTC}        &       0.4101  &        0.033     &    12.526  &         0.000        &        0.346    &        0.474     \\\\\n",
       "\\textbf{Previous job change} &     126.5653  &      192.887     &     0.656  &         0.512        &     -251.776    &      504.906     \\\\\n",
       "\\textbf{Graduation Marks}    &       6.2362  &       14.502     &     0.430  &         0.667        &      -22.208    &       34.681     \\\\\n",
       "\\textbf{EXP (Month)}         &     261.3444  &       15.460     &    16.904  &         0.000        &      231.020    &      291.669     \\\\\n",
       "\\textbf{Role\\_Manager}       &    1.949e+04  &      534.694     &    36.446  &         0.000        &     1.84e+04    &     2.05e+04     \\\\\n",
       "\\bottomrule\n",
       "\\end{tabular}\n",
       "\\begin{tabular}{lclc}\n",
       "\\textbf{Omnibus:}       & 49.726 & \\textbf{  Durbin-Watson:     } &    2.052  \\\\\n",
       "\\textbf{Prob(Omnibus):} &  0.000 & \\textbf{  Jarque-Bera (JB):  } &   55.299  \\\\\n",
       "\\textbf{Skew:}          &  0.408 & \\textbf{  Prob(JB):          } & 9.82e-13  \\\\\n",
       "\\textbf{Kurtosis:}      &  3.411 & \\textbf{  Cond. No.          } & 5.68e+05  \\\\\n",
       "\\bottomrule\n",
       "\\end{tabular}\n",
       "%\\caption{OLS Regression Results}\n",
       "\\end{center}\n",
       "\n",
       "Notes: \\newline\n",
       " [1] Standard Errors assume that the covariance matrix of the errors is correctly specified. \\newline\n",
       " [2] The condition number is large, 5.68e+05. This might indicate that there are \\newline\n",
       " strong multicollinearity or other numerical problems."
      ],
      "text/plain": [
       "<class 'statsmodels.iolib.summary.Summary'>\n",
       "\"\"\"\n",
       "                            OLS Regression Results                            \n",
       "==============================================================================\n",
       "Dep. Variable:                    CTC   R-squared:                       0.534\n",
       "Model:                            OLS   Adj. R-squared:                  0.532\n",
       "Method:                 Least Squares   F-statistic:                     259.1\n",
       "Date:                Wed, 05 Jun 2024   Prob (F-statistic):          4.70e-257\n",
       "Time:                        12:35:33   Log-Likelihood:                -16648.\n",
       "No. Observations:                1589   AIC:                         3.331e+04\n",
       "Df Residuals:                    1581   BIC:                         3.335e+04\n",
       "Df Model:                           7                                         \n",
       "Covariance Type:            nonrobust                                         \n",
       "=======================================================================================\n",
       "                          coef    std err          t      P>|t|      [0.025      0.975]\n",
       "---------------------------------------------------------------------------------------\n",
       "const                3.842e+04   2192.660     17.523      0.000    3.41e+04    4.27e+04\n",
       "College              -481.5147    258.382     -1.864      0.063    -988.321      25.292\n",
       "City                  380.8308    433.455      0.879      0.380    -469.377    1231.039\n",
       "Previous CTC            0.4101      0.033     12.526      0.000       0.346       0.474\n",
       "Previous job change   126.5653    192.887      0.656      0.512    -251.776     504.906\n",
       "Graduation Marks        6.2362     14.502      0.430      0.667     -22.208      34.681\n",
       "EXP (Month)           261.3444     15.460     16.904      0.000     231.020     291.669\n",
       "Role_Manager         1.949e+04    534.694     36.446      0.000    1.84e+04    2.05e+04\n",
       "==============================================================================\n",
       "Omnibus:                       49.726   Durbin-Watson:                   2.052\n",
       "Prob(Omnibus):                  0.000   Jarque-Bera (JB):               55.299\n",
       "Skew:                           0.408   Prob(JB):                     9.82e-13\n",
       "Kurtosis:                       3.411   Cond. No.                     5.68e+05\n",
       "==============================================================================\n",
       "\n",
       "Notes:\n",
       "[1] Standard Errors assume that the covariance matrix of the errors is correctly specified.\n",
       "[2] The condition number is large, 5.68e+05. This might indicate that there are\n",
       "strong multicollinearity or other numerical problems.\n",
       "\"\"\""
      ]
     },
     "execution_count": 39,
     "metadata": {},
     "output_type": "execute_result"
    }
   ],
   "source": [
    "ln_multi.summary()"
   ]
  },
  {
   "cell_type": "code",
   "execution_count": 40,
   "id": "2ce86176-913d-430c-8b9c-2be48d1658c1",
   "metadata": {},
   "outputs": [],
   "source": [
    "lm3= LinearRegression()"
   ]
  },
  {
   "cell_type": "code",
   "execution_count": 41,
   "id": "a46887d6-f18b-4505-a6ab-6deef4b497e2",
   "metadata": {},
   "outputs": [
    {
     "data": {
      "text/html": [
       "<style>#sk-container-id-1 {color: black;background-color: white;}#sk-container-id-1 pre{padding: 0;}#sk-container-id-1 div.sk-toggleable {background-color: white;}#sk-container-id-1 label.sk-toggleable__label {cursor: pointer;display: block;width: 100%;margin-bottom: 0;padding: 0.3em;box-sizing: border-box;text-align: center;}#sk-container-id-1 label.sk-toggleable__label-arrow:before {content: \"▸\";float: left;margin-right: 0.25em;color: #696969;}#sk-container-id-1 label.sk-toggleable__label-arrow:hover:before {color: black;}#sk-container-id-1 div.sk-estimator:hover label.sk-toggleable__label-arrow:before {color: black;}#sk-container-id-1 div.sk-toggleable__content {max-height: 0;max-width: 0;overflow: hidden;text-align: left;background-color: #f0f8ff;}#sk-container-id-1 div.sk-toggleable__content pre {margin: 0.2em;color: black;border-radius: 0.25em;background-color: #f0f8ff;}#sk-container-id-1 input.sk-toggleable__control:checked~div.sk-toggleable__content {max-height: 200px;max-width: 100%;overflow: auto;}#sk-container-id-1 input.sk-toggleable__control:checked~label.sk-toggleable__label-arrow:before {content: \"▾\";}#sk-container-id-1 div.sk-estimator input.sk-toggleable__control:checked~label.sk-toggleable__label {background-color: #d4ebff;}#sk-container-id-1 div.sk-label input.sk-toggleable__control:checked~label.sk-toggleable__label {background-color: #d4ebff;}#sk-container-id-1 input.sk-hidden--visually {border: 0;clip: rect(1px 1px 1px 1px);clip: rect(1px, 1px, 1px, 1px);height: 1px;margin: -1px;overflow: hidden;padding: 0;position: absolute;width: 1px;}#sk-container-id-1 div.sk-estimator {font-family: monospace;background-color: #f0f8ff;border: 1px dotted black;border-radius: 0.25em;box-sizing: border-box;margin-bottom: 0.5em;}#sk-container-id-1 div.sk-estimator:hover {background-color: #d4ebff;}#sk-container-id-1 div.sk-parallel-item::after {content: \"\";width: 100%;border-bottom: 1px solid gray;flex-grow: 1;}#sk-container-id-1 div.sk-label:hover label.sk-toggleable__label {background-color: #d4ebff;}#sk-container-id-1 div.sk-serial::before {content: \"\";position: absolute;border-left: 1px solid gray;box-sizing: border-box;top: 0;bottom: 0;left: 50%;z-index: 0;}#sk-container-id-1 div.sk-serial {display: flex;flex-direction: column;align-items: center;background-color: white;padding-right: 0.2em;padding-left: 0.2em;position: relative;}#sk-container-id-1 div.sk-item {position: relative;z-index: 1;}#sk-container-id-1 div.sk-parallel {display: flex;align-items: stretch;justify-content: center;background-color: white;position: relative;}#sk-container-id-1 div.sk-item::before, #sk-container-id-1 div.sk-parallel-item::before {content: \"\";position: absolute;border-left: 1px solid gray;box-sizing: border-box;top: 0;bottom: 0;left: 50%;z-index: -1;}#sk-container-id-1 div.sk-parallel-item {display: flex;flex-direction: column;z-index: 1;position: relative;background-color: white;}#sk-container-id-1 div.sk-parallel-item:first-child::after {align-self: flex-end;width: 50%;}#sk-container-id-1 div.sk-parallel-item:last-child::after {align-self: flex-start;width: 50%;}#sk-container-id-1 div.sk-parallel-item:only-child::after {width: 0;}#sk-container-id-1 div.sk-dashed-wrapped {border: 1px dashed gray;margin: 0 0.4em 0.5em 0.4em;box-sizing: border-box;padding-bottom: 0.4em;background-color: white;}#sk-container-id-1 div.sk-label label {font-family: monospace;font-weight: bold;display: inline-block;line-height: 1.2em;}#sk-container-id-1 div.sk-label-container {text-align: center;}#sk-container-id-1 div.sk-container {/* jupyter's `normalize.less` sets `[hidden] { display: none; }` but bootstrap.min.css set `[hidden] { display: none !important; }` so we also need the `!important` here to be able to override the default hidden behavior on the sphinx rendered scikit-learn.org. See: https://github.com/scikit-learn/scikit-learn/issues/21755 */display: inline-block !important;position: relative;}#sk-container-id-1 div.sk-text-repr-fallback {display: none;}</style><div id=\"sk-container-id-1\" class=\"sk-top-container\"><div class=\"sk-text-repr-fallback\"><pre>LinearRegression()</pre><b>In a Jupyter environment, please rerun this cell to show the HTML representation or trust the notebook. <br />On GitHub, the HTML representation is unable to render, please try loading this page with nbviewer.org.</b></div><div class=\"sk-container\" hidden><div class=\"sk-item\"><div class=\"sk-estimator sk-toggleable\"><input class=\"sk-toggleable__control sk-hidden--visually\" id=\"sk-estimator-id-1\" type=\"checkbox\" checked><label for=\"sk-estimator-id-1\" class=\"sk-toggleable__label sk-toggleable__label-arrow\">LinearRegression</label><div class=\"sk-toggleable__content\"><pre>LinearRegression()</pre></div></div></div></div></div>"
      ],
      "text/plain": [
       "LinearRegression()"
      ]
     },
     "execution_count": 41,
     "metadata": {},
     "output_type": "execute_result"
    }
   ],
   "source": [
    "lm3.fit(X_multi,Y_multi)"
   ]
  },
  {
   "cell_type": "code",
   "execution_count": 42,
   "id": "e64b52df-aa1c-4147-a3eb-376d8e767a5d",
   "metadata": {},
   "outputs": [
    {
     "name": "stdout",
     "output_type": "stream",
     "text": [
      "38421.109806899905 [-4.81514705e+02  3.80830787e+02  4.10090279e-01  1.26565295e+02\n",
      "  6.23621203e+00  2.61344394e+02  1.94874279e+04]\n"
     ]
    }
   ],
   "source": [
    "print(lm3.intercept_,lm3.coef_)"
   ]
  },
  {
   "cell_type": "markdown",
   "id": "2ea730dc-db2e-40e1-84ca-949074312c3d",
   "metadata": {},
   "source": [
    "## Test Train Split"
   ]
  },
  {
   "cell_type": "code",
   "execution_count": 43,
   "id": "d13d6bfd-1fee-4381-a7f1-cba2fd9f4c7c",
   "metadata": {},
   "outputs": [],
   "source": [
    "from sklearn.model_selection import train_test_split"
   ]
  },
  {
   "cell_type": "code",
   "execution_count": 44,
   "id": "1b171efc-0c35-428d-8c9c-7b5982e9b84a",
   "metadata": {},
   "outputs": [],
   "source": [
    "x_train,x_test,y_train,y_test=train_test_split(X_multi,Y_multi,test_size=0.2,random_state=0)"
   ]
  },
  {
   "cell_type": "code",
   "execution_count": 45,
   "id": "e77f9450-1ad9-4abc-9341-5ccf7179e534",
   "metadata": {},
   "outputs": [
    {
     "name": "stdout",
     "output_type": "stream",
     "text": [
      "(1271, 7) (318, 7) (1271,) (318,)\n"
     ]
    }
   ],
   "source": [
    "print(x_train.shape,x_test.shape,y_train.shape,y_test.shape)"
   ]
  },
  {
   "cell_type": "code",
   "execution_count": 46,
   "id": "71c2053a-4270-4a74-a5ba-446f83d84142",
   "metadata": {},
   "outputs": [],
   "source": [
    "ln_a=LinearRegression()"
   ]
  },
  {
   "cell_type": "code",
   "execution_count": 47,
   "id": "acfef6d7-d2c8-4d62-ab5a-4858b39e2a14",
   "metadata": {},
   "outputs": [
    {
     "data": {
      "text/html": [
       "<style>#sk-container-id-2 {color: black;background-color: white;}#sk-container-id-2 pre{padding: 0;}#sk-container-id-2 div.sk-toggleable {background-color: white;}#sk-container-id-2 label.sk-toggleable__label {cursor: pointer;display: block;width: 100%;margin-bottom: 0;padding: 0.3em;box-sizing: border-box;text-align: center;}#sk-container-id-2 label.sk-toggleable__label-arrow:before {content: \"▸\";float: left;margin-right: 0.25em;color: #696969;}#sk-container-id-2 label.sk-toggleable__label-arrow:hover:before {color: black;}#sk-container-id-2 div.sk-estimator:hover label.sk-toggleable__label-arrow:before {color: black;}#sk-container-id-2 div.sk-toggleable__content {max-height: 0;max-width: 0;overflow: hidden;text-align: left;background-color: #f0f8ff;}#sk-container-id-2 div.sk-toggleable__content pre {margin: 0.2em;color: black;border-radius: 0.25em;background-color: #f0f8ff;}#sk-container-id-2 input.sk-toggleable__control:checked~div.sk-toggleable__content {max-height: 200px;max-width: 100%;overflow: auto;}#sk-container-id-2 input.sk-toggleable__control:checked~label.sk-toggleable__label-arrow:before {content: \"▾\";}#sk-container-id-2 div.sk-estimator input.sk-toggleable__control:checked~label.sk-toggleable__label {background-color: #d4ebff;}#sk-container-id-2 div.sk-label input.sk-toggleable__control:checked~label.sk-toggleable__label {background-color: #d4ebff;}#sk-container-id-2 input.sk-hidden--visually {border: 0;clip: rect(1px 1px 1px 1px);clip: rect(1px, 1px, 1px, 1px);height: 1px;margin: -1px;overflow: hidden;padding: 0;position: absolute;width: 1px;}#sk-container-id-2 div.sk-estimator {font-family: monospace;background-color: #f0f8ff;border: 1px dotted black;border-radius: 0.25em;box-sizing: border-box;margin-bottom: 0.5em;}#sk-container-id-2 div.sk-estimator:hover {background-color: #d4ebff;}#sk-container-id-2 div.sk-parallel-item::after {content: \"\";width: 100%;border-bottom: 1px solid gray;flex-grow: 1;}#sk-container-id-2 div.sk-label:hover label.sk-toggleable__label {background-color: #d4ebff;}#sk-container-id-2 div.sk-serial::before {content: \"\";position: absolute;border-left: 1px solid gray;box-sizing: border-box;top: 0;bottom: 0;left: 50%;z-index: 0;}#sk-container-id-2 div.sk-serial {display: flex;flex-direction: column;align-items: center;background-color: white;padding-right: 0.2em;padding-left: 0.2em;position: relative;}#sk-container-id-2 div.sk-item {position: relative;z-index: 1;}#sk-container-id-2 div.sk-parallel {display: flex;align-items: stretch;justify-content: center;background-color: white;position: relative;}#sk-container-id-2 div.sk-item::before, #sk-container-id-2 div.sk-parallel-item::before {content: \"\";position: absolute;border-left: 1px solid gray;box-sizing: border-box;top: 0;bottom: 0;left: 50%;z-index: -1;}#sk-container-id-2 div.sk-parallel-item {display: flex;flex-direction: column;z-index: 1;position: relative;background-color: white;}#sk-container-id-2 div.sk-parallel-item:first-child::after {align-self: flex-end;width: 50%;}#sk-container-id-2 div.sk-parallel-item:last-child::after {align-self: flex-start;width: 50%;}#sk-container-id-2 div.sk-parallel-item:only-child::after {width: 0;}#sk-container-id-2 div.sk-dashed-wrapped {border: 1px dashed gray;margin: 0 0.4em 0.5em 0.4em;box-sizing: border-box;padding-bottom: 0.4em;background-color: white;}#sk-container-id-2 div.sk-label label {font-family: monospace;font-weight: bold;display: inline-block;line-height: 1.2em;}#sk-container-id-2 div.sk-label-container {text-align: center;}#sk-container-id-2 div.sk-container {/* jupyter's `normalize.less` sets `[hidden] { display: none; }` but bootstrap.min.css set `[hidden] { display: none !important; }` so we also need the `!important` here to be able to override the default hidden behavior on the sphinx rendered scikit-learn.org. See: https://github.com/scikit-learn/scikit-learn/issues/21755 */display: inline-block !important;position: relative;}#sk-container-id-2 div.sk-text-repr-fallback {display: none;}</style><div id=\"sk-container-id-2\" class=\"sk-top-container\"><div class=\"sk-text-repr-fallback\"><pre>LinearRegression()</pre><b>In a Jupyter environment, please rerun this cell to show the HTML representation or trust the notebook. <br />On GitHub, the HTML representation is unable to render, please try loading this page with nbviewer.org.</b></div><div class=\"sk-container\" hidden><div class=\"sk-item\"><div class=\"sk-estimator sk-toggleable\"><input class=\"sk-toggleable__control sk-hidden--visually\" id=\"sk-estimator-id-2\" type=\"checkbox\" checked><label for=\"sk-estimator-id-2\" class=\"sk-toggleable__label sk-toggleable__label-arrow\">LinearRegression</label><div class=\"sk-toggleable__content\"><pre>LinearRegression()</pre></div></div></div></div></div>"
      ],
      "text/plain": [
       "LinearRegression()"
      ]
     },
     "execution_count": 47,
     "metadata": {},
     "output_type": "execute_result"
    }
   ],
   "source": [
    "ln_a.fit(x_train,y_train)"
   ]
  },
  {
   "cell_type": "code",
   "execution_count": 48,
   "id": "d70e7008-fec9-4dd4-8abf-b0bd2cbf7a3f",
   "metadata": {},
   "outputs": [],
   "source": [
    "y_test_a=ln_a.predict(x_train)"
   ]
  },
  {
   "cell_type": "code",
   "execution_count": 49,
   "id": "a9fb6afc-013e-401d-967f-573fd0ddc6dc",
   "metadata": {},
   "outputs": [],
   "source": [
    "y_train_a=ln_a.predict(x_test)"
   ]
  },
  {
   "cell_type": "code",
   "execution_count": 50,
   "id": "3625a8ba-6b69-4e33-be52-d60f8c11c3b5",
   "metadata": {},
   "outputs": [],
   "source": [
    "from sklearn.metrics import r2_score"
   ]
  },
  {
   "cell_type": "code",
   "execution_count": 51,
   "id": "fb8b00da-7626-47e0-bf2f-45c028626e89",
   "metadata": {},
   "outputs": [
    {
     "data": {
      "text/plain": [
       "0.5355989894790061"
      ]
     },
     "execution_count": 51,
     "metadata": {},
     "output_type": "execute_result"
    }
   ],
   "source": [
    "r2_score(y_test,y_train_a)"
   ]
  },
  {
   "cell_type": "code",
   "execution_count": 52,
   "id": "b40e5b4d-df66-4a3c-ba55-a9d42ad951c0",
   "metadata": {},
   "outputs": [
    {
     "data": {
      "text/plain": [
       "0.5331293335456955"
      ]
     },
     "execution_count": 52,
     "metadata": {},
     "output_type": "execute_result"
    }
   ],
   "source": [
    "r2_score(y_train,y_test_a)"
   ]
  },
  {
   "cell_type": "markdown",
   "id": "26bf4604-0055-4c18-8c4a-d401bcafcb45",
   "metadata": {},
   "source": [
    "## Logistic Regression Model"
   ]
  },
  {
   "cell_type": "code",
   "execution_count": 53,
   "id": "d7dd215a-e84f-4ee2-9501-cb3ed769b2b5",
   "metadata": {},
   "outputs": [],
   "source": [
    "X=df[['CTC']]\n",
    "y=df['Role_Manager']"
   ]
  },
  {
   "cell_type": "code",
   "execution_count": 54,
   "id": "49baa79e-e87c-4280-a60e-a933467801b1",
   "metadata": {},
   "outputs": [
    {
     "data": {
      "text/plain": [
       "0    1\n",
       "1    0\n",
       "2    0\n",
       "3    0\n",
       "4    0\n",
       "Name: Role_Manager, dtype: int32"
      ]
     },
     "execution_count": 54,
     "metadata": {},
     "output_type": "execute_result"
    }
   ],
   "source": [
    "X.head()\n",
    "y.head()"
   ]
  },
  {
   "cell_type": "code",
   "execution_count": 55,
   "id": "5e00fcf0-1152-45c1-bd73-a76372d34728",
   "metadata": {},
   "outputs": [],
   "source": [
    "from sklearn.linear_model import LogisticRegression"
   ]
  },
  {
   "cell_type": "code",
   "execution_count": 56,
   "id": "a8756b83-824d-496e-bf6c-4ae5fc2d0385",
   "metadata": {},
   "outputs": [],
   "source": [
    "clf_lrs = LogisticRegression()"
   ]
  },
  {
   "cell_type": "code",
   "execution_count": 57,
   "id": "8412372f-0068-4931-a27b-756ebef911a0",
   "metadata": {},
   "outputs": [
    {
     "data": {
      "text/html": [
       "<style>#sk-container-id-3 {color: black;background-color: white;}#sk-container-id-3 pre{padding: 0;}#sk-container-id-3 div.sk-toggleable {background-color: white;}#sk-container-id-3 label.sk-toggleable__label {cursor: pointer;display: block;width: 100%;margin-bottom: 0;padding: 0.3em;box-sizing: border-box;text-align: center;}#sk-container-id-3 label.sk-toggleable__label-arrow:before {content: \"▸\";float: left;margin-right: 0.25em;color: #696969;}#sk-container-id-3 label.sk-toggleable__label-arrow:hover:before {color: black;}#sk-container-id-3 div.sk-estimator:hover label.sk-toggleable__label-arrow:before {color: black;}#sk-container-id-3 div.sk-toggleable__content {max-height: 0;max-width: 0;overflow: hidden;text-align: left;background-color: #f0f8ff;}#sk-container-id-3 div.sk-toggleable__content pre {margin: 0.2em;color: black;border-radius: 0.25em;background-color: #f0f8ff;}#sk-container-id-3 input.sk-toggleable__control:checked~div.sk-toggleable__content {max-height: 200px;max-width: 100%;overflow: auto;}#sk-container-id-3 input.sk-toggleable__control:checked~label.sk-toggleable__label-arrow:before {content: \"▾\";}#sk-container-id-3 div.sk-estimator input.sk-toggleable__control:checked~label.sk-toggleable__label {background-color: #d4ebff;}#sk-container-id-3 div.sk-label input.sk-toggleable__control:checked~label.sk-toggleable__label {background-color: #d4ebff;}#sk-container-id-3 input.sk-hidden--visually {border: 0;clip: rect(1px 1px 1px 1px);clip: rect(1px, 1px, 1px, 1px);height: 1px;margin: -1px;overflow: hidden;padding: 0;position: absolute;width: 1px;}#sk-container-id-3 div.sk-estimator {font-family: monospace;background-color: #f0f8ff;border: 1px dotted black;border-radius: 0.25em;box-sizing: border-box;margin-bottom: 0.5em;}#sk-container-id-3 div.sk-estimator:hover {background-color: #d4ebff;}#sk-container-id-3 div.sk-parallel-item::after {content: \"\";width: 100%;border-bottom: 1px solid gray;flex-grow: 1;}#sk-container-id-3 div.sk-label:hover label.sk-toggleable__label {background-color: #d4ebff;}#sk-container-id-3 div.sk-serial::before {content: \"\";position: absolute;border-left: 1px solid gray;box-sizing: border-box;top: 0;bottom: 0;left: 50%;z-index: 0;}#sk-container-id-3 div.sk-serial {display: flex;flex-direction: column;align-items: center;background-color: white;padding-right: 0.2em;padding-left: 0.2em;position: relative;}#sk-container-id-3 div.sk-item {position: relative;z-index: 1;}#sk-container-id-3 div.sk-parallel {display: flex;align-items: stretch;justify-content: center;background-color: white;position: relative;}#sk-container-id-3 div.sk-item::before, #sk-container-id-3 div.sk-parallel-item::before {content: \"\";position: absolute;border-left: 1px solid gray;box-sizing: border-box;top: 0;bottom: 0;left: 50%;z-index: -1;}#sk-container-id-3 div.sk-parallel-item {display: flex;flex-direction: column;z-index: 1;position: relative;background-color: white;}#sk-container-id-3 div.sk-parallel-item:first-child::after {align-self: flex-end;width: 50%;}#sk-container-id-3 div.sk-parallel-item:last-child::after {align-self: flex-start;width: 50%;}#sk-container-id-3 div.sk-parallel-item:only-child::after {width: 0;}#sk-container-id-3 div.sk-dashed-wrapped {border: 1px dashed gray;margin: 0 0.4em 0.5em 0.4em;box-sizing: border-box;padding-bottom: 0.4em;background-color: white;}#sk-container-id-3 div.sk-label label {font-family: monospace;font-weight: bold;display: inline-block;line-height: 1.2em;}#sk-container-id-3 div.sk-label-container {text-align: center;}#sk-container-id-3 div.sk-container {/* jupyter's `normalize.less` sets `[hidden] { display: none; }` but bootstrap.min.css set `[hidden] { display: none !important; }` so we also need the `!important` here to be able to override the default hidden behavior on the sphinx rendered scikit-learn.org. See: https://github.com/scikit-learn/scikit-learn/issues/21755 */display: inline-block !important;position: relative;}#sk-container-id-3 div.sk-text-repr-fallback {display: none;}</style><div id=\"sk-container-id-3\" class=\"sk-top-container\"><div class=\"sk-text-repr-fallback\"><pre>LogisticRegression()</pre><b>In a Jupyter environment, please rerun this cell to show the HTML representation or trust the notebook. <br />On GitHub, the HTML representation is unable to render, please try loading this page with nbviewer.org.</b></div><div class=\"sk-container\" hidden><div class=\"sk-item\"><div class=\"sk-estimator sk-toggleable\"><input class=\"sk-toggleable__control sk-hidden--visually\" id=\"sk-estimator-id-3\" type=\"checkbox\" checked><label for=\"sk-estimator-id-3\" class=\"sk-toggleable__label sk-toggleable__label-arrow\">LogisticRegression</label><div class=\"sk-toggleable__content\"><pre>LogisticRegression()</pre></div></div></div></div></div>"
      ],
      "text/plain": [
       "LogisticRegression()"
      ]
     },
     "execution_count": 57,
     "metadata": {},
     "output_type": "execute_result"
    }
   ],
   "source": [
    "clf_lrs.fit(X,y)"
   ]
  },
  {
   "cell_type": "code",
   "execution_count": 58,
   "id": "2e50b1bd-4ea9-47e7-bbf5-c5f49367707a",
   "metadata": {},
   "outputs": [
    {
     "data": {
      "text/plain": [
       "array([[-1.44177105e-05]])"
      ]
     },
     "execution_count": 58,
     "metadata": {},
     "output_type": "execute_result"
    }
   ],
   "source": [
    "clf_lrs.coef_"
   ]
  },
  {
   "cell_type": "code",
   "execution_count": 59,
   "id": "063bf3ed-f6ae-4a4d-9011-75cf3505578c",
   "metadata": {},
   "outputs": [
    {
     "data": {
      "text/plain": [
       "array([-4.02856353e-10])"
      ]
     },
     "execution_count": 59,
     "metadata": {},
     "output_type": "execute_result"
    }
   ],
   "source": [
    "clf_lrs.intercept_"
   ]
  },
  {
   "cell_type": "code",
   "execution_count": 60,
   "id": "a1bf27dc-012e-4ec9-9b6c-4e8225dfcbd2",
   "metadata": {},
   "outputs": [],
   "source": [
    "import statsmodels.api as sn"
   ]
  },
  {
   "cell_type": "code",
   "execution_count": 61,
   "id": "9557279c-82aa-4a5e-8da7-1a24836096b2",
   "metadata": {},
   "outputs": [],
   "source": [
    "X_cons=sn.add_constant(X)"
   ]
  },
  {
   "cell_type": "code",
   "execution_count": 62,
   "id": "a4f3bce1-a9bc-4e0d-9f9b-79aad864fed0",
   "metadata": {},
   "outputs": [
    {
     "data": {
      "text/html": [
       "<div>\n",
       "<style scoped>\n",
       "    .dataframe tbody tr th:only-of-type {\n",
       "        vertical-align: middle;\n",
       "    }\n",
       "\n",
       "    .dataframe tbody tr th {\n",
       "        vertical-align: top;\n",
       "    }\n",
       "\n",
       "    .dataframe thead th {\n",
       "        text-align: right;\n",
       "    }\n",
       "</style>\n",
       "<table border=\"1\" class=\"dataframe\">\n",
       "  <thead>\n",
       "    <tr style=\"text-align: right;\">\n",
       "      <th></th>\n",
       "      <th>const</th>\n",
       "      <th>CTC</th>\n",
       "    </tr>\n",
       "  </thead>\n",
       "  <tbody>\n",
       "    <tr>\n",
       "      <th>0</th>\n",
       "      <td>1.0</td>\n",
       "      <td>71406.58</td>\n",
       "    </tr>\n",
       "    <tr>\n",
       "      <th>1</th>\n",
       "      <td>1.0</td>\n",
       "      <td>68005.87</td>\n",
       "    </tr>\n",
       "    <tr>\n",
       "      <th>2</th>\n",
       "      <td>1.0</td>\n",
       "      <td>76764.02</td>\n",
       "    </tr>\n",
       "    <tr>\n",
       "      <th>3</th>\n",
       "      <td>1.0</td>\n",
       "      <td>82092.39</td>\n",
       "    </tr>\n",
       "    <tr>\n",
       "      <th>4</th>\n",
       "      <td>1.0</td>\n",
       "      <td>73878.10</td>\n",
       "    </tr>\n",
       "  </tbody>\n",
       "</table>\n",
       "</div>"
      ],
      "text/plain": [
       "   const       CTC\n",
       "0    1.0  71406.58\n",
       "1    1.0  68005.87\n",
       "2    1.0  76764.02\n",
       "3    1.0  82092.39\n",
       "4    1.0  73878.10"
      ]
     },
     "execution_count": 62,
     "metadata": {},
     "output_type": "execute_result"
    }
   ],
   "source": [
    "X_cons.head()"
   ]
  },
  {
   "cell_type": "code",
   "execution_count": 63,
   "id": "bc2df95f-eb75-4993-912b-0022c0456538",
   "metadata": {},
   "outputs": [],
   "source": [
    "import statsmodels.discrete.discrete_model as sm"
   ]
  },
  {
   "cell_type": "code",
   "execution_count": 64,
   "id": "0303af6a-04b6-4b19-a244-7b4403b4c5b1",
   "metadata": {},
   "outputs": [
    {
     "name": "stdout",
     "output_type": "stream",
     "text": [
      "Optimization terminated successfully.\n",
      "         Current function value: 0.315316\n",
      "         Iterations 7\n"
     ]
    }
   ],
   "source": [
    "logit_model = sm.Logit(y, X_cons).fit()"
   ]
  },
  {
   "cell_type": "code",
   "execution_count": 65,
   "id": "6d012a3a-5d7a-4596-81fc-f80c8bfbd74d",
   "metadata": {},
   "outputs": [
    {
     "data": {
      "text/html": [
       "<table class=\"simpletable\">\n",
       "<caption>Logit Regression Results</caption>\n",
       "<tr>\n",
       "  <th>Dep. Variable:</th>     <td>Role_Manager</td>   <th>  No. Observations:  </th>   <td>  1589</td>  \n",
       "</tr>\n",
       "<tr>\n",
       "  <th>Model:</th>                 <td>Logit</td>      <th>  Df Residuals:      </th>   <td>  1587</td>  \n",
       "</tr>\n",
       "<tr>\n",
       "  <th>Method:</th>                 <td>MLE</td>       <th>  Df Model:          </th>   <td>     1</td>  \n",
       "</tr>\n",
       "<tr>\n",
       "  <th>Date:</th>            <td>Wed, 05 Jun 2024</td> <th>  Pseudo R-squ.:     </th>   <td>0.3807</td>  \n",
       "</tr>\n",
       "<tr>\n",
       "  <th>Time:</th>                <td>12:36:47</td>     <th>  Log-Likelihood:    </th>  <td> -501.04</td> \n",
       "</tr>\n",
       "<tr>\n",
       "  <th>converged:</th>             <td>True</td>       <th>  LL-Null:           </th>  <td> -809.08</td> \n",
       "</tr>\n",
       "<tr>\n",
       "  <th>Covariance Type:</th>     <td>nonrobust</td>    <th>  LLR p-value:       </th> <td>5.327e-136</td>\n",
       "</tr>\n",
       "</table>\n",
       "<table class=\"simpletable\">\n",
       "<tr>\n",
       "    <td></td>       <th>coef</th>     <th>std err</th>      <th>z</th>      <th>P>|z|</th>  <th>[0.025</th>    <th>0.975]</th>  \n",
       "</tr>\n",
       "<tr>\n",
       "  <th>const</th> <td>  -13.2024</td> <td>    0.676</td> <td>  -19.527</td> <td> 0.000</td> <td>  -14.528</td> <td>  -11.877</td>\n",
       "</tr>\n",
       "<tr>\n",
       "  <th>CTC</th>   <td>    0.0001</td> <td>  8.3e-06</td> <td>   17.987</td> <td> 0.000</td> <td>    0.000</td> <td>    0.000</td>\n",
       "</tr>\n",
       "</table>"
      ],
      "text/latex": [
       "\\begin{center}\n",
       "\\begin{tabular}{lclc}\n",
       "\\toprule\n",
       "\\textbf{Dep. Variable:}   &  Role\\_Manager   & \\textbf{  No. Observations:  } &     1589    \\\\\n",
       "\\textbf{Model:}           &      Logit       & \\textbf{  Df Residuals:      } &     1587    \\\\\n",
       "\\textbf{Method:}          &       MLE        & \\textbf{  Df Model:          } &        1    \\\\\n",
       "\\textbf{Date:}            & Wed, 05 Jun 2024 & \\textbf{  Pseudo R-squ.:     } &   0.3807    \\\\\n",
       "\\textbf{Time:}            &     12:36:47     & \\textbf{  Log-Likelihood:    } &   -501.04   \\\\\n",
       "\\textbf{converged:}       &       True       & \\textbf{  LL-Null:           } &   -809.08   \\\\\n",
       "\\textbf{Covariance Type:} &    nonrobust     & \\textbf{  LLR p-value:       } & 5.327e-136  \\\\\n",
       "\\bottomrule\n",
       "\\end{tabular}\n",
       "\\begin{tabular}{lcccccc}\n",
       "               & \\textbf{coef} & \\textbf{std err} & \\textbf{z} & \\textbf{P$> |$z$|$} & \\textbf{[0.025} & \\textbf{0.975]}  \\\\\n",
       "\\midrule\n",
       "\\textbf{const} &     -13.2024  &        0.676     &   -19.527  &         0.000        &      -14.528    &      -11.877     \\\\\n",
       "\\textbf{CTC}   &       0.0001  &      8.3e-06     &    17.987  &         0.000        &        0.000    &        0.000     \\\\\n",
       "\\bottomrule\n",
       "\\end{tabular}\n",
       "%\\caption{Logit Regression Results}\n",
       "\\end{center}"
      ],
      "text/plain": [
       "<class 'statsmodels.iolib.summary.Summary'>\n",
       "\"\"\"\n",
       "                           Logit Regression Results                           \n",
       "==============================================================================\n",
       "Dep. Variable:           Role_Manager   No. Observations:                 1589\n",
       "Model:                          Logit   Df Residuals:                     1587\n",
       "Method:                           MLE   Df Model:                            1\n",
       "Date:                Wed, 05 Jun 2024   Pseudo R-squ.:                  0.3807\n",
       "Time:                        12:36:47   Log-Likelihood:                -501.04\n",
       "converged:                       True   LL-Null:                       -809.08\n",
       "Covariance Type:            nonrobust   LLR p-value:                5.327e-136\n",
       "==============================================================================\n",
       "                 coef    std err          z      P>|z|      [0.025      0.975]\n",
       "------------------------------------------------------------------------------\n",
       "const        -13.2024      0.676    -19.527      0.000     -14.528     -11.877\n",
       "CTC            0.0001    8.3e-06     17.987      0.000       0.000       0.000\n",
       "==============================================================================\n",
       "\"\"\""
      ]
     },
     "execution_count": 65,
     "metadata": {},
     "output_type": "execute_result"
    }
   ],
   "source": [
    "logit_model.summary()"
   ]
  },
  {
   "cell_type": "markdown",
   "id": "44016ea8-5f64-4381-b814-db6d15ee8a89",
   "metadata": {},
   "source": [
    "## Confusion Matrix"
   ]
  },
  {
   "cell_type": "code",
   "execution_count": 66,
   "id": "0e3e5414-8d24-487a-9355-c4fcc7e520b0",
   "metadata": {},
   "outputs": [
    {
     "data": {
      "text/plain": [
       "array([[0.73682271, 0.26317729],\n",
       "       [0.72720522, 0.27279478],\n",
       "       [0.75152485, 0.24847515],\n",
       "       ...,\n",
       "       [0.73339654, 0.26660346],\n",
       "       [0.74234158, 0.25765842],\n",
       "       [0.73303025, 0.26696975]])"
      ]
     },
     "execution_count": 66,
     "metadata": {},
     "output_type": "execute_result"
    }
   ],
   "source": [
    "clf_lrs.predict_proba(X)"
   ]
  },
  {
   "cell_type": "code",
   "execution_count": 67,
   "id": "6637b63e-0d58-4884-899b-caf40730b299",
   "metadata": {},
   "outputs": [],
   "source": [
    "y_pred=clf_lrs.predict(X)"
   ]
  },
  {
   "cell_type": "code",
   "execution_count": 68,
   "id": "6a893b7a-768e-4684-be47-adc6a50ff592",
   "metadata": {},
   "outputs": [
    {
     "data": {
      "text/plain": [
       "array([0, 0, 0, ..., 0, 0, 0])"
      ]
     },
     "execution_count": 68,
     "metadata": {},
     "output_type": "execute_result"
    }
   ],
   "source": [
    "y_pred"
   ]
  },
  {
   "cell_type": "code",
   "execution_count": 69,
   "id": "8baebaad-b1bc-4d6d-863d-4b6fefffe834",
   "metadata": {},
   "outputs": [],
   "source": [
    "y_pred_03=(clf_lrs.predict_proba(X)[:,1]>=0.3)"
   ]
  },
  {
   "cell_type": "code",
   "execution_count": 70,
   "id": "74445f79-1219-41ff-abf6-4a45d52a76eb",
   "metadata": {},
   "outputs": [],
   "source": [
    "from sklearn.metrics import confusion_matrix"
   ]
  },
  {
   "cell_type": "code",
   "execution_count": 71,
   "id": "090ca07c-09d0-42b3-b651-c529158a92f4",
   "metadata": {},
   "outputs": [
    {
     "data": {
      "text/plain": [
       "array([[1201,   60],\n",
       "       [ 328,    0]], dtype=int64)"
      ]
     },
     "execution_count": 71,
     "metadata": {},
     "output_type": "execute_result"
    }
   ],
   "source": [
    "confusion_matrix(y,y_pred_03)"
   ]
  },
  {
   "cell_type": "code",
   "execution_count": 72,
   "id": "c75c1236-f7c6-4b65-9347-e8620ee91327",
   "metadata": {},
   "outputs": [],
   "source": [
    "from sklearn.metrics import precision_score, recall_score"
   ]
  },
  {
   "cell_type": "code",
   "execution_count": 73,
   "id": "cf050abf-297c-4e0a-bf8c-da52ee9a3be5",
   "metadata": {},
   "outputs": [
    {
     "name": "stderr",
     "output_type": "stream",
     "text": [
      "C:\\ProgramData\\anaconda3\\Lib\\site-packages\\sklearn\\metrics\\_classification.py:1344: UndefinedMetricWarning: Precision is ill-defined and being set to 0.0 due to no predicted samples. Use `zero_division` parameter to control this behavior.\n",
      "  _warn_prf(average, modifier, msg_start, len(result))\n"
     ]
    },
    {
     "data": {
      "text/plain": [
       "0.0"
      ]
     },
     "execution_count": 73,
     "metadata": {},
     "output_type": "execute_result"
    }
   ],
   "source": [
    "precision_score(y,y_pred)"
   ]
  },
  {
   "cell_type": "code",
   "execution_count": 74,
   "id": "701fb517-181b-4532-9864-a6f89671c32d",
   "metadata": {},
   "outputs": [
    {
     "data": {
      "text/plain": [
       "0.0"
      ]
     },
     "execution_count": 74,
     "metadata": {},
     "output_type": "execute_result"
    }
   ],
   "source": [
    "recall_score(y,y_pred)"
   ]
  },
  {
   "cell_type": "code",
   "execution_count": 75,
   "id": "dcc90804-14f2-4054-8e18-f7014ebd7aff",
   "metadata": {},
   "outputs": [],
   "source": [
    "from sklearn.metrics import roc_auc_score"
   ]
  },
  {
   "cell_type": "code",
   "execution_count": 76,
   "id": "6cd1e84b-94e7-4878-ae46-ff02fed773f2",
   "metadata": {},
   "outputs": [
    {
     "data": {
      "text/plain": [
       "0.5"
      ]
     },
     "execution_count": 76,
     "metadata": {},
     "output_type": "execute_result"
    }
   ],
   "source": [
    "roc_auc_score(y,y_pred)"
   ]
  },
  {
   "cell_type": "markdown",
   "id": "d8a45f7e-8844-468a-bf94-ca34d60bf099",
   "metadata": {},
   "source": [
    "## Linear Discriminant Analysis(LDA)"
   ]
  },
  {
   "cell_type": "code",
   "execution_count": 77,
   "id": "0ffc1b08-2d6b-43fe-a185-7004a36c59e2",
   "metadata": {},
   "outputs": [],
   "source": [
    "from sklearn.discriminant_analysis import LinearDiscriminantAnalysis"
   ]
  },
  {
   "cell_type": "code",
   "execution_count": 78,
   "id": "c9a75b66-4bb8-4c29-a96e-26f1b5b9d5c3",
   "metadata": {},
   "outputs": [],
   "source": [
    "clf_lda=LinearDiscriminantAnalysis()"
   ]
  },
  {
   "cell_type": "code",
   "execution_count": 79,
   "id": "7c2a2d16-24cf-4ec0-9c58-0d5f910b729a",
   "metadata": {},
   "outputs": [
    {
     "data": {
      "text/html": [
       "<style>#sk-container-id-4 {color: black;background-color: white;}#sk-container-id-4 pre{padding: 0;}#sk-container-id-4 div.sk-toggleable {background-color: white;}#sk-container-id-4 label.sk-toggleable__label {cursor: pointer;display: block;width: 100%;margin-bottom: 0;padding: 0.3em;box-sizing: border-box;text-align: center;}#sk-container-id-4 label.sk-toggleable__label-arrow:before {content: \"▸\";float: left;margin-right: 0.25em;color: #696969;}#sk-container-id-4 label.sk-toggleable__label-arrow:hover:before {color: black;}#sk-container-id-4 div.sk-estimator:hover label.sk-toggleable__label-arrow:before {color: black;}#sk-container-id-4 div.sk-toggleable__content {max-height: 0;max-width: 0;overflow: hidden;text-align: left;background-color: #f0f8ff;}#sk-container-id-4 div.sk-toggleable__content pre {margin: 0.2em;color: black;border-radius: 0.25em;background-color: #f0f8ff;}#sk-container-id-4 input.sk-toggleable__control:checked~div.sk-toggleable__content {max-height: 200px;max-width: 100%;overflow: auto;}#sk-container-id-4 input.sk-toggleable__control:checked~label.sk-toggleable__label-arrow:before {content: \"▾\";}#sk-container-id-4 div.sk-estimator input.sk-toggleable__control:checked~label.sk-toggleable__label {background-color: #d4ebff;}#sk-container-id-4 div.sk-label input.sk-toggleable__control:checked~label.sk-toggleable__label {background-color: #d4ebff;}#sk-container-id-4 input.sk-hidden--visually {border: 0;clip: rect(1px 1px 1px 1px);clip: rect(1px, 1px, 1px, 1px);height: 1px;margin: -1px;overflow: hidden;padding: 0;position: absolute;width: 1px;}#sk-container-id-4 div.sk-estimator {font-family: monospace;background-color: #f0f8ff;border: 1px dotted black;border-radius: 0.25em;box-sizing: border-box;margin-bottom: 0.5em;}#sk-container-id-4 div.sk-estimator:hover {background-color: #d4ebff;}#sk-container-id-4 div.sk-parallel-item::after {content: \"\";width: 100%;border-bottom: 1px solid gray;flex-grow: 1;}#sk-container-id-4 div.sk-label:hover label.sk-toggleable__label {background-color: #d4ebff;}#sk-container-id-4 div.sk-serial::before {content: \"\";position: absolute;border-left: 1px solid gray;box-sizing: border-box;top: 0;bottom: 0;left: 50%;z-index: 0;}#sk-container-id-4 div.sk-serial {display: flex;flex-direction: column;align-items: center;background-color: white;padding-right: 0.2em;padding-left: 0.2em;position: relative;}#sk-container-id-4 div.sk-item {position: relative;z-index: 1;}#sk-container-id-4 div.sk-parallel {display: flex;align-items: stretch;justify-content: center;background-color: white;position: relative;}#sk-container-id-4 div.sk-item::before, #sk-container-id-4 div.sk-parallel-item::before {content: \"\";position: absolute;border-left: 1px solid gray;box-sizing: border-box;top: 0;bottom: 0;left: 50%;z-index: -1;}#sk-container-id-4 div.sk-parallel-item {display: flex;flex-direction: column;z-index: 1;position: relative;background-color: white;}#sk-container-id-4 div.sk-parallel-item:first-child::after {align-self: flex-end;width: 50%;}#sk-container-id-4 div.sk-parallel-item:last-child::after {align-self: flex-start;width: 50%;}#sk-container-id-4 div.sk-parallel-item:only-child::after {width: 0;}#sk-container-id-4 div.sk-dashed-wrapped {border: 1px dashed gray;margin: 0 0.4em 0.5em 0.4em;box-sizing: border-box;padding-bottom: 0.4em;background-color: white;}#sk-container-id-4 div.sk-label label {font-family: monospace;font-weight: bold;display: inline-block;line-height: 1.2em;}#sk-container-id-4 div.sk-label-container {text-align: center;}#sk-container-id-4 div.sk-container {/* jupyter's `normalize.less` sets `[hidden] { display: none; }` but bootstrap.min.css set `[hidden] { display: none !important; }` so we also need the `!important` here to be able to override the default hidden behavior on the sphinx rendered scikit-learn.org. See: https://github.com/scikit-learn/scikit-learn/issues/21755 */display: inline-block !important;position: relative;}#sk-container-id-4 div.sk-text-repr-fallback {display: none;}</style><div id=\"sk-container-id-4\" class=\"sk-top-container\"><div class=\"sk-text-repr-fallback\"><pre>LinearDiscriminantAnalysis()</pre><b>In a Jupyter environment, please rerun this cell to show the HTML representation or trust the notebook. <br />On GitHub, the HTML representation is unable to render, please try loading this page with nbviewer.org.</b></div><div class=\"sk-container\" hidden><div class=\"sk-item\"><div class=\"sk-estimator sk-toggleable\"><input class=\"sk-toggleable__control sk-hidden--visually\" id=\"sk-estimator-id-4\" type=\"checkbox\" checked><label for=\"sk-estimator-id-4\" class=\"sk-toggleable__label sk-toggleable__label-arrow\">LinearDiscriminantAnalysis</label><div class=\"sk-toggleable__content\"><pre>LinearDiscriminantAnalysis()</pre></div></div></div></div></div>"
      ],
      "text/plain": [
       "LinearDiscriminantAnalysis()"
      ]
     },
     "execution_count": 79,
     "metadata": {},
     "output_type": "execute_result"
    }
   ],
   "source": [
    "clf_lda.fit(X,y)"
   ]
  },
  {
   "cell_type": "code",
   "execution_count": 80,
   "id": "25f95524-72c0-42ec-8682-26e801d88bda",
   "metadata": {},
   "outputs": [],
   "source": [
    "y_pred_lda=clf_lda.predict(X)"
   ]
  },
  {
   "cell_type": "code",
   "execution_count": 81,
   "id": "8e255cca-95ab-41f4-a4fc-daadca85a133",
   "metadata": {},
   "outputs": [
    {
     "data": {
      "text/plain": [
       "array([0, 0, 0, ..., 0, 0, 0])"
      ]
     },
     "execution_count": 81,
     "metadata": {},
     "output_type": "execute_result"
    }
   ],
   "source": [
    "y_pred_lda"
   ]
  },
  {
   "cell_type": "code",
   "execution_count": 82,
   "id": "3a3dcc46-a18c-41a3-bb23-3f55baa34033",
   "metadata": {},
   "outputs": [
    {
     "data": {
      "text/plain": [
       "array([[1214,   47],\n",
       "       [ 147,  181]], dtype=int64)"
      ]
     },
     "execution_count": 82,
     "metadata": {},
     "output_type": "execute_result"
    }
   ],
   "source": [
    "confusion_matrix(y,y_pred_lda)"
   ]
  },
  {
   "cell_type": "markdown",
   "id": "2c3575b1-9de4-40d2-8b65-949fba7a2f55",
   "metadata": {},
   "source": [
    "## KNN Model"
   ]
  },
  {
   "cell_type": "code",
   "execution_count": 83,
   "id": "ad8fc817-db7b-4d6c-8c43-f8462ce59bdb",
   "metadata": {},
   "outputs": [],
   "source": [
    "from sklearn import preprocessing"
   ]
  },
  {
   "cell_type": "code",
   "execution_count": 84,
   "id": "0b09b6ee-43e4-4d83-a5c5-28a59897b6bb",
   "metadata": {},
   "outputs": [],
   "source": [
    "scaler = preprocessing.StandardScaler().fit(x_train)"
   ]
  },
  {
   "cell_type": "code",
   "execution_count": 85,
   "id": "a010fbf3-bd26-41ad-8967-db466e0fd079",
   "metadata": {},
   "outputs": [],
   "source": [
    "x_test_s=scaler.transform(x_test)"
   ]
  },
  {
   "cell_type": "code",
   "execution_count": 86,
   "id": "796903d8-6b05-4ecc-a97f-47baaedc7c41",
   "metadata": {},
   "outputs": [],
   "source": [
    "x_train_s=scaler.transform(x_train)"
   ]
  },
  {
   "cell_type": "code",
   "execution_count": 87,
   "id": "5ace7deb-af63-4903-a5c5-1e97dacb7f67",
   "metadata": {},
   "outputs": [],
   "source": [
    "from sklearn.linear_model import Ridge"
   ]
  },
  {
   "cell_type": "code",
   "execution_count": 88,
   "id": "de6c371c-4f63-4526-bf4e-04ecdaaae0e2",
   "metadata": {},
   "outputs": [
    {
     "data": {
      "text/html": [
       "<style>#sk-container-id-5 {color: black;background-color: white;}#sk-container-id-5 pre{padding: 0;}#sk-container-id-5 div.sk-toggleable {background-color: white;}#sk-container-id-5 label.sk-toggleable__label {cursor: pointer;display: block;width: 100%;margin-bottom: 0;padding: 0.3em;box-sizing: border-box;text-align: center;}#sk-container-id-5 label.sk-toggleable__label-arrow:before {content: \"▸\";float: left;margin-right: 0.25em;color: #696969;}#sk-container-id-5 label.sk-toggleable__label-arrow:hover:before {color: black;}#sk-container-id-5 div.sk-estimator:hover label.sk-toggleable__label-arrow:before {color: black;}#sk-container-id-5 div.sk-toggleable__content {max-height: 0;max-width: 0;overflow: hidden;text-align: left;background-color: #f0f8ff;}#sk-container-id-5 div.sk-toggleable__content pre {margin: 0.2em;color: black;border-radius: 0.25em;background-color: #f0f8ff;}#sk-container-id-5 input.sk-toggleable__control:checked~div.sk-toggleable__content {max-height: 200px;max-width: 100%;overflow: auto;}#sk-container-id-5 input.sk-toggleable__control:checked~label.sk-toggleable__label-arrow:before {content: \"▾\";}#sk-container-id-5 div.sk-estimator input.sk-toggleable__control:checked~label.sk-toggleable__label {background-color: #d4ebff;}#sk-container-id-5 div.sk-label input.sk-toggleable__control:checked~label.sk-toggleable__label {background-color: #d4ebff;}#sk-container-id-5 input.sk-hidden--visually {border: 0;clip: rect(1px 1px 1px 1px);clip: rect(1px, 1px, 1px, 1px);height: 1px;margin: -1px;overflow: hidden;padding: 0;position: absolute;width: 1px;}#sk-container-id-5 div.sk-estimator {font-family: monospace;background-color: #f0f8ff;border: 1px dotted black;border-radius: 0.25em;box-sizing: border-box;margin-bottom: 0.5em;}#sk-container-id-5 div.sk-estimator:hover {background-color: #d4ebff;}#sk-container-id-5 div.sk-parallel-item::after {content: \"\";width: 100%;border-bottom: 1px solid gray;flex-grow: 1;}#sk-container-id-5 div.sk-label:hover label.sk-toggleable__label {background-color: #d4ebff;}#sk-container-id-5 div.sk-serial::before {content: \"\";position: absolute;border-left: 1px solid gray;box-sizing: border-box;top: 0;bottom: 0;left: 50%;z-index: 0;}#sk-container-id-5 div.sk-serial {display: flex;flex-direction: column;align-items: center;background-color: white;padding-right: 0.2em;padding-left: 0.2em;position: relative;}#sk-container-id-5 div.sk-item {position: relative;z-index: 1;}#sk-container-id-5 div.sk-parallel {display: flex;align-items: stretch;justify-content: center;background-color: white;position: relative;}#sk-container-id-5 div.sk-item::before, #sk-container-id-5 div.sk-parallel-item::before {content: \"\";position: absolute;border-left: 1px solid gray;box-sizing: border-box;top: 0;bottom: 0;left: 50%;z-index: -1;}#sk-container-id-5 div.sk-parallel-item {display: flex;flex-direction: column;z-index: 1;position: relative;background-color: white;}#sk-container-id-5 div.sk-parallel-item:first-child::after {align-self: flex-end;width: 50%;}#sk-container-id-5 div.sk-parallel-item:last-child::after {align-self: flex-start;width: 50%;}#sk-container-id-5 div.sk-parallel-item:only-child::after {width: 0;}#sk-container-id-5 div.sk-dashed-wrapped {border: 1px dashed gray;margin: 0 0.4em 0.5em 0.4em;box-sizing: border-box;padding-bottom: 0.4em;background-color: white;}#sk-container-id-5 div.sk-label label {font-family: monospace;font-weight: bold;display: inline-block;line-height: 1.2em;}#sk-container-id-5 div.sk-label-container {text-align: center;}#sk-container-id-5 div.sk-container {/* jupyter's `normalize.less` sets `[hidden] { display: none; }` but bootstrap.min.css set `[hidden] { display: none !important; }` so we also need the `!important` here to be able to override the default hidden behavior on the sphinx rendered scikit-learn.org. See: https://github.com/scikit-learn/scikit-learn/issues/21755 */display: inline-block !important;position: relative;}#sk-container-id-5 div.sk-text-repr-fallback {display: none;}</style><div id=\"sk-container-id-5\" class=\"sk-top-container\"><div class=\"sk-text-repr-fallback\"><pre>Ridge(alpha=0.9)</pre><b>In a Jupyter environment, please rerun this cell to show the HTML representation or trust the notebook. <br />On GitHub, the HTML representation is unable to render, please try loading this page with nbviewer.org.</b></div><div class=\"sk-container\" hidden><div class=\"sk-item\"><div class=\"sk-estimator sk-toggleable\"><input class=\"sk-toggleable__control sk-hidden--visually\" id=\"sk-estimator-id-5\" type=\"checkbox\" checked><label for=\"sk-estimator-id-5\" class=\"sk-toggleable__label sk-toggleable__label-arrow\">Ridge</label><div class=\"sk-toggleable__content\"><pre>Ridge(alpha=0.9)</pre></div></div></div></div></div>"
      ],
      "text/plain": [
       "Ridge(alpha=0.9)"
      ]
     },
     "execution_count": 88,
     "metadata": {},
     "output_type": "execute_result"
    }
   ],
   "source": [
    "ln_r=Ridge(alpha=0.9)\n",
    "ln_r.fit(x_train_s,y_train)"
   ]
  },
  {
   "cell_type": "code",
   "execution_count": 89,
   "id": "efb92b72-2552-4608-a12c-e2ba0ed4f56c",
   "metadata": {},
   "outputs": [
    {
     "data": {
      "text/plain": [
       "0.535573502591577"
      ]
     },
     "execution_count": 89,
     "metadata": {},
     "output_type": "execute_result"
    }
   ],
   "source": [
    "r2_score(y_test,ln_r.predict(x_test_s))"
   ]
  },
  {
   "cell_type": "code",
   "execution_count": 90,
   "id": "0ae2c904-95e0-4c24-8a87-f5c8aed484c4",
   "metadata": {},
   "outputs": [
    {
     "data": {
      "text/html": [
       "<div>\n",
       "<style scoped>\n",
       "    .dataframe tbody tr th:only-of-type {\n",
       "        vertical-align: middle;\n",
       "    }\n",
       "\n",
       "    .dataframe tbody tr th {\n",
       "        vertical-align: top;\n",
       "    }\n",
       "\n",
       "    .dataframe thead th {\n",
       "        text-align: right;\n",
       "    }\n",
       "</style>\n",
       "<table border=\"1\" class=\"dataframe\">\n",
       "  <thead>\n",
       "    <tr style=\"text-align: right;\">\n",
       "      <th></th>\n",
       "      <th>College</th>\n",
       "      <th>City</th>\n",
       "      <th>Previous CTC</th>\n",
       "      <th>Previous job change</th>\n",
       "      <th>Graduation Marks</th>\n",
       "      <th>EXP (Month)</th>\n",
       "      <th>CTC</th>\n",
       "      <th>Role_Manager</th>\n",
       "    </tr>\n",
       "  </thead>\n",
       "  <tbody>\n",
       "    <tr>\n",
       "      <th>0</th>\n",
       "      <td>2</td>\n",
       "      <td>0</td>\n",
       "      <td>55523.0</td>\n",
       "      <td>3</td>\n",
       "      <td>66</td>\n",
       "      <td>19</td>\n",
       "      <td>71406.58</td>\n",
       "      <td>1</td>\n",
       "    </tr>\n",
       "    <tr>\n",
       "      <th>1</th>\n",
       "      <td>2</td>\n",
       "      <td>0</td>\n",
       "      <td>57081.0</td>\n",
       "      <td>1</td>\n",
       "      <td>84</td>\n",
       "      <td>18</td>\n",
       "      <td>68005.87</td>\n",
       "      <td>0</td>\n",
       "    </tr>\n",
       "    <tr>\n",
       "      <th>2</th>\n",
       "      <td>3</td>\n",
       "      <td>0</td>\n",
       "      <td>60347.0</td>\n",
       "      <td>2</td>\n",
       "      <td>52</td>\n",
       "      <td>28</td>\n",
       "      <td>76764.02</td>\n",
       "      <td>0</td>\n",
       "    </tr>\n",
       "    <tr>\n",
       "      <th>3</th>\n",
       "      <td>3</td>\n",
       "      <td>0</td>\n",
       "      <td>49010.0</td>\n",
       "      <td>2</td>\n",
       "      <td>81</td>\n",
       "      <td>33</td>\n",
       "      <td>82092.39</td>\n",
       "      <td>0</td>\n",
       "    </tr>\n",
       "    <tr>\n",
       "      <th>4</th>\n",
       "      <td>1</td>\n",
       "      <td>0</td>\n",
       "      <td>57879.0</td>\n",
       "      <td>4</td>\n",
       "      <td>74</td>\n",
       "      <td>32</td>\n",
       "      <td>73878.10</td>\n",
       "      <td>0</td>\n",
       "    </tr>\n",
       "  </tbody>\n",
       "</table>\n",
       "</div>"
      ],
      "text/plain": [
       "   College  City  Previous CTC  Previous job change  Graduation Marks  \\\n",
       "0        2     0       55523.0                    3                66   \n",
       "1        2     0       57081.0                    1                84   \n",
       "2        3     0       60347.0                    2                52   \n",
       "3        3     0       49010.0                    2                81   \n",
       "4        1     0       57879.0                    4                74   \n",
       "\n",
       "   EXP (Month)       CTC  Role_Manager  \n",
       "0           19  71406.58             1  \n",
       "1           18  68005.87             0  \n",
       "2           28  76764.02             0  \n",
       "3           33  82092.39             0  \n",
       "4           32  73878.10             0  "
      ]
     },
     "execution_count": 90,
     "metadata": {},
     "output_type": "execute_result"
    }
   ],
   "source": [
    "df.head()"
   ]
  },
  {
   "cell_type": "code",
   "execution_count": 91,
   "id": "8c210495-5681-4904-8f65-fc088e81c257",
   "metadata": {},
   "outputs": [
    {
     "data": {
      "text/html": [
       "<div>\n",
       "<style scoped>\n",
       "    .dataframe tbody tr th:only-of-type {\n",
       "        vertical-align: middle;\n",
       "    }\n",
       "\n",
       "    .dataframe tbody tr th {\n",
       "        vertical-align: top;\n",
       "    }\n",
       "\n",
       "    .dataframe thead th {\n",
       "        text-align: right;\n",
       "    }\n",
       "</style>\n",
       "<table border=\"1\" class=\"dataframe\">\n",
       "  <thead>\n",
       "    <tr style=\"text-align: right;\">\n",
       "      <th></th>\n",
       "      <th>College</th>\n",
       "      <th>City</th>\n",
       "      <th>Previous CTC</th>\n",
       "      <th>Previous job change</th>\n",
       "      <th>Graduation Marks</th>\n",
       "      <th>EXP (Month)</th>\n",
       "      <th>CTC</th>\n",
       "      <th>Role_Manager</th>\n",
       "    </tr>\n",
       "  </thead>\n",
       "  <tbody>\n",
       "    <tr>\n",
       "      <th>College</th>\n",
       "      <td>1.000000</td>\n",
       "      <td>-0.014946</td>\n",
       "      <td>0.041979</td>\n",
       "      <td>-0.055060</td>\n",
       "      <td>0.003539</td>\n",
       "      <td>0.011752</td>\n",
       "      <td>-0.029592</td>\n",
       "      <td>-0.014749</td>\n",
       "    </tr>\n",
       "    <tr>\n",
       "      <th>City</th>\n",
       "      <td>-0.014946</td>\n",
       "      <td>1.000000</td>\n",
       "      <td>0.004644</td>\n",
       "      <td>0.051670</td>\n",
       "      <td>-0.018616</td>\n",
       "      <td>-0.023613</td>\n",
       "      <td>-0.020365</td>\n",
       "      <td>-0.048671</td>\n",
       "    </tr>\n",
       "    <tr>\n",
       "      <th>Previous CTC</th>\n",
       "      <td>0.041979</td>\n",
       "      <td>0.004644</td>\n",
       "      <td>1.000000</td>\n",
       "      <td>0.005756</td>\n",
       "      <td>-0.032976</td>\n",
       "      <td>0.119163</td>\n",
       "      <td>0.258000</td>\n",
       "      <td>0.012321</td>\n",
       "    </tr>\n",
       "    <tr>\n",
       "      <th>Previous job change</th>\n",
       "      <td>-0.055060</td>\n",
       "      <td>0.051670</td>\n",
       "      <td>0.005756</td>\n",
       "      <td>1.000000</td>\n",
       "      <td>0.019267</td>\n",
       "      <td>0.023488</td>\n",
       "      <td>0.011370</td>\n",
       "      <td>-0.017150</td>\n",
       "    </tr>\n",
       "    <tr>\n",
       "      <th>Graduation Marks</th>\n",
       "      <td>0.003539</td>\n",
       "      <td>-0.018616</td>\n",
       "      <td>-0.032976</td>\n",
       "      <td>0.019267</td>\n",
       "      <td>1.000000</td>\n",
       "      <td>-0.057061</td>\n",
       "      <td>-0.005450</td>\n",
       "      <td>0.017858</td>\n",
       "    </tr>\n",
       "    <tr>\n",
       "      <th>EXP (Month)</th>\n",
       "      <td>0.011752</td>\n",
       "      <td>-0.023613</td>\n",
       "      <td>0.119163</td>\n",
       "      <td>0.023488</td>\n",
       "      <td>-0.057061</td>\n",
       "      <td>1.000000</td>\n",
       "      <td>0.301115</td>\n",
       "      <td>-0.026751</td>\n",
       "    </tr>\n",
       "    <tr>\n",
       "      <th>CTC</th>\n",
       "      <td>-0.029592</td>\n",
       "      <td>-0.020365</td>\n",
       "      <td>0.258000</td>\n",
       "      <td>0.011370</td>\n",
       "      <td>-0.005450</td>\n",
       "      <td>0.301115</td>\n",
       "      <td>1.000000</td>\n",
       "      <td>0.621311</td>\n",
       "    </tr>\n",
       "    <tr>\n",
       "      <th>Role_Manager</th>\n",
       "      <td>-0.014749</td>\n",
       "      <td>-0.048671</td>\n",
       "      <td>0.012321</td>\n",
       "      <td>-0.017150</td>\n",
       "      <td>0.017858</td>\n",
       "      <td>-0.026751</td>\n",
       "      <td>0.621311</td>\n",
       "      <td>1.000000</td>\n",
       "    </tr>\n",
       "  </tbody>\n",
       "</table>\n",
       "</div>"
      ],
      "text/plain": [
       "                      College      City  Previous CTC  Previous job change  \\\n",
       "College              1.000000 -0.014946      0.041979            -0.055060   \n",
       "City                -0.014946  1.000000      0.004644             0.051670   \n",
       "Previous CTC         0.041979  0.004644      1.000000             0.005756   \n",
       "Previous job change -0.055060  0.051670      0.005756             1.000000   \n",
       "Graduation Marks     0.003539 -0.018616     -0.032976             0.019267   \n",
       "EXP (Month)          0.011752 -0.023613      0.119163             0.023488   \n",
       "CTC                 -0.029592 -0.020365      0.258000             0.011370   \n",
       "Role_Manager        -0.014749 -0.048671      0.012321            -0.017150   \n",
       "\n",
       "                     Graduation Marks  EXP (Month)       CTC  Role_Manager  \n",
       "College                      0.003539     0.011752 -0.029592     -0.014749  \n",
       "City                        -0.018616    -0.023613 -0.020365     -0.048671  \n",
       "Previous CTC                -0.032976     0.119163  0.258000      0.012321  \n",
       "Previous job change          0.019267     0.023488  0.011370     -0.017150  \n",
       "Graduation Marks             1.000000    -0.057061 -0.005450      0.017858  \n",
       "EXP (Month)                 -0.057061     1.000000  0.301115     -0.026751  \n",
       "CTC                         -0.005450     0.301115  1.000000      0.621311  \n",
       "Role_Manager                 0.017858    -0.026751  0.621311      1.000000  "
      ]
     },
     "execution_count": 91,
     "metadata": {},
     "output_type": "execute_result"
    }
   ],
   "source": [
    "df.corr()"
   ]
  },
  {
   "cell_type": "markdown",
   "id": "2901e45a-c79c-48c2-92ae-729ff918a1c5",
   "metadata": {},
   "source": [
    "## Regression Tree"
   ]
  },
  {
   "cell_type": "code",
   "execution_count": 92,
   "id": "3a6b8df3-8a11-493c-a225-34f2ec68e8eb",
   "metadata": {},
   "outputs": [
    {
     "data": {
      "text/html": [
       "<div>\n",
       "<style scoped>\n",
       "    .dataframe tbody tr th:only-of-type {\n",
       "        vertical-align: middle;\n",
       "    }\n",
       "\n",
       "    .dataframe tbody tr th {\n",
       "        vertical-align: top;\n",
       "    }\n",
       "\n",
       "    .dataframe thead th {\n",
       "        text-align: right;\n",
       "    }\n",
       "</style>\n",
       "<table border=\"1\" class=\"dataframe\">\n",
       "  <thead>\n",
       "    <tr style=\"text-align: right;\">\n",
       "      <th></th>\n",
       "      <th>College</th>\n",
       "      <th>City</th>\n",
       "      <th>Previous CTC</th>\n",
       "      <th>Previous job change</th>\n",
       "      <th>Graduation Marks</th>\n",
       "      <th>EXP (Month)</th>\n",
       "      <th>CTC</th>\n",
       "      <th>Role_Manager</th>\n",
       "    </tr>\n",
       "  </thead>\n",
       "  <tbody>\n",
       "    <tr>\n",
       "      <th>0</th>\n",
       "      <td>2</td>\n",
       "      <td>0</td>\n",
       "      <td>55523.0</td>\n",
       "      <td>3</td>\n",
       "      <td>66</td>\n",
       "      <td>19</td>\n",
       "      <td>71406.58</td>\n",
       "      <td>1</td>\n",
       "    </tr>\n",
       "    <tr>\n",
       "      <th>1</th>\n",
       "      <td>2</td>\n",
       "      <td>0</td>\n",
       "      <td>57081.0</td>\n",
       "      <td>1</td>\n",
       "      <td>84</td>\n",
       "      <td>18</td>\n",
       "      <td>68005.87</td>\n",
       "      <td>0</td>\n",
       "    </tr>\n",
       "    <tr>\n",
       "      <th>2</th>\n",
       "      <td>3</td>\n",
       "      <td>0</td>\n",
       "      <td>60347.0</td>\n",
       "      <td>2</td>\n",
       "      <td>52</td>\n",
       "      <td>28</td>\n",
       "      <td>76764.02</td>\n",
       "      <td>0</td>\n",
       "    </tr>\n",
       "    <tr>\n",
       "      <th>3</th>\n",
       "      <td>3</td>\n",
       "      <td>0</td>\n",
       "      <td>49010.0</td>\n",
       "      <td>2</td>\n",
       "      <td>81</td>\n",
       "      <td>33</td>\n",
       "      <td>82092.39</td>\n",
       "      <td>0</td>\n",
       "    </tr>\n",
       "    <tr>\n",
       "      <th>4</th>\n",
       "      <td>1</td>\n",
       "      <td>0</td>\n",
       "      <td>57879.0</td>\n",
       "      <td>4</td>\n",
       "      <td>74</td>\n",
       "      <td>32</td>\n",
       "      <td>73878.10</td>\n",
       "      <td>0</td>\n",
       "    </tr>\n",
       "  </tbody>\n",
       "</table>\n",
       "</div>"
      ],
      "text/plain": [
       "   College  City  Previous CTC  Previous job change  Graduation Marks  \\\n",
       "0        2     0       55523.0                    3                66   \n",
       "1        2     0       57081.0                    1                84   \n",
       "2        3     0       60347.0                    2                52   \n",
       "3        3     0       49010.0                    2                81   \n",
       "4        1     0       57879.0                    4                74   \n",
       "\n",
       "   EXP (Month)       CTC  Role_Manager  \n",
       "0           19  71406.58             1  \n",
       "1           18  68005.87             0  \n",
       "2           28  76764.02             0  \n",
       "3           33  82092.39             0  \n",
       "4           32  73878.10             0  "
      ]
     },
     "execution_count": 92,
     "metadata": {},
     "output_type": "execute_result"
    }
   ],
   "source": [
    "df.head()"
   ]
  },
  {
   "cell_type": "code",
   "execution_count": 93,
   "id": "9b2cb7db-ccc9-4981-98b9-c2530c44de77",
   "metadata": {},
   "outputs": [],
   "source": [
    "X=df.drop(['CTC'],axis=1)\n",
    "y=df.CTC"
   ]
  },
  {
   "cell_type": "code",
   "execution_count": 94,
   "id": "64e68425-a407-4c22-9504-f4f9c4d7b766",
   "metadata": {},
   "outputs": [
    {
     "data": {
      "text/plain": [
       "(1271, 7)"
      ]
     },
     "execution_count": 94,
     "metadata": {},
     "output_type": "execute_result"
    }
   ],
   "source": [
    "from sklearn.model_selection import train_test_split\n",
    "X_train, X_test, y_train, y_test=train_test_split(X,y,test_size=0.2,random_state=0)\n",
    "X_train.shape"
   ]
  },
  {
   "cell_type": "code",
   "execution_count": 95,
   "id": "d48d45b9-3072-4607-b15b-ccb5c09471dd",
   "metadata": {},
   "outputs": [],
   "source": [
    "from sklearn import tree"
   ]
  },
  {
   "cell_type": "code",
   "execution_count": 96,
   "id": "fa61ad2b-ba42-4a04-8dd2-698868a2c267",
   "metadata": {},
   "outputs": [],
   "source": [
    "regtree=tree.DecisionTreeRegressor(max_depth=3)"
   ]
  },
  {
   "cell_type": "code",
   "execution_count": 97,
   "id": "d8896241-aacf-49e1-9eb5-da16a370c4c0",
   "metadata": {},
   "outputs": [
    {
     "data": {
      "text/html": [
       "<style>#sk-container-id-6 {color: black;background-color: white;}#sk-container-id-6 pre{padding: 0;}#sk-container-id-6 div.sk-toggleable {background-color: white;}#sk-container-id-6 label.sk-toggleable__label {cursor: pointer;display: block;width: 100%;margin-bottom: 0;padding: 0.3em;box-sizing: border-box;text-align: center;}#sk-container-id-6 label.sk-toggleable__label-arrow:before {content: \"▸\";float: left;margin-right: 0.25em;color: #696969;}#sk-container-id-6 label.sk-toggleable__label-arrow:hover:before {color: black;}#sk-container-id-6 div.sk-estimator:hover label.sk-toggleable__label-arrow:before {color: black;}#sk-container-id-6 div.sk-toggleable__content {max-height: 0;max-width: 0;overflow: hidden;text-align: left;background-color: #f0f8ff;}#sk-container-id-6 div.sk-toggleable__content pre {margin: 0.2em;color: black;border-radius: 0.25em;background-color: #f0f8ff;}#sk-container-id-6 input.sk-toggleable__control:checked~div.sk-toggleable__content {max-height: 200px;max-width: 100%;overflow: auto;}#sk-container-id-6 input.sk-toggleable__control:checked~label.sk-toggleable__label-arrow:before {content: \"▾\";}#sk-container-id-6 div.sk-estimator input.sk-toggleable__control:checked~label.sk-toggleable__label {background-color: #d4ebff;}#sk-container-id-6 div.sk-label input.sk-toggleable__control:checked~label.sk-toggleable__label {background-color: #d4ebff;}#sk-container-id-6 input.sk-hidden--visually {border: 0;clip: rect(1px 1px 1px 1px);clip: rect(1px, 1px, 1px, 1px);height: 1px;margin: -1px;overflow: hidden;padding: 0;position: absolute;width: 1px;}#sk-container-id-6 div.sk-estimator {font-family: monospace;background-color: #f0f8ff;border: 1px dotted black;border-radius: 0.25em;box-sizing: border-box;margin-bottom: 0.5em;}#sk-container-id-6 div.sk-estimator:hover {background-color: #d4ebff;}#sk-container-id-6 div.sk-parallel-item::after {content: \"\";width: 100%;border-bottom: 1px solid gray;flex-grow: 1;}#sk-container-id-6 div.sk-label:hover label.sk-toggleable__label {background-color: #d4ebff;}#sk-container-id-6 div.sk-serial::before {content: \"\";position: absolute;border-left: 1px solid gray;box-sizing: border-box;top: 0;bottom: 0;left: 50%;z-index: 0;}#sk-container-id-6 div.sk-serial {display: flex;flex-direction: column;align-items: center;background-color: white;padding-right: 0.2em;padding-left: 0.2em;position: relative;}#sk-container-id-6 div.sk-item {position: relative;z-index: 1;}#sk-container-id-6 div.sk-parallel {display: flex;align-items: stretch;justify-content: center;background-color: white;position: relative;}#sk-container-id-6 div.sk-item::before, #sk-container-id-6 div.sk-parallel-item::before {content: \"\";position: absolute;border-left: 1px solid gray;box-sizing: border-box;top: 0;bottom: 0;left: 50%;z-index: -1;}#sk-container-id-6 div.sk-parallel-item {display: flex;flex-direction: column;z-index: 1;position: relative;background-color: white;}#sk-container-id-6 div.sk-parallel-item:first-child::after {align-self: flex-end;width: 50%;}#sk-container-id-6 div.sk-parallel-item:last-child::after {align-self: flex-start;width: 50%;}#sk-container-id-6 div.sk-parallel-item:only-child::after {width: 0;}#sk-container-id-6 div.sk-dashed-wrapped {border: 1px dashed gray;margin: 0 0.4em 0.5em 0.4em;box-sizing: border-box;padding-bottom: 0.4em;background-color: white;}#sk-container-id-6 div.sk-label label {font-family: monospace;font-weight: bold;display: inline-block;line-height: 1.2em;}#sk-container-id-6 div.sk-label-container {text-align: center;}#sk-container-id-6 div.sk-container {/* jupyter's `normalize.less` sets `[hidden] { display: none; }` but bootstrap.min.css set `[hidden] { display: none !important; }` so we also need the `!important` here to be able to override the default hidden behavior on the sphinx rendered scikit-learn.org. See: https://github.com/scikit-learn/scikit-learn/issues/21755 */display: inline-block !important;position: relative;}#sk-container-id-6 div.sk-text-repr-fallback {display: none;}</style><div id=\"sk-container-id-6\" class=\"sk-top-container\"><div class=\"sk-text-repr-fallback\"><pre>DecisionTreeRegressor(max_depth=3)</pre><b>In a Jupyter environment, please rerun this cell to show the HTML representation or trust the notebook. <br />On GitHub, the HTML representation is unable to render, please try loading this page with nbviewer.org.</b></div><div class=\"sk-container\" hidden><div class=\"sk-item\"><div class=\"sk-estimator sk-toggleable\"><input class=\"sk-toggleable__control sk-hidden--visually\" id=\"sk-estimator-id-6\" type=\"checkbox\" checked><label for=\"sk-estimator-id-6\" class=\"sk-toggleable__label sk-toggleable__label-arrow\">DecisionTreeRegressor</label><div class=\"sk-toggleable__content\"><pre>DecisionTreeRegressor(max_depth=3)</pre></div></div></div></div></div>"
      ],
      "text/plain": [
       "DecisionTreeRegressor(max_depth=3)"
      ]
     },
     "execution_count": 97,
     "metadata": {},
     "output_type": "execute_result"
    }
   ],
   "source": [
    "regtree.fit(X_train,y_train)"
   ]
  },
  {
   "cell_type": "code",
   "execution_count": 98,
   "id": "8a0c6ef0-da78-4667-bf6e-533379352f5c",
   "metadata": {},
   "outputs": [],
   "source": [
    "y_train_pred=regtree.predict(X_train)\n",
    "y_test_pred=regtree.predict(X_test)"
   ]
  },
  {
   "cell_type": "code",
   "execution_count": 99,
   "id": "82bc902f-4360-4aec-929a-7bc62cfa5d97",
   "metadata": {},
   "outputs": [],
   "source": [
    "from sklearn.metrics import mean_squared_error, r2_score"
   ]
  },
  {
   "cell_type": "code",
   "execution_count": 100,
   "id": "c931b759-a6be-48b7-a362-7e023353f2eb",
   "metadata": {},
   "outputs": [
    {
     "data": {
      "text/plain": [
       "60424631.02613478"
      ]
     },
     "execution_count": 100,
     "metadata": {},
     "output_type": "execute_result"
    }
   ],
   "source": [
    "mean_squared_error(y_test,y_test_pred)"
   ]
  },
  {
   "cell_type": "code",
   "execution_count": 101,
   "id": "f2a2d284-b85f-4cb4-bea4-0e48128924b0",
   "metadata": {},
   "outputs": [
    {
     "data": {
      "text/plain": [
       "62125086.31211998"
      ]
     },
     "execution_count": 101,
     "metadata": {},
     "output_type": "execute_result"
    }
   ],
   "source": [
    "mean_squared_error(y_train,y_train_pred)"
   ]
  },
  {
   "cell_type": "code",
   "execution_count": 102,
   "id": "f7485220-3d42-4cc5-b3c6-e8b436a2b957",
   "metadata": {},
   "outputs": [
    {
     "data": {
      "text/plain": [
       "array([ 73242.49487805,  67137.92249315,  67137.92249315,  77249.90582677,\n",
       "        73242.49487805,  87264.44514286,  70080.03361607,  73242.49487805,\n",
       "        67137.92249315,  73242.49487805,  70080.03361607,  77249.90582677,\n",
       "        95311.75026316,  77249.90582677,  73242.49487805, 104985.9661039 ,\n",
       "        67137.92249315,  67137.92249315,  67137.92249315,  77249.90582677,\n",
       "       104985.9661039 , 104985.9661039 ,  67137.92249315,  67137.92249315,\n",
       "        70080.03361607,  67137.92249315,  77249.90582677, 104985.9661039 ,\n",
       "        77249.90582677,  73242.49487805,  67137.92249315,  67137.92249315,\n",
       "        77180.13443038,  77249.90582677, 104985.9661039 ,  77249.90582677,\n",
       "        67137.92249315,  77180.13443038,  67137.92249315,  67137.92249315,\n",
       "        67137.92249315,  77180.13443038,  73242.49487805,  67137.92249315,\n",
       "        77249.90582677,  70080.03361607,  77180.13443038,  67137.92249315,\n",
       "        67137.92249315,  73242.49487805,  95311.75026316,  77249.90582677,\n",
       "       104985.9661039 ,  77249.90582677,  95311.75026316,  67137.92249315,\n",
       "        70080.03361607,  77180.13443038,  67137.92249315,  67137.92249315,\n",
       "        77249.90582677,  77249.90582677,  70080.03361607,  67137.92249315,\n",
       "        67137.92249315,  73242.49487805,  67137.92249315,  67137.92249315,\n",
       "        95311.75026316,  73242.49487805,  70080.03361607,  67137.92249315,\n",
       "        70080.03361607,  70080.03361607,  73242.49487805,  77249.90582677,\n",
       "        70080.03361607,  70080.03361607,  70080.03361607,  67137.92249315,\n",
       "        87264.44514286,  77249.90582677,  70080.03361607,  77249.90582677,\n",
       "        70080.03361607,  70080.03361607,  67137.92249315,  67137.92249315,\n",
       "        73242.49487805, 104985.9661039 ,  77249.90582677,  70080.03361607,\n",
       "        73242.49487805,  95311.75026316,  67137.92249315,  67137.92249315,\n",
       "        67137.92249315,  77249.90582677, 104985.9661039 ,  73242.49487805,\n",
       "        67137.92249315,  67137.92249315,  67137.92249315,  67137.92249315,\n",
       "        77180.13443038,  67137.92249315,  95311.75026316,  87264.44514286,\n",
       "        77180.13443038,  73242.49487805,  77249.90582677,  73242.49487805,\n",
       "        77180.13443038,  67137.92249315,  70080.03361607,  95311.75026316,\n",
       "        95311.75026316,  70080.03361607,  67137.92249315,  73242.49487805,\n",
       "        77180.13443038, 104985.9661039 ,  67137.92249315,  77180.13443038,\n",
       "        77249.90582677,  77249.90582677,  73242.49487805,  67137.92249315,\n",
       "        67137.92249315,  67137.92249315,  73242.49487805,  77180.13443038,\n",
       "        77249.90582677,  70080.03361607,  77180.13443038,  77249.90582677,\n",
       "        77249.90582677,  67137.92249315, 104985.9661039 ,  73242.49487805,\n",
       "        67137.92249315,  95311.75026316,  70080.03361607,  67137.92249315,\n",
       "        87264.44514286,  77249.90582677,  77249.90582677,  67137.92249315,\n",
       "        67137.92249315,  67137.92249315,  67137.92249315,  77249.90582677,\n",
       "        87264.44514286,  77180.13443038,  67137.92249315,  67137.92249315,\n",
       "        77249.90582677,  67137.92249315,  70080.03361607,  70080.03361607,\n",
       "        67137.92249315,  77249.90582677,  73242.49487805,  70080.03361607,\n",
       "        70080.03361607,  77249.90582677,  87264.44514286,  77249.90582677,\n",
       "        87264.44514286,  67137.92249315,  67137.92249315,  70080.03361607,\n",
       "        87264.44514286,  67137.92249315,  67137.92249315,  77249.90582677,\n",
       "        67137.92249315,  77180.13443038,  77249.90582677, 104985.9661039 ,\n",
       "        67137.92249315,  77249.90582677,  73242.49487805, 104985.9661039 ,\n",
       "        73242.49487805,  87264.44514286,  67137.92249315,  67137.92249315,\n",
       "        73242.49487805,  73242.49487805,  67137.92249315,  73242.49487805,\n",
       "        77249.90582677,  67137.92249315,  95311.75026316,  73242.49487805,\n",
       "       104985.9661039 ,  77249.90582677,  70080.03361607,  67137.92249315,\n",
       "        73242.49487805,  95311.75026316,  77249.90582677,  67137.92249315,\n",
       "        67137.92249315,  73242.49487805,  73242.49487805,  67137.92249315,\n",
       "       104985.9661039 ,  67137.92249315,  67137.92249315, 104985.9661039 ,\n",
       "        77249.90582677,  67137.92249315,  67137.92249315,  77249.90582677,\n",
       "        67137.92249315,  77249.90582677,  77249.90582677,  73242.49487805,\n",
       "        67137.92249315,  67137.92249315, 104985.9661039 ,  77249.90582677,\n",
       "        67137.92249315,  77249.90582677,  77249.90582677,  67137.92249315,\n",
       "        67137.92249315,  67137.92249315,  77180.13443038,  67137.92249315,\n",
       "        70080.03361607,  87264.44514286,  77249.90582677,  73242.49487805,\n",
       "        67137.92249315,  77249.90582677,  77249.90582677,  73242.49487805,\n",
       "        70080.03361607,  77180.13443038,  73242.49487805,  73242.49487805,\n",
       "        77180.13443038, 104985.9661039 ,  67137.92249315,  77249.90582677,\n",
       "        87264.44514286,  67137.92249315,  67137.92249315,  67137.92249315,\n",
       "        77249.90582677,  77249.90582677,  77249.90582677,  77180.13443038,\n",
       "        67137.92249315,  70080.03361607,  67137.92249315,  77249.90582677,\n",
       "        73242.49487805,  73242.49487805,  67137.92249315, 104985.9661039 ,\n",
       "        67137.92249315,  67137.92249315,  77249.90582677,  77249.90582677,\n",
       "        77249.90582677,  77249.90582677,  77249.90582677,  95311.75026316,\n",
       "        67137.92249315,  70080.03361607,  77249.90582677,  67137.92249315,\n",
       "        73242.49487805,  67137.92249315,  67137.92249315,  77249.90582677,\n",
       "        67137.92249315,  73242.49487805,  67137.92249315,  67137.92249315,\n",
       "        87264.44514286,  67137.92249315,  73242.49487805,  70080.03361607,\n",
       "        77249.90582677,  70080.03361607,  73242.49487805,  87264.44514286,\n",
       "        95311.75026316,  67137.92249315,  77249.90582677,  77249.90582677,\n",
       "        77249.90582677,  73242.49487805,  67137.92249315,  77180.13443038,\n",
       "        95311.75026316,  77249.90582677,  77249.90582677,  67137.92249315,\n",
       "        67137.92249315,  67137.92249315,  77249.90582677,  67137.92249315,\n",
       "        67137.92249315,  73242.49487805,  67137.92249315,  67137.92249315,\n",
       "        70080.03361607,  77249.90582677,  73242.49487805,  70080.03361607,\n",
       "        67137.92249315,  77249.90582677])"
      ]
     },
     "execution_count": 102,
     "metadata": {},
     "output_type": "execute_result"
    }
   ],
   "source": [
    "y_test_pred"
   ]
  },
  {
   "cell_type": "code",
   "execution_count": 103,
   "id": "ff382d64-8f77-48da-b10c-be860d80fc26",
   "metadata": {},
   "outputs": [
    {
     "data": {
      "text/plain": [
       "900     67487.61\n",
       "427     72477.67\n",
       "219     75535.50\n",
       "1101    82986.23\n",
       "748     73093.09\n",
       "          ...   \n",
       "379     94600.05\n",
       "963     77795.84\n",
       "878     79412.09\n",
       "442     53020.32\n",
       "231     66774.11\n",
       "Name: CTC, Length: 318, dtype: float64"
      ]
     },
     "execution_count": 103,
     "metadata": {},
     "output_type": "execute_result"
    }
   ],
   "source": [
    "y_test"
   ]
  },
  {
   "cell_type": "code",
   "execution_count": 104,
   "id": "cdeade6b-395f-487c-9ec0-8f287ca0bb0e",
   "metadata": {},
   "outputs": [
    {
     "data": {
      "text/plain": [
       "0.6137194061789908"
      ]
     },
     "execution_count": 104,
     "metadata": {},
     "output_type": "execute_result"
    }
   ],
   "source": [
    "r2_score(y_train,y_train_pred)"
   ]
  },
  {
   "cell_type": "code",
   "execution_count": 105,
   "id": "3c602b42-2268-4642-a245-d8e128319751",
   "metadata": {},
   "outputs": [
    {
     "data": {
      "text/plain": [
       "0.592783161192491"
      ]
     },
     "execution_count": 105,
     "metadata": {},
     "output_type": "execute_result"
    }
   ],
   "source": [
    "r2_score(y_test,y_test_pred)"
   ]
  },
  {
   "cell_type": "code",
   "execution_count": 106,
   "id": "30cd7421-54c3-4b3e-8b93-217d033c7a46",
   "metadata": {},
   "outputs": [],
   "source": [
    "from IPython.display import Image"
   ]
  },
  {
   "cell_type": "code",
   "execution_count": 107,
   "id": "287d02f6-ff97-4b76-964a-a1303a1a9835",
   "metadata": {},
   "outputs": [],
   "source": [
    "dot_data= tree.export_graphviz(regtree, out_file=None)\n",
    "from IPython.display import Image\n",
    "import pydotplus"
   ]
  },
  {
   "cell_type": "code",
   "execution_count": 108,
   "id": "c616c698-850c-4a61-97a2-87c913c7611d",
   "metadata": {},
   "outputs": [
    {
     "data": {
      "image/png": "[encoded data removed]",
      "text/plain": [
       "<IPython.core.display.Image object>"
      ]
     },
     "execution_count": 108,
     "metadata": {},
     "output_type": "execute_result"
    }
   ],
   "source": [
    "dot_data= tree.export_graphviz(regtree, out_file=None)\n",
    "from IPython.display import Image\n",
    "import pydotplus\n",
    "graph = pydotplus.graph_from_dot_data(dot_data)\n",
    "Image(graph.create_png())"
   ]
  },
  {
   "cell_type": "markdown",
   "id": "6ac19a1f-7517-465e-b231-22b96afb3ba6",
   "metadata": {},
   "source": [
    "## Classification Tree"
   ]
  },
  {
   "cell_type": "code",
   "execution_count": 115,
   "id": "57118a2b-2b5a-4a89-9cb4-2af0ff5573cc",
   "metadata": {},
   "outputs": [],
   "source": [
    "X=df[['CTC']]\n",
    "y=df['City']"
   ]
  },
  {
   "cell_type": "code",
   "execution_count": 117,
   "id": "c01574a5-a67c-4b13-ad70-ed2a65262e09",
   "metadata": {},
   "outputs": [],
   "source": [
    "X_train, X_test, y_train, y_test = train_test_split(X, y, test_size=0.2, random_state=42)"
   ]
  },
  {
   "cell_type": "code",
   "execution_count": 118,
   "id": "690780d4-2279-497a-a68f-9e9b4e7f3177",
   "metadata": {},
   "outputs": [],
   "source": [
    "clftree = tree.DecisionTreeClassifier(max_depth=3)"
   ]
  },
  {
   "cell_type": "code",
   "execution_count": 119,
   "id": "21c2e9dd-a54d-4bf8-be55-41b41eeaedcd",
   "metadata": {},
   "outputs": [
    {
     "data": {
      "text/html": [
       "<style>#sk-container-id-7 {color: black;background-color: white;}#sk-container-id-7 pre{padding: 0;}#sk-container-id-7 div.sk-toggleable {background-color: white;}#sk-container-id-7 label.sk-toggleable__label {cursor: pointer;display: block;width: 100%;margin-bottom: 0;padding: 0.3em;box-sizing: border-box;text-align: center;}#sk-container-id-7 label.sk-toggleable__label-arrow:before {content: \"▸\";float: left;margin-right: 0.25em;color: #696969;}#sk-container-id-7 label.sk-toggleable__label-arrow:hover:before {color: black;}#sk-container-id-7 div.sk-estimator:hover label.sk-toggleable__label-arrow:before {color: black;}#sk-container-id-7 div.sk-toggleable__content {max-height: 0;max-width: 0;overflow: hidden;text-align: left;background-color: #f0f8ff;}#sk-container-id-7 div.sk-toggleable__content pre {margin: 0.2em;color: black;border-radius: 0.25em;background-color: #f0f8ff;}#sk-container-id-7 input.sk-toggleable__control:checked~div.sk-toggleable__content {max-height: 200px;max-width: 100%;overflow: auto;}#sk-container-id-7 input.sk-toggleable__control:checked~label.sk-toggleable__label-arrow:before {content: \"▾\";}#sk-container-id-7 div.sk-estimator input.sk-toggleable__control:checked~label.sk-toggleable__label {background-color: #d4ebff;}#sk-container-id-7 div.sk-label input.sk-toggleable__control:checked~label.sk-toggleable__label {background-color: #d4ebff;}#sk-container-id-7 input.sk-hidden--visually {border: 0;clip: rect(1px 1px 1px 1px);clip: rect(1px, 1px, 1px, 1px);height: 1px;margin: -1px;overflow: hidden;padding: 0;position: absolute;width: 1px;}#sk-container-id-7 div.sk-estimator {font-family: monospace;background-color: #f0f8ff;border: 1px dotted black;border-radius: 0.25em;box-sizing: border-box;margin-bottom: 0.5em;}#sk-container-id-7 div.sk-estimator:hover {background-color: #d4ebff;}#sk-container-id-7 div.sk-parallel-item::after {content: \"\";width: 100%;border-bottom: 1px solid gray;flex-grow: 1;}#sk-container-id-7 div.sk-label:hover label.sk-toggleable__label {background-color: #d4ebff;}#sk-container-id-7 div.sk-serial::before {content: \"\";position: absolute;border-left: 1px solid gray;box-sizing: border-box;top: 0;bottom: 0;left: 50%;z-index: 0;}#sk-container-id-7 div.sk-serial {display: flex;flex-direction: column;align-items: center;background-color: white;padding-right: 0.2em;padding-left: 0.2em;position: relative;}#sk-container-id-7 div.sk-item {position: relative;z-index: 1;}#sk-container-id-7 div.sk-parallel {display: flex;align-items: stretch;justify-content: center;background-color: white;position: relative;}#sk-container-id-7 div.sk-item::before, #sk-container-id-7 div.sk-parallel-item::before {content: \"\";position: absolute;border-left: 1px solid gray;box-sizing: border-box;top: 0;bottom: 0;left: 50%;z-index: -1;}#sk-container-id-7 div.sk-parallel-item {display: flex;flex-direction: column;z-index: 1;position: relative;background-color: white;}#sk-container-id-7 div.sk-parallel-item:first-child::after {align-self: flex-end;width: 50%;}#sk-container-id-7 div.sk-parallel-item:last-child::after {align-self: flex-start;width: 50%;}#sk-container-id-7 div.sk-parallel-item:only-child::after {width: 0;}#sk-container-id-7 div.sk-dashed-wrapped {border: 1px dashed gray;margin: 0 0.4em 0.5em 0.4em;box-sizing: border-box;padding-bottom: 0.4em;background-color: white;}#sk-container-id-7 div.sk-label label {font-family: monospace;font-weight: bold;display: inline-block;line-height: 1.2em;}#sk-container-id-7 div.sk-label-container {text-align: center;}#sk-container-id-7 div.sk-container {/* jupyter's `normalize.less` sets `[hidden] { display: none; }` but bootstrap.min.css set `[hidden] { display: none !important; }` so we also need the `!important` here to be able to override the default hidden behavior on the sphinx rendered scikit-learn.org. See: https://github.com/scikit-learn/scikit-learn/issues/21755 */display: inline-block !important;position: relative;}#sk-container-id-7 div.sk-text-repr-fallback {display: none;}</style><div id=\"sk-container-id-7\" class=\"sk-top-container\"><div class=\"sk-text-repr-fallback\"><pre>DecisionTreeClassifier(max_depth=3)</pre><b>In a Jupyter environment, please rerun this cell to show the HTML representation or trust the notebook. <br />On GitHub, the HTML representation is unable to render, please try loading this page with nbviewer.org.</b></div><div class=\"sk-container\" hidden><div class=\"sk-item\"><div class=\"sk-estimator sk-toggleable\"><input class=\"sk-toggleable__control sk-hidden--visually\" id=\"sk-estimator-id-7\" type=\"checkbox\" checked><label for=\"sk-estimator-id-7\" class=\"sk-toggleable__label sk-toggleable__label-arrow\">DecisionTreeClassifier</label><div class=\"sk-toggleable__content\"><pre>DecisionTreeClassifier(max_depth=3)</pre></div></div></div></div></div>"
      ],
      "text/plain": [
       "DecisionTreeClassifier(max_depth=3)"
      ]
     },
     "execution_count": 119,
     "metadata": {},
     "output_type": "execute_result"
    }
   ],
   "source": [
    "clftree.fit(X_train,y_train)"
   ]
  },
  {
   "cell_type": "code",
   "execution_count": 120,
   "id": "f25a8ee1-222e-4fd7-b34b-c75e0942a776",
   "metadata": {},
   "outputs": [],
   "source": [
    "y_train_pred=clftree.predict(X_train)"
   ]
  },
  {
   "cell_type": "code",
   "execution_count": 121,
   "id": "66f17a7a-31b1-4bf6-90a6-067e0a98c95f",
   "metadata": {},
   "outputs": [],
   "source": [
    "y_test_pred=clftree.predict(X_test)"
   ]
  },
  {
   "cell_type": "code",
   "execution_count": 122,
   "id": "f4df12be-6fe2-4db7-a935-8fc3477739dd",
   "metadata": {},
   "outputs": [
    {
     "data": {
      "text/plain": [
       "array([1, 0, 0, 1, 1, 0, 1, 0, 0, 0, 0, 1, 1, 0, 1, 0, 0, 1, 1, 1, 1, 1,\n",
       "       0, 1, 1, 0, 1, 1, 1, 1, 0, 0, 0, 0, 1, 1, 0, 0, 0, 1, 1, 0, 0, 1,\n",
       "       1, 1, 0, 1, 1, 1, 1, 1, 1, 0, 1, 1, 1, 1, 1, 1, 1, 1, 1, 0, 1, 0,\n",
       "       1, 1, 1, 0, 0, 0, 1, 1, 1, 0, 1, 0, 1, 0, 0, 1, 1, 1, 0, 0, 0, 1,\n",
       "       0, 0, 0, 1, 0, 1, 0, 1, 0, 0, 0, 1, 0, 1, 1, 1, 0, 0, 1, 0, 1, 0,\n",
       "       1, 0, 0, 1, 0, 1, 0, 0, 0, 1, 1, 1, 1, 1, 1, 0, 1, 0, 1, 1, 1, 1,\n",
       "       1, 1, 0, 0, 1, 0, 1, 1, 0, 0, 1, 1, 0, 1, 1, 0, 1, 0, 1, 1, 1, 1,\n",
       "       1, 1, 1, 0, 0, 1, 0, 1, 1, 1, 1, 1, 0, 1, 1, 1, 1, 1, 0, 1, 1, 1,\n",
       "       0, 1, 0, 1, 0, 1, 0, 1, 0, 1, 0, 0, 0, 0, 0, 1, 1, 0, 1, 1, 1, 1,\n",
       "       0, 1, 1, 0, 0, 0, 1, 1, 0, 0, 1, 0, 1, 1, 0, 1, 0, 0, 1, 0, 0, 1,\n",
       "       1, 0, 1, 0, 0, 1, 0, 0, 0, 0, 1, 1, 0, 1, 1, 0, 1, 1, 0, 1, 1, 1,\n",
       "       1, 0, 1, 1, 1, 0, 1, 1, 1, 0, 1, 1, 1, 1, 0, 1, 1, 1, 0, 1, 0, 0,\n",
       "       1, 1, 1, 1, 0, 1, 1, 0, 1, 0, 0, 1, 1, 0, 1, 1, 0, 0, 0, 1, 0, 1,\n",
       "       0, 1, 1, 1, 0, 1, 1, 1, 0, 1, 1, 0, 1, 1, 1, 0, 0, 1, 0, 0, 0, 1,\n",
       "       1, 1, 0, 0, 1, 1, 1, 0, 1, 0], dtype=int64)"
      ]
     },
     "execution_count": 122,
     "metadata": {},
     "output_type": "execute_result"
    }
   ],
   "source": [
    "y_test_pred"
   ]
  },
  {
   "cell_type": "code",
   "execution_count": 123,
   "id": "ec03b60f-04aa-47f7-9505-df28d39f5876",
   "metadata": {},
   "outputs": [],
   "source": [
    "from sklearn.metrics import accuracy_score,confusion_matrix"
   ]
  },
  {
   "cell_type": "code",
   "execution_count": 124,
   "id": "b126d0ed-30b7-4aa3-8bfb-f687ff18b9ad",
   "metadata": {},
   "outputs": [
    {
     "data": {
      "text/plain": [
       "array([[295, 324],\n",
       "       [256, 396]], dtype=int64)"
      ]
     },
     "execution_count": 124,
     "metadata": {},
     "output_type": "execute_result"
    }
   ],
   "source": [
    "confusion_matrix(y_train,y_train_pred)"
   ]
  },
  {
   "cell_type": "code",
   "execution_count": 125,
   "id": "a27e81e3-c9d1-4f99-9cb6-4255c08fcf1b",
   "metadata": {},
   "outputs": [
    {
     "data": {
      "text/plain": [
       "array([[65, 88],\n",
       "       [66, 99]], dtype=int64)"
      ]
     },
     "execution_count": 125,
     "metadata": {},
     "output_type": "execute_result"
    }
   ],
   "source": [
    "confusion_matrix(y_test,y_test_pred)"
   ]
  },
  {
   "cell_type": "code",
   "execution_count": 126,
   "id": "7eccacbe-9da4-4484-945f-7524f29de8a6",
   "metadata": {},
   "outputs": [
    {
     "data": {
      "text/plain": [
       "0.5157232704402516"
      ]
     },
     "execution_count": 126,
     "metadata": {},
     "output_type": "execute_result"
    }
   ],
   "source": [
    "accuracy_score(y_test,y_test_pred)"
   ]
  },
  {
   "cell_type": "code",
   "execution_count": 129,
   "id": "7326e42d-ea5a-45c9-9115-65e43dc5b406",
   "metadata": {},
   "outputs": [],
   "source": [
    "dot_data = tree.export_graphviz(clftree, out_file=None, feature_names=X_train.columns, filled=True)"
   ]
  },
  {
   "cell_type": "code",
   "execution_count": 133,
   "id": "d8f433e5-8178-406f-a1b7-75ee5e6de309",
   "metadata": {},
   "outputs": [],
   "source": [
    "from IPython.display import Image"
   ]
  },
  {
   "cell_type": "code",
   "execution_count": 134,
   "id": "ecb55223-2fc8-48ca-948e-9f2ee5f0702b",
   "metadata": {},
   "outputs": [],
   "source": [
    "import pydotplus"
   ]
  },
  {
   "cell_type": "code",
   "execution_count": 135,
   "id": "af2e2423-ce17-4608-b05f-0f2341efcab5",
   "metadata": {},
   "outputs": [
    {
     "data": {
      "image/png": "[encoded data removed]",
      "text/plain": [
       "<IPython.core.display.Image object>"
      ]
     },
     "execution_count": 135,
     "metadata": {},
     "output_type": "execute_result"
    }
   ],
   "source": [
    "graph=pydotplus.graph_from_dot_data(dot_data)\n",
    "Image(graph.create_png())"
   ]
  },
  {
   "cell_type": "markdown",
   "id": "765809b1-e25c-40e4-831a-8c97c013ad6b",
   "metadata": {},
   "source": [
    "## Bagging"
   ]
  },
  {
   "cell_type": "code",
   "execution_count": 136,
   "id": "0d0e920b-633f-4c95-8468-9c72681efff4",
   "metadata": {},
   "outputs": [],
   "source": [
    "from sklearn import tree"
   ]
  },
  {
   "cell_type": "code",
   "execution_count": 137,
   "id": "0a1395a6-7155-4b88-afe9-220056844a35",
   "metadata": {},
   "outputs": [],
   "source": [
    "clftree=tree.DecisionTreeClassifier"
   ]
  },
  {
   "cell_type": "code",
   "execution_count": 138,
   "id": "50a8153a-4667-4f86-a7fc-9de241af8acc",
   "metadata": {},
   "outputs": [],
   "source": [
    "from sklearn.ensemble import BaggingClassifier"
   ]
  },
  {
   "cell_type": "code",
   "execution_count": 141,
   "id": "c5afc820-b9ba-492e-ae75-813a4d426594",
   "metadata": {},
   "outputs": [],
   "source": [
    "bag_clf=BaggingClassifier(base_estimator=clftree,n_estimators=1000,bootstrap=True,n_jobs=-1,random_state=42)"
   ]
  },
  {
   "cell_type": "code",
   "execution_count": 145,
   "id": "7ab15813-6342-4a9c-8b70-d8529deac67d",
   "metadata": {},
   "outputs": [
    {
     "data": {
      "text/plain": [
       "array([[153,   0],\n",
       "       [165,   0]], dtype=int64)"
      ]
     },
     "execution_count": 145,
     "metadata": {},
     "output_type": "execute_result"
    }
   ],
   "source": [
    "confusion_matrix(y_test,bag_clf.predict(X_test))"
   ]
  },
  {
   "cell_type": "code",
   "execution_count": 146,
   "id": "6ae3f29b-e78c-43d8-b95b-67b76318ecfc",
   "metadata": {},
   "outputs": [
    {
     "data": {
      "text/plain": [
       "0.4811320754716981"
      ]
     },
     "execution_count": 146,
     "metadata": {},
     "output_type": "execute_result"
    }
   ],
   "source": [
    "accuracy_score(y_test,bag_clf.predict(X_test))"
   ]
  },
  {
   "cell_type": "markdown",
   "id": "976588a6-d43a-409d-b1cf-162d1620dd10",
   "metadata": {},
   "source": [
    "## Random Forest"
   ]
  },
  {
   "cell_type": "code",
   "execution_count": 147,
   "id": "5f077517-5aa6-4b5b-906c-6906512a6b18",
   "metadata": {},
   "outputs": [],
   "source": [
    "from sklearn.ensemble import RandomForestClassifier"
   ]
  },
  {
   "cell_type": "code",
   "execution_count": 148,
   "id": "43a56206-cf9f-4e56-8d12-71d86aadc672",
   "metadata": {},
   "outputs": [],
   "source": [
    "rf_clf=RandomForestClassifier(n_estimators=1000,n_jobs=-1,random_state=42)"
   ]
  },
  {
   "cell_type": "code",
   "execution_count": 149,
   "id": "d1c95470-61e3-4348-9931-a97f446824d0",
   "metadata": {},
   "outputs": [
    {
     "data": {
      "text/html": [
       "<style>#sk-container-id-8 {color: black;background-color: white;}#sk-container-id-8 pre{padding: 0;}#sk-container-id-8 div.sk-toggleable {background-color: white;}#sk-container-id-8 label.sk-toggleable__label {cursor: pointer;display: block;width: 100%;margin-bottom: 0;padding: 0.3em;box-sizing: border-box;text-align: center;}#sk-container-id-8 label.sk-toggleable__label-arrow:before {content: \"▸\";float: left;margin-right: 0.25em;color: #696969;}#sk-container-id-8 label.sk-toggleable__label-arrow:hover:before {color: black;}#sk-container-id-8 div.sk-estimator:hover label.sk-toggleable__label-arrow:before {color: black;}#sk-container-id-8 div.sk-toggleable__content {max-height: 0;max-width: 0;overflow: hidden;text-align: left;background-color: #f0f8ff;}#sk-container-id-8 div.sk-toggleable__content pre {margin: 0.2em;color: black;border-radius: 0.25em;background-color: #f0f8ff;}#sk-container-id-8 input.sk-toggleable__control:checked~div.sk-toggleable__content {max-height: 200px;max-width: 100%;overflow: auto;}#sk-container-id-8 input.sk-toggleable__control:checked~label.sk-toggleable__label-arrow:before {content: \"▾\";}#sk-container-id-8 div.sk-estimator input.sk-toggleable__control:checked~label.sk-toggleable__label {background-color: #d4ebff;}#sk-container-id-8 div.sk-label input.sk-toggleable__control:checked~label.sk-toggleable__label {background-color: #d4ebff;}#sk-container-id-8 input.sk-hidden--visually {border: 0;clip: rect(1px 1px 1px 1px);clip: rect(1px, 1px, 1px, 1px);height: 1px;margin: -1px;overflow: hidden;padding: 0;position: absolute;width: 1px;}#sk-container-id-8 div.sk-estimator {font-family: monospace;background-color: #f0f8ff;border: 1px dotted black;border-radius: 0.25em;box-sizing: border-box;margin-bottom: 0.5em;}#sk-container-id-8 div.sk-estimator:hover {background-color: #d4ebff;}#sk-container-id-8 div.sk-parallel-item::after {content: \"\";width: 100%;border-bottom: 1px solid gray;flex-grow: 1;}#sk-container-id-8 div.sk-label:hover label.sk-toggleable__label {background-color: #d4ebff;}#sk-container-id-8 div.sk-serial::before {content: \"\";position: absolute;border-left: 1px solid gray;box-sizing: border-box;top: 0;bottom: 0;left: 50%;z-index: 0;}#sk-container-id-8 div.sk-serial {display: flex;flex-direction: column;align-items: center;background-color: white;padding-right: 0.2em;padding-left: 0.2em;position: relative;}#sk-container-id-8 div.sk-item {position: relative;z-index: 1;}#sk-container-id-8 div.sk-parallel {display: flex;align-items: stretch;justify-content: center;background-color: white;position: relative;}#sk-container-id-8 div.sk-item::before, #sk-container-id-8 div.sk-parallel-item::before {content: \"\";position: absolute;border-left: 1px solid gray;box-sizing: border-box;top: 0;bottom: 0;left: 50%;z-index: -1;}#sk-container-id-8 div.sk-parallel-item {display: flex;flex-direction: column;z-index: 1;position: relative;background-color: white;}#sk-container-id-8 div.sk-parallel-item:first-child::after {align-self: flex-end;width: 50%;}#sk-container-id-8 div.sk-parallel-item:last-child::after {align-self: flex-start;width: 50%;}#sk-container-id-8 div.sk-parallel-item:only-child::after {width: 0;}#sk-container-id-8 div.sk-dashed-wrapped {border: 1px dashed gray;margin: 0 0.4em 0.5em 0.4em;box-sizing: border-box;padding-bottom: 0.4em;background-color: white;}#sk-container-id-8 div.sk-label label {font-family: monospace;font-weight: bold;display: inline-block;line-height: 1.2em;}#sk-container-id-8 div.sk-label-container {text-align: center;}#sk-container-id-8 div.sk-container {/* jupyter's `normalize.less` sets `[hidden] { display: none; }` but bootstrap.min.css set `[hidden] { display: none !important; }` so we also need the `!important` here to be able to override the default hidden behavior on the sphinx rendered scikit-learn.org. See: https://github.com/scikit-learn/scikit-learn/issues/21755 */display: inline-block !important;position: relative;}#sk-container-id-8 div.sk-text-repr-fallback {display: none;}</style><div id=\"sk-container-id-8\" class=\"sk-top-container\"><div class=\"sk-text-repr-fallback\"><pre>RandomForestClassifier(n_estimators=1000, n_jobs=-1, random_state=42)</pre><b>In a Jupyter environment, please rerun this cell to show the HTML representation or trust the notebook. <br />On GitHub, the HTML representation is unable to render, please try loading this page with nbviewer.org.</b></div><div class=\"sk-container\" hidden><div class=\"sk-item\"><div class=\"sk-estimator sk-toggleable\"><input class=\"sk-toggleable__control sk-hidden--visually\" id=\"sk-estimator-id-8\" type=\"checkbox\" checked><label for=\"sk-estimator-id-8\" class=\"sk-toggleable__label sk-toggleable__label-arrow\">RandomForestClassifier</label><div class=\"sk-toggleable__content\"><pre>RandomForestClassifier(n_estimators=1000, n_jobs=-1, random_state=42)</pre></div></div></div></div></div>"
      ],
      "text/plain": [
       "RandomForestClassifier(n_estimators=1000, n_jobs=-1, random_state=42)"
      ]
     },
     "execution_count": 149,
     "metadata": {},
     "output_type": "execute_result"
    }
   ],
   "source": [
    "rf_clf.fit(X_train,y_train)"
   ]
  },
  {
   "cell_type": "code",
   "execution_count": 150,
   "id": "d595d77b-82a1-4946-9780-be755cabc54f",
   "metadata": {},
   "outputs": [
    {
     "data": {
      "text/plain": [
       "array([[69, 84],\n",
       "       [85, 80]], dtype=int64)"
      ]
     },
     "execution_count": 150,
     "metadata": {},
     "output_type": "execute_result"
    }
   ],
   "source": [
    "confusion_matrix(y_test,rf_clf.predict(X_test))"
   ]
  },
  {
   "cell_type": "code",
   "execution_count": 151,
   "id": "931a46e7-37d6-4cca-9808-8da178969cf8",
   "metadata": {},
   "outputs": [
    {
     "data": {
      "text/plain": [
       "0.46855345911949686"
      ]
     },
     "execution_count": 151,
     "metadata": {},
     "output_type": "execute_result"
    }
   ],
   "source": [
    "accuracy_score(y_test,rf_clf.predict(X_test))"
   ]
  },
  {
   "cell_type": "markdown",
   "id": "ffea5f70-2ec5-4de5-ad9c-848dcb090d41",
   "metadata": {},
   "source": [
    "## Grid Search"
   ]
  },
  {
   "cell_type": "code",
   "execution_count": 153,
   "id": "f84bc6b4-9c3b-4949-9e0e-3781f181c3f3",
   "metadata": {},
   "outputs": [],
   "source": [
    "from sklearn.model_selection import GridSearchCV"
   ]
  },
  {
   "cell_type": "code",
   "execution_count": 154,
   "id": "8d2fc4af-c75f-47f5-8bab-bf8ee3f04432",
   "metadata": {},
   "outputs": [],
   "source": [
    "rf_clf=RandomForestClassifier(n_estimators=250,random_state=42)"
   ]
  },
  {
   "cell_type": "code",
   "execution_count": 155,
   "id": "60686232-4b4f-4e7d-80f0-22089c86e072",
   "metadata": {},
   "outputs": [],
   "source": [
    "params_grid={\"max_features\":[4,5,6,7,8,9,10],\n",
    "             \"min_samples_split\":[2,3,10],}"
   ]
  },
  {
   "cell_type": "code",
   "execution_count": 156,
   "id": "f3c22006-b08c-4652-9609-83921cf12066",
   "metadata": {},
   "outputs": [],
   "source": [
    "grid_search=GridSearchCV(rf_clf,params_grid,n_jobs=-1,cv=5,scoring='accuracy')"
   ]
  },
  {
   "cell_type": "code",
   "execution_count": 157,
   "id": "cc103209-ca87-42c5-b33d-96fd3b5bee6b",
   "metadata": {},
   "outputs": [
    {
     "data": {
      "text/html": [
       "<style>#sk-container-id-9 {color: black;background-color: white;}#sk-container-id-9 pre{padding: 0;}#sk-container-id-9 div.sk-toggleable {background-color: white;}#sk-container-id-9 label.sk-toggleable__label {cursor: pointer;display: block;width: 100%;margin-bottom: 0;padding: 0.3em;box-sizing: border-box;text-align: center;}#sk-container-id-9 label.sk-toggleable__label-arrow:before {content: \"▸\";float: left;margin-right: 0.25em;color: #696969;}#sk-container-id-9 label.sk-toggleable__label-arrow:hover:before {color: black;}#sk-container-id-9 div.sk-estimator:hover label.sk-toggleable__label-arrow:before {color: black;}#sk-container-id-9 div.sk-toggleable__content {max-height: 0;max-width: 0;overflow: hidden;text-align: left;background-color: #f0f8ff;}#sk-container-id-9 div.sk-toggleable__content pre {margin: 0.2em;color: black;border-radius: 0.25em;background-color: #f0f8ff;}#sk-container-id-9 input.sk-toggleable__control:checked~div.sk-toggleable__content {max-height: 200px;max-width: 100%;overflow: auto;}#sk-container-id-9 input.sk-toggleable__control:checked~label.sk-toggleable__label-arrow:before {content: \"▾\";}#sk-container-id-9 div.sk-estimator input.sk-toggleable__control:checked~label.sk-toggleable__label {background-color: #d4ebff;}#sk-container-id-9 div.sk-label input.sk-toggleable__control:checked~label.sk-toggleable__label {background-color: #d4ebff;}#sk-container-id-9 input.sk-hidden--visually {border: 0;clip: rect(1px 1px 1px 1px);clip: rect(1px, 1px, 1px, 1px);height: 1px;margin: -1px;overflow: hidden;padding: 0;position: absolute;width: 1px;}#sk-container-id-9 div.sk-estimator {font-family: monospace;background-color: #f0f8ff;border: 1px dotted black;border-radius: 0.25em;box-sizing: border-box;margin-bottom: 0.5em;}#sk-container-id-9 div.sk-estimator:hover {background-color: #d4ebff;}#sk-container-id-9 div.sk-parallel-item::after {content: \"\";width: 100%;border-bottom: 1px solid gray;flex-grow: 1;}#sk-container-id-9 div.sk-label:hover label.sk-toggleable__label {background-color: #d4ebff;}#sk-container-id-9 div.sk-serial::before {content: \"\";position: absolute;border-left: 1px solid gray;box-sizing: border-box;top: 0;bottom: 0;left: 50%;z-index: 0;}#sk-container-id-9 div.sk-serial {display: flex;flex-direction: column;align-items: center;background-color: white;padding-right: 0.2em;padding-left: 0.2em;position: relative;}#sk-container-id-9 div.sk-item {position: relative;z-index: 1;}#sk-container-id-9 div.sk-parallel {display: flex;align-items: stretch;justify-content: center;background-color: white;position: relative;}#sk-container-id-9 div.sk-item::before, #sk-container-id-9 div.sk-parallel-item::before {content: \"\";position: absolute;border-left: 1px solid gray;box-sizing: border-box;top: 0;bottom: 0;left: 50%;z-index: -1;}#sk-container-id-9 div.sk-parallel-item {display: flex;flex-direction: column;z-index: 1;position: relative;background-color: white;}#sk-container-id-9 div.sk-parallel-item:first-child::after {align-self: flex-end;width: 50%;}#sk-container-id-9 div.sk-parallel-item:last-child::after {align-self: flex-start;width: 50%;}#sk-container-id-9 div.sk-parallel-item:only-child::after {width: 0;}#sk-container-id-9 div.sk-dashed-wrapped {border: 1px dashed gray;margin: 0 0.4em 0.5em 0.4em;box-sizing: border-box;padding-bottom: 0.4em;background-color: white;}#sk-container-id-9 div.sk-label label {font-family: monospace;font-weight: bold;display: inline-block;line-height: 1.2em;}#sk-container-id-9 div.sk-label-container {text-align: center;}#sk-container-id-9 div.sk-container {/* jupyter's `normalize.less` sets `[hidden] { display: none; }` but bootstrap.min.css set `[hidden] { display: none !important; }` so we also need the `!important` here to be able to override the default hidden behavior on the sphinx rendered scikit-learn.org. See: https://github.com/scikit-learn/scikit-learn/issues/21755 */display: inline-block !important;position: relative;}#sk-container-id-9 div.sk-text-repr-fallback {display: none;}</style><div id=\"sk-container-id-9\" class=\"sk-top-container\"><div class=\"sk-text-repr-fallback\"><pre>GridSearchCV(cv=5,\n",
       "             estimator=RandomForestClassifier(n_estimators=250,\n",
       "                                              random_state=42),\n",
       "             n_jobs=-1,\n",
       "             param_grid={&#x27;max_features&#x27;: [4, 5, 6, 7, 8, 9, 10],\n",
       "                         &#x27;min_samples_split&#x27;: [2, 3, 10]},\n",
       "             scoring=&#x27;accuracy&#x27;)</pre><b>In a Jupyter environment, please rerun this cell to show the HTML representation or trust the notebook. <br />On GitHub, the HTML representation is unable to render, please try loading this page with nbviewer.org.</b></div><div class=\"sk-container\" hidden><div class=\"sk-item sk-dashed-wrapped\"><div class=\"sk-label-container\"><div class=\"sk-label sk-toggleable\"><input class=\"sk-toggleable__control sk-hidden--visually\" id=\"sk-estimator-id-9\" type=\"checkbox\" ><label for=\"sk-estimator-id-9\" class=\"sk-toggleable__label sk-toggleable__label-arrow\">GridSearchCV</label><div class=\"sk-toggleable__content\"><pre>GridSearchCV(cv=5,\n",
       "             estimator=RandomForestClassifier(n_estimators=250,\n",
       "                                              random_state=42),\n",
       "             n_jobs=-1,\n",
       "             param_grid={&#x27;max_features&#x27;: [4, 5, 6, 7, 8, 9, 10],\n",
       "                         &#x27;min_samples_split&#x27;: [2, 3, 10]},\n",
       "             scoring=&#x27;accuracy&#x27;)</pre></div></div></div><div class=\"sk-parallel\"><div class=\"sk-parallel-item\"><div class=\"sk-item\"><div class=\"sk-label-container\"><div class=\"sk-label sk-toggleable\"><input class=\"sk-toggleable__control sk-hidden--visually\" id=\"sk-estimator-id-10\" type=\"checkbox\" ><label for=\"sk-estimator-id-10\" class=\"sk-toggleable__label sk-toggleable__label-arrow\">estimator: RandomForestClassifier</label><div class=\"sk-toggleable__content\"><pre>RandomForestClassifier(n_estimators=250, random_state=42)</pre></div></div></div><div class=\"sk-serial\"><div class=\"sk-item\"><div class=\"sk-estimator sk-toggleable\"><input class=\"sk-toggleable__control sk-hidden--visually\" id=\"sk-estimator-id-11\" type=\"checkbox\" ><label for=\"sk-estimator-id-11\" class=\"sk-toggleable__label sk-toggleable__label-arrow\">RandomForestClassifier</label><div class=\"sk-toggleable__content\"><pre>RandomForestClassifier(n_estimators=250, random_state=42)</pre></div></div></div></div></div></div></div></div></div></div>"
      ],
      "text/plain": [
       "GridSearchCV(cv=5,\n",
       "             estimator=RandomForestClassifier(n_estimators=250,\n",
       "                                              random_state=42),\n",
       "             n_jobs=-1,\n",
       "             param_grid={'max_features': [4, 5, 6, 7, 8, 9, 10],\n",
       "                         'min_samples_split': [2, 3, 10]},\n",
       "             scoring='accuracy')"
      ]
     },
     "execution_count": 157,
     "metadata": {},
     "output_type": "execute_result"
    }
   ],
   "source": [
    "grid_search.fit(X_train,y_train)"
   ]
  },
  {
   "cell_type": "code",
   "execution_count": 158,
   "id": "fba7743f-c6a0-43b5-a762-918c2e7c598b",
   "metadata": {},
   "outputs": [
    {
     "data": {
      "text/plain": [
       "{'max_features': 4, 'min_samples_split': 10}"
      ]
     },
     "execution_count": 158,
     "metadata": {},
     "output_type": "execute_result"
    }
   ],
   "source": [
    "grid_search.best_params_"
   ]
  },
  {
   "cell_type": "code",
   "execution_count": 160,
   "id": "c59a4023-014e-4063-9bc3-eede40915047",
   "metadata": {},
   "outputs": [],
   "source": [
    "cvrf_clf=grid_search.best_estimator_"
   ]
  },
  {
   "cell_type": "code",
   "execution_count": 161,
   "id": "c0a3d381-8d77-40fd-b340-5d7f0eb77947",
   "metadata": {},
   "outputs": [
    {
     "data": {
      "text/plain": [
       "0.4748427672955975"
      ]
     },
     "execution_count": 161,
     "metadata": {},
     "output_type": "execute_result"
    }
   ],
   "source": [
    "accuracy_score(y_test,cvrf_clf.predict(X_test))"
   ]
  },
  {
   "cell_type": "code",
   "execution_count": 162,
   "id": "ffdcfd3a-d739-4214-973b-9ae026b0171b",
   "metadata": {},
   "outputs": [
    {
     "data": {
      "text/plain": [
       "array([[70, 83],\n",
       "       [84, 81]], dtype=int64)"
      ]
     },
     "execution_count": 162,
     "metadata": {},
     "output_type": "execute_result"
    }
   ],
   "source": [
    "confusion_matrix(y_test,cvrf_clf.predict(X_test))"
   ]
  },
  {
   "cell_type": "markdown",
   "id": "47d9af58-289b-4bde-97a1-24d63b4fdb28",
   "metadata": {},
   "source": [
    "## Gradient Boosting"
   ]
  },
  {
   "cell_type": "code",
   "execution_count": 164,
   "id": "14cb0565-2547-4373-836a-8a4b43f49db6",
   "metadata": {},
   "outputs": [],
   "source": [
    "from sklearn.ensemble import GradientBoostingClassifier"
   ]
  },
  {
   "cell_type": "code",
   "execution_count": 165,
   "id": "186b68dc-6266-4136-a30e-0db6ffd0b2c1",
   "metadata": {},
   "outputs": [],
   "source": [
    "gbc_clf=GradientBoostingClassifier()"
   ]
  },
  {
   "cell_type": "code",
   "execution_count": 166,
   "id": "4c2fa16f-9395-4f73-922a-8e097212cc71",
   "metadata": {},
   "outputs": [
    {
     "data": {
      "text/html": [
       "<style>#sk-container-id-10 {color: black;background-color: white;}#sk-container-id-10 pre{padding: 0;}#sk-container-id-10 div.sk-toggleable {background-color: white;}#sk-container-id-10 label.sk-toggleable__label {cursor: pointer;display: block;width: 100%;margin-bottom: 0;padding: 0.3em;box-sizing: border-box;text-align: center;}#sk-container-id-10 label.sk-toggleable__label-arrow:before {content: \"▸\";float: left;margin-right: 0.25em;color: #696969;}#sk-container-id-10 label.sk-toggleable__label-arrow:hover:before {color: black;}#sk-container-id-10 div.sk-estimator:hover label.sk-toggleable__label-arrow:before {color: black;}#sk-container-id-10 div.sk-toggleable__content {max-height: 0;max-width: 0;overflow: hidden;text-align: left;background-color: #f0f8ff;}#sk-container-id-10 div.sk-toggleable__content pre {margin: 0.2em;color: black;border-radius: 0.25em;background-color: #f0f8ff;}#sk-container-id-10 input.sk-toggleable__control:checked~div.sk-toggleable__content {max-height: 200px;max-width: 100%;overflow: auto;}#sk-container-id-10 input.sk-toggleable__control:checked~label.sk-toggleable__label-arrow:before {content: \"▾\";}#sk-container-id-10 div.sk-estimator input.sk-toggleable__control:checked~label.sk-toggleable__label {background-color: #d4ebff;}#sk-container-id-10 div.sk-label input.sk-toggleable__control:checked~label.sk-toggleable__label {background-color: #d4ebff;}#sk-container-id-10 input.sk-hidden--visually {border: 0;clip: rect(1px 1px 1px 1px);clip: rect(1px, 1px, 1px, 1px);height: 1px;margin: -1px;overflow: hidden;padding: 0;position: absolute;width: 1px;}#sk-container-id-10 div.sk-estimator {font-family: monospace;background-color: #f0f8ff;border: 1px dotted black;border-radius: 0.25em;box-sizing: border-box;margin-bottom: 0.5em;}#sk-container-id-10 div.sk-estimator:hover {background-color: #d4ebff;}#sk-container-id-10 div.sk-parallel-item::after {content: \"\";width: 100%;border-bottom: 1px solid gray;flex-grow: 1;}#sk-container-id-10 div.sk-label:hover label.sk-toggleable__label {background-color: #d4ebff;}#sk-container-id-10 div.sk-serial::before {content: \"\";position: absolute;border-left: 1px solid gray;box-sizing: border-box;top: 0;bottom: 0;left: 50%;z-index: 0;}#sk-container-id-10 div.sk-serial {display: flex;flex-direction: column;align-items: center;background-color: white;padding-right: 0.2em;padding-left: 0.2em;position: relative;}#sk-container-id-10 div.sk-item {position: relative;z-index: 1;}#sk-container-id-10 div.sk-parallel {display: flex;align-items: stretch;justify-content: center;background-color: white;position: relative;}#sk-container-id-10 div.sk-item::before, #sk-container-id-10 div.sk-parallel-item::before {content: \"\";position: absolute;border-left: 1px solid gray;box-sizing: border-box;top: 0;bottom: 0;left: 50%;z-index: -1;}#sk-container-id-10 div.sk-parallel-item {display: flex;flex-direction: column;z-index: 1;position: relative;background-color: white;}#sk-container-id-10 div.sk-parallel-item:first-child::after {align-self: flex-end;width: 50%;}#sk-container-id-10 div.sk-parallel-item:last-child::after {align-self: flex-start;width: 50%;}#sk-container-id-10 div.sk-parallel-item:only-child::after {width: 0;}#sk-container-id-10 div.sk-dashed-wrapped {border: 1px dashed gray;margin: 0 0.4em 0.5em 0.4em;box-sizing: border-box;padding-bottom: 0.4em;background-color: white;}#sk-container-id-10 div.sk-label label {font-family: monospace;font-weight: bold;display: inline-block;line-height: 1.2em;}#sk-container-id-10 div.sk-label-container {text-align: center;}#sk-container-id-10 div.sk-container {/* jupyter's `normalize.less` sets `[hidden] { display: none; }` but bootstrap.min.css set `[hidden] { display: none !important; }` so we also need the `!important` here to be able to override the default hidden behavior on the sphinx rendered scikit-learn.org. See: https://github.com/scikit-learn/scikit-learn/issues/21755 */display: inline-block !important;position: relative;}#sk-container-id-10 div.sk-text-repr-fallback {display: none;}</style><div id=\"sk-container-id-10\" class=\"sk-top-container\"><div class=\"sk-text-repr-fallback\"><pre>GradientBoostingClassifier()</pre><b>In a Jupyter environment, please rerun this cell to show the HTML representation or trust the notebook. <br />On GitHub, the HTML representation is unable to render, please try loading this page with nbviewer.org.</b></div><div class=\"sk-container\" hidden><div class=\"sk-item\"><div class=\"sk-estimator sk-toggleable\"><input class=\"sk-toggleable__control sk-hidden--visually\" id=\"sk-estimator-id-12\" type=\"checkbox\" checked><label for=\"sk-estimator-id-12\" class=\"sk-toggleable__label sk-toggleable__label-arrow\">GradientBoostingClassifier</label><div class=\"sk-toggleable__content\"><pre>GradientBoostingClassifier()</pre></div></div></div></div></div>"
      ],
      "text/plain": [
       "GradientBoostingClassifier()"
      ]
     },
     "execution_count": 166,
     "metadata": {},
     "output_type": "execute_result"
    }
   ],
   "source": [
    "gbc_clf.fit(X_train,y_train)"
   ]
  },
  {
   "cell_type": "code",
   "execution_count": 167,
   "id": "183ebb08-4382-4619-aeeb-b2f5c18926a4",
   "metadata": {},
   "outputs": [
    {
     "data": {
      "text/plain": [
       "0.48427672955974843"
      ]
     },
     "execution_count": 167,
     "metadata": {},
     "output_type": "execute_result"
    }
   ],
   "source": [
    "accuracy_score(y_test,gbc_clf.predict(X_test))"
   ]
  },
  {
   "cell_type": "code",
   "execution_count": 169,
   "id": "7ac1e0e8-88a6-4ae4-ac79-e1cfe36f2858",
   "metadata": {},
   "outputs": [],
   "source": [
    "gbc_clf2=GradientBoostingClassifier(learning_rate=0.02,n_estimators=1000,max_depth=1)"
   ]
  },
  {
   "cell_type": "code",
   "execution_count": 170,
   "id": "54b87f10-f8f8-418d-8c18-5f38e3dc8527",
   "metadata": {},
   "outputs": [
    {
     "data": {
      "text/html": [
       "<style>#sk-container-id-11 {color: black;background-color: white;}#sk-container-id-11 pre{padding: 0;}#sk-container-id-11 div.sk-toggleable {background-color: white;}#sk-container-id-11 label.sk-toggleable__label {cursor: pointer;display: block;width: 100%;margin-bottom: 0;padding: 0.3em;box-sizing: border-box;text-align: center;}#sk-container-id-11 label.sk-toggleable__label-arrow:before {content: \"▸\";float: left;margin-right: 0.25em;color: #696969;}#sk-container-id-11 label.sk-toggleable__label-arrow:hover:before {color: black;}#sk-container-id-11 div.sk-estimator:hover label.sk-toggleable__label-arrow:before {color: black;}#sk-container-id-11 div.sk-toggleable__content {max-height: 0;max-width: 0;overflow: hidden;text-align: left;background-color: #f0f8ff;}#sk-container-id-11 div.sk-toggleable__content pre {margin: 0.2em;color: black;border-radius: 0.25em;background-color: #f0f8ff;}#sk-container-id-11 input.sk-toggleable__control:checked~div.sk-toggleable__content {max-height: 200px;max-width: 100%;overflow: auto;}#sk-container-id-11 input.sk-toggleable__control:checked~label.sk-toggleable__label-arrow:before {content: \"▾\";}#sk-container-id-11 div.sk-estimator input.sk-toggleable__control:checked~label.sk-toggleable__label {background-color: #d4ebff;}#sk-container-id-11 div.sk-label input.sk-toggleable__control:checked~label.sk-toggleable__label {background-color: #d4ebff;}#sk-container-id-11 input.sk-hidden--visually {border: 0;clip: rect(1px 1px 1px 1px);clip: rect(1px, 1px, 1px, 1px);height: 1px;margin: -1px;overflow: hidden;padding: 0;position: absolute;width: 1px;}#sk-container-id-11 div.sk-estimator {font-family: monospace;background-color: #f0f8ff;border: 1px dotted black;border-radius: 0.25em;box-sizing: border-box;margin-bottom: 0.5em;}#sk-container-id-11 div.sk-estimator:hover {background-color: #d4ebff;}#sk-container-id-11 div.sk-parallel-item::after {content: \"\";width: 100%;border-bottom: 1px solid gray;flex-grow: 1;}#sk-container-id-11 div.sk-label:hover label.sk-toggleable__label {background-color: #d4ebff;}#sk-container-id-11 div.sk-serial::before {content: \"\";position: absolute;border-left: 1px solid gray;box-sizing: border-box;top: 0;bottom: 0;left: 50%;z-index: 0;}#sk-container-id-11 div.sk-serial {display: flex;flex-direction: column;align-items: center;background-color: white;padding-right: 0.2em;padding-left: 0.2em;position: relative;}#sk-container-id-11 div.sk-item {position: relative;z-index: 1;}#sk-container-id-11 div.sk-parallel {display: flex;align-items: stretch;justify-content: center;background-color: white;position: relative;}#sk-container-id-11 div.sk-item::before, #sk-container-id-11 div.sk-parallel-item::before {content: \"\";position: absolute;border-left: 1px solid gray;box-sizing: border-box;top: 0;bottom: 0;left: 50%;z-index: -1;}#sk-container-id-11 div.sk-parallel-item {display: flex;flex-direction: column;z-index: 1;position: relative;background-color: white;}#sk-container-id-11 div.sk-parallel-item:first-child::after {align-self: flex-end;width: 50%;}#sk-container-id-11 div.sk-parallel-item:last-child::after {align-self: flex-start;width: 50%;}#sk-container-id-11 div.sk-parallel-item:only-child::after {width: 0;}#sk-container-id-11 div.sk-dashed-wrapped {border: 1px dashed gray;margin: 0 0.4em 0.5em 0.4em;box-sizing: border-box;padding-bottom: 0.4em;background-color: white;}#sk-container-id-11 div.sk-label label {font-family: monospace;font-weight: bold;display: inline-block;line-height: 1.2em;}#sk-container-id-11 div.sk-label-container {text-align: center;}#sk-container-id-11 div.sk-container {/* jupyter's `normalize.less` sets `[hidden] { display: none; }` but bootstrap.min.css set `[hidden] { display: none !important; }` so we also need the `!important` here to be able to override the default hidden behavior on the sphinx rendered scikit-learn.org. See: https://github.com/scikit-learn/scikit-learn/issues/21755 */display: inline-block !important;position: relative;}#sk-container-id-11 div.sk-text-repr-fallback {display: none;}</style><div id=\"sk-container-id-11\" class=\"sk-top-container\"><div class=\"sk-text-repr-fallback\"><pre>GradientBoostingClassifier(learning_rate=0.02, max_depth=1, n_estimators=1000)</pre><b>In a Jupyter environment, please rerun this cell to show the HTML representation or trust the notebook. <br />On GitHub, the HTML representation is unable to render, please try loading this page with nbviewer.org.</b></div><div class=\"sk-container\" hidden><div class=\"sk-item\"><div class=\"sk-estimator sk-toggleable\"><input class=\"sk-toggleable__control sk-hidden--visually\" id=\"sk-estimator-id-13\" type=\"checkbox\" checked><label for=\"sk-estimator-id-13\" class=\"sk-toggleable__label sk-toggleable__label-arrow\">GradientBoostingClassifier</label><div class=\"sk-toggleable__content\"><pre>GradientBoostingClassifier(learning_rate=0.02, max_depth=1, n_estimators=1000)</pre></div></div></div></div></div>"
      ],
      "text/plain": [
       "GradientBoostingClassifier(learning_rate=0.02, max_depth=1, n_estimators=1000)"
      ]
     },
     "execution_count": 170,
     "metadata": {},
     "output_type": "execute_result"
    }
   ],
   "source": [
    "gbc_clf2.fit(X_train,y_train)"
   ]
  },
  {
   "cell_type": "code",
   "execution_count": 171,
   "id": "1ba352ef-7a0f-44c0-acf4-930f11d295f6",
   "metadata": {},
   "outputs": [
    {
     "data": {
      "text/plain": [
       "0.5570416994492525"
      ]
     },
     "execution_count": 171,
     "metadata": {},
     "output_type": "execute_result"
    }
   ],
   "source": [
    "accuracy_score(y_train,gbc_clf2.predict(X_train))"
   ]
  },
  {
   "cell_type": "code",
   "execution_count": 172,
   "id": "178aac6b-5457-48ce-a57b-d7e145ed4bc8",
   "metadata": {},
   "outputs": [
    {
     "data": {
      "text/plain": [
       "0.5157232704402516"
      ]
     },
     "execution_count": 172,
     "metadata": {},
     "output_type": "execute_result"
    }
   ],
   "source": [
    "accuracy_score(y_test,gbc_clf2.predict(X_test))"
   ]
  },
  {
   "cell_type": "markdown",
   "id": "c4bdfa54-eacb-4aa8-b00a-97ca7592ca6c",
   "metadata": {},
   "source": [
    "### 1. Your views about the problem statement?"
   ]
  },
  {
   "cell_type": "markdown",
   "id": "51f95f1a-67c4-48b8-bbc9-ce741f2bcb62",
   "metadata": {},
   "source": [
    "The problem statement revolves around creating a machine learning model to predict the salary of newly hired employees based on given data. Here are my views on this problem statement.\n",
    "\n",
    "1.Relevance: Predicting employee salaries is a common and important task for companies during the hiring process. A well-trained model can assist in making informed decisions about salary negotiations and budgeting.\n",
    "\n",
    "2.Data Availability: The success of the model depends on the availability and quality of the data provided. Factors such as educational qualifications, years of experience, job role, and possibly additional features like location or industry can influence salary predictions.\n",
    "\n",
    "3.Model Complexity: The complexity of the model depends on the nature of the data and the desired accuracy. Linear regression models might be sufficient for simpler relationships between features and salaries, while more complex models like decision trees, random forests, or bagging might be needed for non-linear relationships.\n",
    "\n",
    "4.Continuous Improvement: Once the initial model is built, it's essential to continuously evaluate and improve its performance. This may involve feature engineering, trying different algorithms, hyperparameter tuning, or collecting additional data."
   ]
  },
  {
   "cell_type": "markdown",
   "id": "276ba431-7f6f-4b83-82a8-9a92ca143ffc",
   "metadata": {},
   "source": [
    "### 2. What will be your approach to solving this task?"
   ]
  },
  {
   "cell_type": "markdown",
   "id": "9654daeb-7f43-4236-bc86-1c6fb5246f04",
   "metadata": {},
   "source": [
    "To address the task of predicting employee salaries, I would follow these steps:\n",
    "\n",
    "1.Data Collection: Gather relevant data about current employees, including features such as education level, years of experience, job role, department, location, and any other factors that might influence salary.\n",
    "\n",
    "2.Data Preprocessing:\n",
    "  1.Handle missing values: Impute or remove missing data appropriately.\n",
    "  2.Encode categorical variables: Convert categorical variables into numerical representations using techniques like one-hot encoding or label encoding.\n",
    "  3.Scale features: Standardize or normalize numerical features to ensure they have a similar scale.\n",
    "\n",
    "3.Feature Engineering:\n",
    "Create new features: Derive additional features that might be useful predictors of salary, such as educational qualification level, years of experience in the industry, etc.\n",
    "Select relevant features: Use feature selection techniques to identify the most important features that contribute to predicting salary.\n",
    "\n",
    "4.Model Selection:\n",
    "Choose appropriate regression algorithms: Consider linear regression, decision trees, random forests, Knn, bagging, and other regression techniques.\n",
    "\n",
    "5.Model Training and Hyperparameter Tuning:\n",
    "  1.Train the selected models on the training data.\n",
    "  2.Tune hyperparameters using techniques like grid search or random search to optimize model performance.\n",
    "\n",
    "6.Deployment and Monitoring:\n",
    "  1.Deploy the selected model into production.\n",
    "  2.Monitor the model's performance over time and retrain it periodically with new data to ensure its accuracy and relevance.\n",
    "\n",
    "By following this approach, we can develop a robust machine learning model that accurately predicts employee salaries based on the given data, providing valuable insights for the company's hiring and budgeting decisions."
   ]
  },
  {
   "cell_type": "markdown",
   "id": "569d3ac8-833b-4b22-8841-f0bf91a88f07",
   "metadata": {},
   "source": [
    "### 3. What were the available ML model options you had to perform this task?"
   ]
  },
  {
   "cell_type": "markdown",
   "id": "f8fa7d10-6b7f-47c1-99d1-f9e88ed1a078",
   "metadata": {},
   "source": [
    "For predicting employee salaries, there are several machine learning model options available. Here are some of the commonly used ones:\n",
    "\n",
    "1.Linear Regression: A simple and interpretable model that assumes a linear relationship between features and target variable. It's suitable for problems with linear relationships and provides coefficients for each feature.\n",
    "\n",
    "2.Decision Tree Regression: A non-linear model that partitions the feature space into regions and predicts the target variable based on the average of the target values in each region. It's capable of capturing non-linear relationships but can be prone to overfitting.\n",
    "\n",
    "3.Random Forest: An ensemble learning method that builds multiple decision trees and averages their predictions to improve accuracy and reduce overfitting. It's robust and can handle a large number of features.\n",
    "\n",
    "4.Gradient Boosting: Another ensemble learning method that builds decision trees sequentially, where each tree corrects the errors of the previous ones. It's powerful and often produces very accurate predictions.\n",
    "\n",
    "5.K-Nearest Neighbors(KNN): A non-parametric method that predicts the target variable based on the average of the k-nearest neighbors in the feature space. It's simple and effective but can be computationally expensive for large datasets."
   ]
  },
  {
   "cell_type": "markdown",
   "id": "a15d9e8d-7259-4315-83b2-335f9f089006",
   "metadata": {},
   "source": [
    "### 4. Which model’s performance is best and what could be the possible reason for that?"
   ]
  },
  {
   "cell_type": "markdown",
   "id": "2086112f-442e-4533-89b1-cd98904f3ad2",
   "metadata": {},
   "source": [
    "Gradient Boosting is a powerful ensemble learning technique that combines the predictions of multiple weak learners (typically decision trees) to produce a strong predictive model. Here's why Gradient Boosting has perform well for predicting employee salaries:\n",
    "\n",
    "Reason:\n",
    "1.Model Flexibility: Gradient Boosting can capture complex non-linear relationships between features and salaries. It builds trees sequentially, where each tree corrects the errors of the previous ones, resulting in a highly flexible and adaptive model.\n",
    "\n",
    "2.Robustness to Overfitting: Gradient Boosting uses techniques like shrinkage (learning rate) and tree depth regularization to prevent overfitting. By controlling the complexity of individual trees and the contribution of each tree to the final ensemble, Gradient Boosting can generalize well to unseen data.\n",
    "\n",
    "3.Feature Importance: Gradient Boosting provides insights into feature importance, allowing you to identify the most influential features for predicting salaries. This can help in understanding the factors that drive salary variations within the dataset.\n",
    "\n",
    "4.Handling Heterogeneous Data: Gradient Boosting can handle a wide range of data types and distributions, making it suitable for datasets with mixed feature types (categorical and numerical) and skewed distributions.\n",
    "\n",
    "5.Performance: Gradient Boosting often achieves high performance in terms of accuracy and generalization ability. It is a popular choice in various machine learning competitions and real-world applications due to its effectiveness.\n",
    "\n",
    "Overall, Gradient Boosting is a versatile and powerful algorithm that can effectively model the complexities of predicting employee salaries, making it a strong candidate for this task. Its ability to handle non-linear relationships, prevent overfitting, and provide insights into feature importance makes it a compelling choice for predictive modeling tasks."
   ]
  },
  {
   "cell_type": "markdown",
   "id": "07993022-c999-42b6-ae9a-d1e5a0945ce2",
   "metadata": {},
   "source": [
    "### 5. What steps can you take to improve this selected model’s performance even further?"
   ]
  },
  {
   "cell_type": "markdown",
   "id": "7b7142ec-e371-4e98-be60-e39f26bb9587",
   "metadata": {},
   "source": [
    "To further improve the performance of the selected Gradient Boosting model, several steps can be taken:\n",
    "\n",
    "1.Hyperparameter Tuning:\n",
    "Perform grid search or randomized search to find the optimal hyperparameters for the Gradient Boosting model.Tune parameters such as learning rate, tree depth, number of trees (n_estimators), subsample ratio, and regularization parameters.Consider using techniques like early stopping to prevent overfitting and reduce training time.\n",
    "\n",
    "2.Feature Engineering:\n",
    "Explore additional feature engineering techniques to create new informative features.Transform existing features using techniques such as binning, scaling, or normalization.Consider incorporating interaction terms or polynomial features to capture complex relationships between features.\n",
    "\n",
    "3.Ensemble Techniques:\n",
    "Experiment with different ensemble techniques such as stacking or blending to combine multiple Gradient Boosting models or other types of models.\n",
    "Use model stacking to leverage the strengths of different models and improve overall predictive performance.\n",
    "\n",
    "4.Regularization:\n",
    "Apply regularization techniques such as L1 (Lasso) or L2 (Ridge) regularization to prevent overfitting and improve generalization performance.\n",
    "Experiment with different regularization strengths to find the optimal balance between bias and variance.\n",
    "\n",
    "5.Feature Selection:\n",
    "Use feature selection techniques such as recursive feature elimination (RFE) or feature importance ranking to identify the most relevant features.\n",
    "Remove irrelevant or redundant features that may introduce noise or reduce model performance.\n",
    "\n",
    "6.Cross-Validation:\n",
    "Implement robust cross-validation strategies such as k-fold cross-validation to evaluate model performance and ensure generalization.\n",
    "Perform nested cross-validation to accurately estimate the model's performance and avoid overfitting during hyperparameter tuning.\n",
    "\n",
    "7.Model Interpretability:\n",
    "Utilize techniques such as partial dependence plots, SHAP (Shapley Additive explanations), or LIME (Local Interpretable Model-agnostic Explanations) to interpret and explain the model's predictions.Gain insights into how different features contribute to the model's predictions and identify potential areas for improvement.\n",
    "\n",
    "By systematically implementing these steps and continuously iterating on the model, you can further enhance the performance of the selected Gradient Boosting model and achieve better predictive accuracy."
   ]
  },
  {
   "cell_type": "markdown",
   "id": "198a67e8-2b6f-4e10-a426-a7aa0b2dbe17",
   "metadata": {},
   "source": [
    "# THANK YOU!!!"
   ]
  }
 ],
 "metadata": {
  "kernelspec": {
   "display_name": "Python 3 (ipykernel)",
   "language": "python",
   "name": "python3"
  },
  "language_info": {
   "codemirror_mode": {
    "name": "ipython",
    "version": 3
   },
   "file_extension": ".py",
   "mimetype": "text/x-python",
   "name": "python",
   "nbconvert_exporter": "python",
   "pygments_lexer": "ipython3",
   "version": "3.11.7"
  }
 },
 "nbformat": 4,
 "nbformat_minor": 5
}
